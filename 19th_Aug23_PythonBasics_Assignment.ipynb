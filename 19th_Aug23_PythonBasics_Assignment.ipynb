{
 "cells": [
  {
   "cell_type": "code",
   "execution_count": 1,
   "id": "773e33fc-04a1-48df-a037-6aaf03d6543b",
   "metadata": {},
   "outputs": [],
   "source": [
    "# Question 1 "
   ]
  },
  {
   "cell_type": "code",
   "execution_count": 7,
   "id": "58224366-72a0-4c9d-8c5f-d6f2bc3ecf43",
   "metadata": {},
   "outputs": [
    {
     "name": "stdout",
     "output_type": "stream",
     "text": [
      "Value of x is  20 Value of y is 10\n"
     ]
    }
   ],
   "source": [
    "x = 10 \n",
    "y = 20\n",
    "\n",
    "x = x+y\n",
    "y = x-y\n",
    "x = x-y\n",
    "print(\"Value of x is \", x ,\"Value of y is\",y)\n",
    "\n"
   ]
  },
  {
   "cell_type": "code",
   "execution_count": 8,
   "id": "97de0389-9866-48a2-a210-9e66a677837c",
   "metadata": {},
   "outputs": [],
   "source": [
    "# Question 2"
   ]
  },
  {
   "cell_type": "code",
   "execution_count": 14,
   "id": "0cd66ea1-ca5b-4439-a7d1-089ceeef5f4e",
   "metadata": {},
   "outputs": [
    {
     "name": "stdin",
     "output_type": "stream",
     "text": [
      "Enter lenth of rectangle: 10\n",
      "Enter breadth of rectangle: 20\n"
     ]
    },
    {
     "name": "stdout",
     "output_type": "stream",
     "text": [
      "Area of rectangle 400\n"
     ]
    }
   ],
   "source": [
    "length = int(input(\"Enter lenth of rectangle:\"))\n",
    "breadth = int(input(\"Enter breadth of rectangle:\"))\n",
    "area = lenth*breadth\n",
    "print(\"Area of rectangle\",area)"
   ]
  },
  {
   "cell_type": "code",
   "execution_count": 10,
   "id": "ebe72d26-fe19-490d-9e53-306c05a9f3e3",
   "metadata": {},
   "outputs": [],
   "source": [
    "# Question 3 "
   ]
  },
  {
   "cell_type": "code",
   "execution_count": 12,
   "id": "94e3c722-47a1-4bef-9f4c-384c2e1ca1f8",
   "metadata": {},
   "outputs": [
    {
     "name": "stdin",
     "output_type": "stream",
     "text": [
      "Enter the temperatures in celsius: 22\n"
     ]
    },
    {
     "name": "stdout",
     "output_type": "stream",
     "text": [
      " 22.00 C =  71.60 F \n"
     ]
    }
   ],
   "source": [
    "celsius = float(input(\"Enter the temperatures in celsius:\"))\n",
    "fahrenheit = (celsius * 1.8) + 32\n",
    "print(\"% .2f C = % .2f F \" % (celsius,fahrenheit))\n"
   ]
  },
  {
   "cell_type": "code",
   "execution_count": 13,
   "id": "b7ab4619-6064-4727-a909-7303aacc276f",
   "metadata": {},
   "outputs": [],
   "source": [
    "##TOPIC: String Based Questions"
   ]
  },
  {
   "cell_type": "code",
   "execution_count": 15,
   "id": "4f4ba188-d3cf-49ff-997f-93baecb7a041",
   "metadata": {},
   "outputs": [],
   "source": [
    "# Question 1 "
   ]
  },
  {
   "cell_type": "code",
   "execution_count": 17,
   "id": "b415947d-078b-40bb-898a-9f7d2bd74478",
   "metadata": {},
   "outputs": [
    {
     "name": "stdin",
     "output_type": "stream",
     "text": [
      "Enter the string shama\n"
     ]
    },
    {
     "name": "stdout",
     "output_type": "stream",
     "text": [
      "5\n"
     ]
    }
   ],
   "source": [
    "string = input(\"Enter the string\")\n",
    "print(len(string))"
   ]
  },
  {
   "cell_type": "code",
   "execution_count": null,
   "id": "5545acaf-4884-4dde-9ccd-16ebaf439a0e",
   "metadata": {},
   "outputs": [],
   "source": [
    "# Question 2"
   ]
  },
  {
   "cell_type": "code",
   "execution_count": 7,
   "id": "b658acbb-a4b8-4130-9cf3-d4432f29374c",
   "metadata": {},
   "outputs": [
    {
     "name": "stdin",
     "output_type": "stream",
     "text": [
      "Enter the sentence:  welcome the datascience class\n"
     ]
    },
    {
     "name": "stdout",
     "output_type": "stream",
     "text": [
      "Total number of vowels is : 10\n"
     ]
    }
   ],
   "source": [
    "sentence = input(\"Enter the sentence: \")\n",
    "count=0\n",
    "vowels = ['a','e','i','o','u']\n",
    "for char in sentence:\n",
    "    if char in vowels:\n",
    "        count= count+1\n",
    "print(\"Total number of vowels is :\",count)\n",
    "\n",
    "    "
   ]
  },
  {
   "cell_type": "code",
   "execution_count": null,
   "id": "837e0f35-a4f0-44a9-b631-6f890a8a49da",
   "metadata": {},
   "outputs": [],
   "source": [
    "#Question 3"
   ]
  },
  {
   "cell_type": "code",
   "execution_count": 10,
   "id": "97fb39f2-012b-4734-be46-c6199a61e095",
   "metadata": {},
   "outputs": [
    {
     "name": "stdin",
     "output_type": "stream",
     "text": [
      "Enter the string:  shama perween\n"
     ]
    },
    {
     "name": "stdout",
     "output_type": "stream",
     "text": [
      "neewrep amahs\n"
     ]
    }
   ],
   "source": [
    "string = input(\"Enter the string: \")\n",
    "string_slicing = string[-1::-1]\n",
    "print(string_slicing)"
   ]
  },
  {
   "cell_type": "code",
   "execution_count": 11,
   "id": "e57ae1c0-d256-49bd-b421-3423050661c8",
   "metadata": {},
   "outputs": [],
   "source": [
    "#Question 4"
   ]
  },
  {
   "cell_type": "code",
   "execution_count": 4,
   "id": "658d79ac-ff22-45d3-afe7-ac2a1d83a217",
   "metadata": {},
   "outputs": [
    {
     "name": "stdin",
     "output_type": "stream",
     "text": [
      "Enter string:  level\n"
     ]
    },
    {
     "name": "stdout",
     "output_type": "stream",
     "text": [
      "level\n",
      "This is palindrome string\n"
     ]
    }
   ],
   "source": [
    "string1 = input(\"Enter string: \")\n",
    "palindrome = string1[::-1]\n",
    "print(palindrome)\n",
    "if(string1==palindrome):\n",
    "    print(\"This is palindrome string\")\n",
    "else:\n",
    "    print(\"This is not palindrome string\")\n"
   ]
  },
  {
   "cell_type": "code",
   "execution_count": 28,
   "id": "d679418f-bd5b-4d8c-a752-41a05f9667d7",
   "metadata": {},
   "outputs": [],
   "source": [
    "#Question 5 "
   ]
  },
  {
   "cell_type": "code",
   "execution_count": 2,
   "id": "61d729c3-27e6-4cc1-9dfe-91db03351144",
   "metadata": {},
   "outputs": [
    {
     "name": "stdin",
     "output_type": "stream",
     "text": [
      "Enter the number:  hiii world\n"
     ]
    },
    {
     "name": "stdout",
     "output_type": "stream",
     "text": [
      "hiiiworld\n"
     ]
    }
   ],
   "source": [
    "string2 = input(\"Enter the number: \")\n",
    "string2 = string2.replace(\" \",\"\")\n",
    "print(string2)"
   ]
  },
  {
   "cell_type": "code",
   "execution_count": null,
   "id": "bf403940-c9fc-4a7c-95d4-bf5a90550bf6",
   "metadata": {},
   "outputs": [],
   "source": []
  }
 ],
 "metadata": {
  "kernelspec": {
   "display_name": "Python 3 (ipykernel)",
   "language": "python",
   "name": "python3"
  },
  "language_info": {
   "codemirror_mode": {
    "name": "ipython",
    "version": 3
   },
   "file_extension": ".py",
   "mimetype": "text/x-python",
   "name": "python",
   "nbconvert_exporter": "python",
   "pygments_lexer": "ipython3",
   "version": "3.10.8"
  }
 },
 "nbformat": 4,
 "nbformat_minor": 5
}
