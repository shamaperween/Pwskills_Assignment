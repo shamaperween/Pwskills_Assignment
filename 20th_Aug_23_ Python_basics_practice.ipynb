{
 "cells": [
  {
   "cell_type": "code",
   "execution_count": 1,
   "id": "e27fa106-e546-4977-89f0-32ef64413fc8",
   "metadata": {},
   "outputs": [],
   "source": [
    "#TOPIC: String Based Assignment Problem"
   ]
  },
  {
   "cell_type": "code",
   "execution_count": 2,
   "id": "995fa4d3-ca10-43c7-b171-d5214bceff93",
   "metadata": {},
   "outputs": [],
   "source": [
    "#Question 1. Write a program to reverse a string."
   ]
  },
  {
   "cell_type": "code",
   "execution_count": 3,
   "id": "96c30842-cb60-4f98-a232-3ea89e006067",
   "metadata": {},
   "outputs": [
    {
     "name": "stdin",
     "output_type": "stream",
     "text": [
      "Enter  the string shama\n"
     ]
    },
    {
     "name": "stdout",
     "output_type": "stream",
     "text": [
      "The reversed string is:  amahs\n"
     ]
    }
   ],
   "source": [
    "string = input(\"Enter  the string\")\n",
    "string = string[::-1]\n",
    "print(\"The reversed string is: \",string)"
   ]
  },
  {
   "cell_type": "code",
   "execution_count": 4,
   "id": "ff7c443a-93fe-4378-aae1-17a320b2a532",
   "metadata": {},
   "outputs": [],
   "source": [
    "#Question 2. Check if a string is a palindrome."
   ]
  },
  {
   "cell_type": "code",
   "execution_count": 8,
   "id": "3ad68a66-0650-4eba-afbf-80ec96df4675",
   "metadata": {},
   "outputs": [
    {
     "name": "stdin",
     "output_type": "stream",
     "text": [
      "Enter the string madam\n"
     ]
    },
    {
     "name": "stdout",
     "output_type": "stream",
     "text": [
      "The string is a palindrome\n"
     ]
    }
   ],
   "source": [
    "string1 = input(\"Enter the string\")\n",
    "palindrome = string1[::-1]\n",
    "if(string1==palindrome):\n",
    "    print(\"The string is a palindrome\")\n",
    "else:\n",
    "    print(\"The string is not a palindrome\")\n"
   ]
  },
  {
   "cell_type": "code",
   "execution_count": 9,
   "id": "9986958f-50a5-4199-8b01-810923d6cdeb",
   "metadata": {},
   "outputs": [],
   "source": [
    "#Question 3. Convert a string to uppercase."
   ]
  },
  {
   "cell_type": "code",
   "execution_count": 10,
   "id": "9a4bd805-f9b0-4b65-b869-7fd54905ab76",
   "metadata": {},
   "outputs": [
    {
     "name": "stdin",
     "output_type": "stream",
     "text": [
      "Enter the string shama\n"
     ]
    },
    {
     "name": "stdout",
     "output_type": "stream",
     "text": [
      "this converted string in uppercase: SHAMA\n"
     ]
    }
   ],
   "source": [
    "string2 = input(\"Enter the string\")\n",
    "string2 = string2.upper()\n",
    "print(\"this converted string in uppercase:\",string2)"
   ]
  },
  {
   "cell_type": "code",
   "execution_count": 11,
   "id": "7fd11906-1e9b-4b0c-8834-8230f0947455",
   "metadata": {},
   "outputs": [],
   "source": [
    "#Question 4. Convert a string to lowercase."
   ]
  },
  {
   "cell_type": "code",
   "execution_count": 13,
   "id": "bb916834-38d9-48cb-9146-f0b4547320e6",
   "metadata": {},
   "outputs": [
    {
     "name": "stdin",
     "output_type": "stream",
     "text": [
      "Enter the string shama\n"
     ]
    },
    {
     "name": "stdout",
     "output_type": "stream",
     "text": [
      "This string is converted in lowercase:  shama\n"
     ]
    }
   ],
   "source": [
    "string3 = input(\"Enter the string\")\n",
    "string3 = string3.lower()\n",
    "print(\"This string is converted in lowercase: \",string3)"
   ]
  },
  {
   "cell_type": "code",
   "execution_count": 14,
   "id": "d41e420c-7af6-42e6-9ce9-14609d97dcd6",
   "metadata": {},
   "outputs": [],
   "source": [
    "#Question 5. Count the number of vowels in a string."
   ]
  },
  {
   "cell_type": "code",
   "execution_count": 27,
   "id": "4e48352c-9087-4a86-9439-e811851ed624",
   "metadata": {},
   "outputs": [
    {
     "name": "stdin",
     "output_type": "stream",
     "text": [
      "Enter the string shama\n"
     ]
    },
    {
     "name": "stdout",
     "output_type": "stream",
     "text": [
      "Total vowels are:  2\n"
     ]
    }
   ],
   "source": [
    "string4 = input(\"Enter the string\")\n",
    "vowels = [string4.count(x) for x in \"aeiou\"]\n",
    "print(\"Total vowels are: \",sum(vowels))"
   ]
  },
  {
   "cell_type": "code",
   "execution_count": 24,
   "id": "707bf837-c441-47ab-af58-e0d683b1c4e4",
   "metadata": {},
   "outputs": [],
   "source": [
    "#Question 6. Count the number of consonants in a string."
   ]
  },
  {
   "cell_type": "code",
   "execution_count": 25,
   "id": "9d6acf98-7845-45b3-9271-1b4cb306634d",
   "metadata": {},
   "outputs": [
    {
     "name": "stdin",
     "output_type": "stream",
     "text": [
      "Enter the string shama\n"
     ]
    },
    {
     "name": "stdout",
     "output_type": "stream",
     "text": [
      "Total consonants are:-  3\n"
     ]
    }
   ],
   "source": [
    "string5 = input(\"Enter the string\")\n",
    "vowels = 'aeiou'\n",
    "result= ''\n",
    "for i in string:\n",
    "    if i not in vowels:\n",
    "        result +=i\n",
    "print(\"Total consonants are:- \", len(result))        "
   ]
  },
  {
   "cell_type": "code",
   "execution_count": 28,
   "id": "f59f1430-0cbf-4a9c-8031-1409179b60dd",
   "metadata": {},
   "outputs": [],
   "source": [
    "#Question 7. Remove all whitespaces from a string."
   ]
  },
  {
   "cell_type": "code",
   "execution_count": 32,
   "id": "b5e83091-ef49-4b31-8c26-e7c667b050b6",
   "metadata": {},
   "outputs": [
    {
     "name": "stdin",
     "output_type": "stream",
     "text": [
      "Enter the string hello world\n"
     ]
    },
    {
     "name": "stdout",
     "output_type": "stream",
     "text": [
      "helloworld\n"
     ]
    }
   ],
   "source": [
    "string6 = input(\"Enter the string\")\n",
    "string6 = string6.replace(\" \",\"\")\n",
    "print(string6)"
   ]
  },
  {
   "cell_type": "code",
   "execution_count": 33,
   "id": "f23203aa-784e-4a6f-806a-c8ba47477630",
   "metadata": {},
   "outputs": [],
   "source": [
    "#Question 8. Find the length of a string without using the `len()` function."
   ]
  },
  {
   "cell_type": "code",
   "execution_count": 34,
   "id": "5afdaba0-4472-412a-8e6d-60224b8f201b",
   "metadata": {},
   "outputs": [
    {
     "name": "stdin",
     "output_type": "stream",
     "text": [
      "Enter the string shama\n"
     ]
    },
    {
     "name": "stdout",
     "output_type": "stream",
     "text": [
      "Total lenth of string is:  5\n"
     ]
    }
   ],
   "source": [
    "string7 = input(\"Enter the string\")\n",
    "count = 0 \n",
    "for i in string:\n",
    "    count+=1\n",
    "print(\"Total lenth of string is: \",count)    "
   ]
  },
  {
   "cell_type": "code",
   "execution_count": 35,
   "id": "c1b77873-4430-4ccf-9437-f4a17cebce9f",
   "metadata": {},
   "outputs": [],
   "source": [
    "#Question 9. Check if a string contains a specific word."
   ]
  },
  {
   "cell_type": "code",
   "execution_count": 37,
   "id": "4fa329cb-e513-4524-bc0b-f12bbfd453cf",
   "metadata": {},
   "outputs": [
    {
     "name": "stdout",
     "output_type": "stream",
     "text": [
      "pw skills in string\n"
     ]
    }
   ],
   "source": [
    "string8 = \"Welcome to PW Skills class\"\n",
    "if \"PW Skills\" in string8:\n",
    "    print(\"pw skills in string\")\n",
    "else:\n",
    "    print(\"pw skills is not in string\")"
   ]
  },
  {
   "cell_type": "code",
   "execution_count": 38,
   "id": "c1d4b7e3-075d-4661-8a24-381bc9b7b674",
   "metadata": {},
   "outputs": [],
   "source": [
    "#Question 10. Replace a word in a string with another word."
   ]
  },
  {
   "cell_type": "code",
   "execution_count": 39,
   "id": "d8fc6a68-eb26-4f27-8754-e86a742c996c",
   "metadata": {},
   "outputs": [
    {
     "name": "stdout",
     "output_type": "stream",
     "text": [
      "This is word replace string: Welcome to PW Skills lab\n"
     ]
    }
   ],
   "source": [
    "string9 = \"Welcome to PW Skills class\"\n",
    "string9 = string9.replace(\"class\",\"lab\")\n",
    "print(\"This is word replace string:\",string9)"
   ]
  },
  {
   "cell_type": "code",
   "execution_count": 1,
   "id": "5930bfbe-afe9-438f-8e1a-e3f1161a5573",
   "metadata": {},
   "outputs": [],
   "source": [
    "#Question 11. Count the occurrences of a word in a string."
   ]
  },
  {
   "cell_type": "code",
   "execution_count": 5,
   "id": "06a3a2a2-2ef5-4504-9221-c7d3d3da81d3",
   "metadata": {},
   "outputs": [
    {
     "name": "stdin",
     "output_type": "stream",
     "text": [
      "Enter the string hello welcome welcome pw skillls class\n"
     ]
    },
    {
     "name": "stdout",
     "output_type": "stream",
     "text": [
      "hello welcome welcome pw skillls class\n",
      "['hello', 'welcome', 'welcome', 'pw', 'skillls', 'class']\n",
      "Total word occurrences in string: hello 1\n",
      "Total word occurrences in string: welcome 2\n",
      "Total word occurrences in string: welcome 2\n",
      "Total word occurrences in string: pw 1\n",
      "Total word occurrences in string: skillls 1\n",
      "Total word occurrences in string: class 1\n"
     ]
    }
   ],
   "source": [
    "string10 = input(\"Enter the string\")\n",
    "print(string10)\n",
    "string10 = string10.split(\" \")\n",
    "print(string10)\n",
    "for i in string10:\n",
    "    print(\"Total word occurrences in string:\",i,string10.count(i))\n"
   ]
  },
  {
   "cell_type": "code",
   "execution_count": 6,
   "id": "46d74fc5-bd22-4cec-926d-34028079c29b",
   "metadata": {},
   "outputs": [],
   "source": [
    "#Question 12. Find the first occurrence of a word in a string."
   ]
  },
  {
   "cell_type": "code",
   "execution_count": null,
   "id": "8486865a-42f2-4d50-9eab-c3b3761faa37",
   "metadata": {},
   "outputs": [],
   "source": []
  },
  {
   "cell_type": "code",
   "execution_count": 7,
   "id": "e6496604-6888-453e-9a46-1e0a4ab32857",
   "metadata": {},
   "outputs": [],
   "source": [
    "#Question 13. Find the last occurrence of a word in a string."
   ]
  },
  {
   "cell_type": "code",
   "execution_count": null,
   "id": "75d563a3-f51e-4a7f-a912-cc3340957f06",
   "metadata": {},
   "outputs": [],
   "source": []
  },
  {
   "cell_type": "code",
   "execution_count": 8,
   "id": "743a7018-5729-4ca5-95c7-7f4d7d2a2e51",
   "metadata": {},
   "outputs": [],
   "source": [
    "#Question 14. Split a string into a list of words."
   ]
  },
  {
   "cell_type": "code",
   "execution_count": 9,
   "id": "5aaa799d-744d-4817-9793-e62fd202c291",
   "metadata": {},
   "outputs": [
    {
     "name": "stdin",
     "output_type": "stream",
     "text": [
      "Enter the string welcome to pwskills class\n"
     ]
    },
    {
     "name": "stdout",
     "output_type": "stream",
     "text": [
      "['welcome', 'to', 'pwskills', 'class']\n"
     ]
    }
   ],
   "source": [
    "string14 = input(\"Enter the string\")\n",
    "string14 = string14.split()\n",
    "print(string14)"
   ]
  },
  {
   "cell_type": "code",
   "execution_count": 10,
   "id": "649fb591-dfd2-44b8-9934-8645b1d8f46f",
   "metadata": {},
   "outputs": [],
   "source": [
    "#Question 15. Join a list of words into a string."
   ]
  },
  {
   "cell_type": "code",
   "execution_count": 4,
   "id": "8c3f93ee-9427-4b1d-9519-92427fbd297b",
   "metadata": {},
   "outputs": [
    {
     "name": "stdout",
     "output_type": "stream",
     "text": [
      "join a list of words into a string.\n"
     ]
    }
   ],
   "source": [
    "String15 = [\"join\",\"a\",\"list\",\"of\",\"words\",\"into\",\"a\",\"string.\"]\n",
    "print(\" \".join(map(str,String15)))"
   ]
  },
  {
   "cell_type": "code",
   "execution_count": 1,
   "id": "e9b04fdd-f4a3-4202-a066-3772160b42e5",
   "metadata": {},
   "outputs": [],
   "source": [
    "#Question 16. Convert a string where words are separated by spaces to one where words\n",
    "#are separated by underscores."
   ]
  },
  {
   "cell_type": "code",
   "execution_count": null,
   "id": "2d1f8dd1-9df1-4046-a9b3-b5b989e659ae",
   "metadata": {},
   "outputs": [],
   "source": []
  },
  {
   "cell_type": "code",
   "execution_count": 2,
   "id": "7fa03ee8-e360-4c0c-a117-8feb4c68cb85",
   "metadata": {},
   "outputs": [],
   "source": [
    "#Question 17. Check if a string starts with a specific word or phrase."
   ]
  },
  {
   "cell_type": "code",
   "execution_count": 5,
   "id": "6b993436-6d80-42cc-ac24-b10c87049451",
   "metadata": {},
   "outputs": [
    {
     "name": "stdout",
     "output_type": "stream",
     "text": [
      "The input string start with the given prefix: True\n"
     ]
    }
   ],
   "source": [
    "string17 = \"Check if a string starts with a specific word or phrase\"\n",
    "prefix = string17.startswith('Check')\n",
    "print(\"The input string start with the given prefix:\",prefix)"
   ]
  },
  {
   "cell_type": "code",
   "execution_count": 6,
   "id": "55ceda89-6a75-4c00-9890-2e71635e2c1a",
   "metadata": {},
   "outputs": [],
   "source": [
    "#Question 18. Check if a string ends with a specific word or phrase."
   ]
  },
  {
   "cell_type": "code",
   "execution_count": 7,
   "id": "0ed8eaa8-8161-4cfd-82e5-4963d51dbfcc",
   "metadata": {},
   "outputs": [
    {
     "name": "stdout",
     "output_type": "stream",
     "text": [
      "The input string ends with the given suffix: True\n"
     ]
    }
   ],
   "source": [
    "string18 = \"Check if a string ends with a specific word or phrase\"\n",
    "suffix = \"rase\"\n",
    "result=string18.endswith(suffix)\n",
    "print(\"The input string ends with the given suffix:\", result)"
   ]
  },
  {
   "cell_type": "code",
   "execution_count": 8,
   "id": "0bd68b00-a985-4af1-a7b6-517479974884",
   "metadata": {},
   "outputs": [],
   "source": [
    "#Question 19. Convert a string to title case."
   ]
  },
  {
   "cell_type": "code",
   "execution_count": 9,
   "id": "456856d8-ace7-4a9a-9bd5-600da1bfe07f",
   "metadata": {},
   "outputs": [
    {
     "name": "stdin",
     "output_type": "stream",
     "text": [
      "Enter the string hello world\n"
     ]
    },
    {
     "name": "stdout",
     "output_type": "stream",
     "text": [
      "input string coverted to title case:  Hello World\n"
     ]
    }
   ],
   "source": [
    "string19 = input(\"Enter the string\")\n",
    "result = string19.title()\n",
    "print(\"input string coverted to title case: \",result)"
   ]
  },
  {
   "cell_type": "code",
   "execution_count": 10,
   "id": "ec5beb72-4890-4e87-b6cd-a99c0b17f2ab",
   "metadata": {},
   "outputs": [],
   "source": [
    "#Question 20. Find the longest word in a string."
   ]
  },
  {
   "cell_type": "code",
   "execution_count": 14,
   "id": "343c4266-4016-4f93-b3f7-a11435336c51",
   "metadata": {},
   "outputs": [
    {
     "name": "stdin",
     "output_type": "stream",
     "text": [
      "Enter string :  helllo welcome pwskills class\n"
     ]
    },
    {
     "name": "stdout",
     "output_type": "stream",
     "text": [
      "['helllo', 'welcome', 'pwskills', 'class']\n",
      "The longest word in string is :  pwskills\n"
     ]
    }
   ],
   "source": [
    "string20 = input(\"Enter string : \")\n",
    "string20 = string20.split()\n",
    "print(string20)\n",
    "result = max(string20,key=len)\n",
    "print(\"The longest word in string is : \",result)"
   ]
  },
  {
   "cell_type": "code",
   "execution_count": 15,
   "id": "86563b04-5c70-4b7d-bcb8-14d805fd7598",
   "metadata": {},
   "outputs": [],
   "source": [
    "#Question 21. Find the shortest word in a string."
   ]
  },
  {
   "cell_type": "code",
   "execution_count": 18,
   "id": "9d5904ec-e69d-454a-9c16-0a5f780f2731",
   "metadata": {},
   "outputs": [
    {
     "name": "stdin",
     "output_type": "stream",
     "text": [
      "Enter the string:  Find the shortest word in a string\n"
     ]
    },
    {
     "name": "stdout",
     "output_type": "stream",
     "text": [
      "['Find', 'the', 'shortest', 'word', 'in', 'a', 'string']\n",
      "The shortest word in a string is:  a\n"
     ]
    }
   ],
   "source": [
    "string21 = input(\"Enter the string: \")\n",
    "string21 = string21.split()\n",
    "print(string21)\n",
    "result = min(string21,key=len)\n",
    "print(\"The shortest word in a string is: \",result)\n"
   ]
  },
  {
   "cell_type": "code",
   "execution_count": 19,
   "id": "899251f0-8e57-4d88-acbb-59887ea8ea64",
   "metadata": {},
   "outputs": [],
   "source": [
    "#Question 22. Reverse the order of words in a string."
   ]
  },
  {
   "cell_type": "code",
   "execution_count": 22,
   "id": "035dc7aa-3267-46cd-b34b-9bf4cbbc853c",
   "metadata": {},
   "outputs": [
    {
     "name": "stdin",
     "output_type": "stream",
     "text": [
      "Enter the string:  Reverse the order of words in a string\n"
     ]
    },
    {
     "name": "stdout",
     "output_type": "stream",
     "text": [
      "Reverse the order of words in a string:  ['string', 'a', 'in', 'words', 'of', 'order', 'the', 'Reverse']\n"
     ]
    }
   ],
   "source": [
    "string22 = input(\"Enter the string: \")\n",
    "string22 = string22.split()[::-1]\n",
    "print(\"Reverse the order of words in a string: \",string22)"
   ]
  },
  {
   "cell_type": "code",
   "execution_count": 23,
   "id": "4a9233b3-ede9-4cd3-9500-afcb332b6134",
   "metadata": {},
   "outputs": [],
   "source": [
    "#Question 23. Check if a string is alphanumeric."
   ]
  },
  {
   "cell_type": "code",
   "execution_count": 25,
   "id": "53fd7372-d1c9-4265-8f3c-2d75031c2066",
   "metadata": {},
   "outputs": [
    {
     "name": "stdin",
     "output_type": "stream",
     "text": [
      "Enter string:  alphanumeric\n"
     ]
    },
    {
     "name": "stdout",
     "output_type": "stream",
     "text": [
      "Check given string in alphanumeric:  True\n"
     ]
    }
   ],
   "source": [
    "string23 = input(\"Enter string: \")\n",
    "result = string23.isalnum()\n",
    "print(\"Check given string in alphanumeric: \",result)"
   ]
  },
  {
   "cell_type": "code",
   "execution_count": 26,
   "id": "e5a6e482-532c-44a2-8840-581f2581eb66",
   "metadata": {},
   "outputs": [],
   "source": [
    "#Question 24. Extract all digits from a string."
   ]
  },
  {
   "cell_type": "code",
   "execution_count": 31,
   "id": "00c6fbde-0c39-4d8f-95da-96a9b390f66f",
   "metadata": {},
   "outputs": [
    {
     "name": "stdin",
     "output_type": "stream",
     "text": [
      "Enter string:  hello world22\n"
     ]
    },
    {
     "name": "stdout",
     "output_type": "stream",
     "text": [
      "Extracted digits from the string : 22\n"
     ]
    }
   ],
   "source": [
    "string24 = input(\"Enter string: \")\n",
    "num = \"\"\n",
    "for i in string24:\n",
    "    if i.isdigit():\n",
    "        num= num+i\n",
    "print(\"Extracted digits from the string : \" + num) "
   ]
  },
  {
   "cell_type": "code",
   "execution_count": 32,
   "id": "9236a921-7b7f-433e-bf53-162bdd979729",
   "metadata": {},
   "outputs": [],
   "source": [
    "#Question 25. Extract all alphabets from a string."
   ]
  },
  {
   "cell_type": "code",
   "execution_count": 1,
   "id": "654474a1-b451-4c09-9742-2861480a05ac",
   "metadata": {},
   "outputs": [
    {
     "name": "stdin",
     "output_type": "stream",
     "text": [
      "Enter string:  hello 23242 world\n"
     ]
    },
    {
     "name": "stdout",
     "output_type": "stream",
     "text": [
      "Extracted all alphabets from the string:  helloworld\n"
     ]
    }
   ],
   "source": [
    "string25 = input(\"Enter string: \")\n",
    "alpha = \"\"\n",
    "for i in string25:\n",
    "    if i.isalpha():\n",
    "        alpha = alpha+i\n",
    "print(\"Extracted all alphabets from the string: \",alpha)        "
   ]
  },
  {
   "cell_type": "code",
   "execution_count": 2,
   "id": "03fa46c7-3fda-44f7-aac2-0b438e735922",
   "metadata": {},
   "outputs": [],
   "source": [
    "#Question 26. Count the number of uppercase letters in a string."
   ]
  },
  {
   "cell_type": "code",
   "execution_count": 8,
   "id": "9e70053c-0f73-40f0-8bd2-474a5e001c81",
   "metadata": {},
   "outputs": [
    {
     "name": "stdin",
     "output_type": "stream",
     "text": [
      "Enter string:  Shama\n"
     ]
    },
    {
     "name": "stdout",
     "output_type": "stream",
     "text": [
      "The number of uppercase characters is:  1\n"
     ]
    }
   ],
   "source": [
    "string26 = input(\"Enter string: \")\n",
    "uppercase = 0\n",
    "for i in string26:\n",
    "    if i.isupper():\n",
    "        uppercase = uppercase+1\n",
    "print(\"The number of uppercase characters is: \",uppercase)        \n",
    "        "
   ]
  },
  {
   "cell_type": "code",
   "execution_count": 4,
   "id": "d11510d6-3a6a-459d-a7b3-2694d0589698",
   "metadata": {},
   "outputs": [],
   "source": [
    "#Question 27. Count the number of lowercase letters in a string."
   ]
  },
  {
   "cell_type": "code",
   "execution_count": 9,
   "id": "faabf9f7-58c8-4a03-93ce-9250f3c25163",
   "metadata": {},
   "outputs": [
    {
     "name": "stdin",
     "output_type": "stream",
     "text": [
      "Enter string:  Hello\n"
     ]
    },
    {
     "name": "stdout",
     "output_type": "stream",
     "text": [
      "The number of lowercase characters is:  4\n"
     ]
    }
   ],
   "source": [
    "string27 = input(\"Enter string: \")\n",
    "islower = 0\n",
    "for i in string27:\n",
    "    if i.islower():\n",
    "        islower =islower+1\n",
    "print(\"The number of lowercase characters is: \",islower)        "
   ]
  },
  {
   "cell_type": "code",
   "execution_count": 10,
   "id": "cc787a97-ead4-40a1-9441-4f4d41b0a502",
   "metadata": {},
   "outputs": [],
   "source": [
    "#Question 28. Swap the case of each character in a string."
   ]
  },
  {
   "cell_type": "code",
   "execution_count": 11,
   "id": "7b765d75-0391-4f7a-9aec-fbc8a36c4d33",
   "metadata": {},
   "outputs": [
    {
     "name": "stdin",
     "output_type": "stream",
     "text": [
      "Enter string:  hello world\n"
     ]
    },
    {
     "name": "stdout",
     "output_type": "stream",
     "text": [
      "HELLO WORLD\n"
     ]
    }
   ],
   "source": [
    "string28 = input(\"Enter string: \")\n",
    "Swapcase = string28.swapcase()\n",
    "print(Swapcase)"
   ]
  },
  {
   "cell_type": "code",
   "execution_count": 12,
   "id": "f9c4413b-afde-4458-acc9-319293b43e05",
   "metadata": {},
   "outputs": [],
   "source": [
    "#Question 29. Remove a specific word from a string."
   ]
  },
  {
   "cell_type": "code",
   "execution_count": 24,
   "id": "29da37c0-518e-4536-a905-f59364565155",
   "metadata": {},
   "outputs": [
    {
     "name": "stdout",
     "output_type": "stream",
     "text": [
      "Removed a specific word from a string is :  Remove a specific  from a string.\n"
     ]
    }
   ],
   "source": [
    "string29 = \"Remove a specific word from a string.\"\n",
    "srting29 = string29.replace(\"word\",'')\n",
    "print(\"Removed a specific word from a string is : \",srting29)"
   ]
  },
  {
   "cell_type": "code",
   "execution_count": 25,
   "id": "bb58b44b-da6f-47dd-b0a6-46d5f33136d8",
   "metadata": {},
   "outputs": [],
   "source": [
    "#Question 30. Check if a string is a valid email address."
   ]
  },
  {
   "cell_type": "code",
   "execution_count": 14,
   "id": "de8248a5-1bb3-44e3-a183-7198a066aba3",
   "metadata": {},
   "outputs": [
    {
     "name": "stdin",
     "output_type": "stream",
     "text": [
      "Enter the email address:  shama12@gmail.com\n"
     ]
    },
    {
     "name": "stdout",
     "output_type": "stream",
     "text": [
      "valid email\n"
     ]
    }
   ],
   "source": [
    "string30 = input(\"Enter the email address: \")\n",
    "if not \"@\" in string30:\n",
    "    print(\"Invalid email\")\n",
    "elif not string30[-4:] in \".com.org.edu.gov.net\":  \n",
    "    print(\"Invalid email\")\n",
    "else:\n",
    "    print(\"valid email\")"
   ]
  },
  {
   "cell_type": "code",
   "execution_count": 15,
   "id": "a02b668b-6340-43c3-ace0-b5a59a783445",
   "metadata": {},
   "outputs": [],
   "source": [
    "#Question 31. Extract the username from an email address string."
   ]
  },
  {
   "cell_type": "code",
   "execution_count": 15,
   "id": "80ef4e2d-92a1-4ca3-925c-debc4799df50",
   "metadata": {},
   "outputs": [
    {
     "name": "stdin",
     "output_type": "stream",
     "text": [
      "Enter the email address:  shama@gmail.com\n"
     ]
    },
    {
     "name": "stdout",
     "output_type": "stream",
     "text": [
      "Extracted the username from an email address:  shama\n"
     ]
    }
   ],
   "source": [
    "string31 = input(\"Enter the email address: \")\n",
    "if not \"@\" in string31:\n",
    "    print(\"Invalid email\")\n",
    "elif not string31[-4:] in \".com.org.edu.gov.net\":\n",
    "    print(\"Invalid email\")\n",
    "res = string31.split('@')[0]\n",
    "\n",
    "\n",
    "print(\"Extracted the username from an email address: \",res)\n",
    "    "
   ]
  },
  {
   "cell_type": "code",
   "execution_count": 23,
   "id": "cd9112a4-b45f-49a1-b9d3-04e2718b4f5c",
   "metadata": {},
   "outputs": [],
   "source": [
    "#Question 32. Extract the domain name from an email address string."
   ]
  },
  {
   "cell_type": "code",
   "execution_count": 16,
   "id": "09489aa0-1b43-4e1d-8b7e-57d139de5eab",
   "metadata": {},
   "outputs": [
    {
     "name": "stdin",
     "output_type": "stream",
     "text": [
      "Enter the email address:  shama@gmail.com\n"
     ]
    },
    {
     "name": "stdout",
     "output_type": "stream",
     "text": [
      " Extract the domain name:  gmail\n"
     ]
    }
   ],
   "source": [
    "string32 = input(\"Enter the email address: \")\n",
    "if not \"@\" in string32:\n",
    "    print(\"Invalid email\")\n",
    "elif not string32[-4:] in \".com.org.edu.gov.net\":\n",
    "    print(\"Invalid email\")\n",
    "res = string32.split('@')[1]\n",
    "domain = res.split('.')[0]\n",
    "print(\" Extract the domain name: \",domain)"
   ]
  },
  {
   "cell_type": "code",
   "execution_count": 17,
   "id": "42e3a861-e211-4dc1-9fd0-a6db894303fc",
   "metadata": {},
   "outputs": [],
   "source": [
    "#Question 33. Replace multiple spaces in a string with a single space."
   ]
  },
  {
   "cell_type": "code",
   "execution_count": 1,
   "id": "aa692fec-a584-4b1c-8f47-232a8ea04099",
   "metadata": {},
   "outputs": [
    {
     "name": "stdin",
     "output_type": "stream",
     "text": [
      "Enter the string:  shama   helloo   welocome   \n"
     ]
    },
    {
     "name": "stdout",
     "output_type": "stream",
     "text": [
      "shama helloo welocome\n"
     ]
    }
   ],
   "source": [
    "string33 = input(\"Enter the string: \")\n",
    "result = \" \".join(string33.split())\n",
    "print(result)\n"
   ]
  },
  {
   "cell_type": "code",
   "execution_count": null,
   "id": "39417df8-7142-440b-8f3d-8635e7c9a3a6",
   "metadata": {},
   "outputs": [],
   "source": [
    "#Question 34. Check if a string is a valid URL."
   ]
  },
  {
   "cell_type": "code",
   "execution_count": 2,
   "id": "68e73d44-f5ef-4484-89ec-703411234f45",
   "metadata": {},
   "outputs": [
    {
     "name": "stdout",
     "output_type": "stream",
     "text": [
      "Urls:  ['https://auth.geeksforgeeks.org/user/Chinmoy%20Lenka/articles', 'https://www.geeksforgeeks.org/']\n"
     ]
    }
   ],
   "source": [
    "def Find(string):\n",
    "    x=string.split()\n",
    "    res=[]\n",
    "    for i in x:\n",
    "        if i.startswith(\"https:\") or i.startswith(\"http:\"):\n",
    "            res.append(i)\n",
    "    return res\n",
    "string = 'My Profile: https://auth.geeksforgeeks.org/user/Chinmoy%20Lenka/articles in the portal of https://www.geeksforgeeks.org/'\n",
    "print(\"Urls: \", Find(string))"
   ]
  },
  {
   "cell_type": "code",
   "execution_count": 3,
   "id": "1722b7ea-098c-48d9-8e6f-8cc31350d8ef",
   "metadata": {},
   "outputs": [],
   "source": [
    "#@uestion 50. Convert a CSV string to a list of lists."
   ]
  },
  {
   "cell_type": "code",
   "execution_count": 10,
   "id": "ee3aaf04-62d8-493d-b7fe-fa8cd0f1c148",
   "metadata": {},
   "outputs": [
    {
     "ename": "IndentationError",
     "evalue": "unexpected indent (2278058421.py, line 6)",
     "output_type": "error",
     "traceback": [
      "\u001b[0;36m  Cell \u001b[0;32mIn[10], line 6\u001b[0;36m\u001b[0m\n\u001b[0;31m    result.append(fields)\u001b[0m\n\u001b[0m    ^\u001b[0m\n\u001b[0;31mIndentationError\u001b[0m\u001b[0;31m:\u001b[0m unexpected indent\n"
     ]
    }
   ],
   "source": [
    "def csv_string_to_list(csv_string):\n",
    "    lines = csv_string.split\n",
    "    result = []\n",
    "for line in lines:\n",
    "       fields = line.split(',')\n",
    "        result.append(fields)\n",
    "return result\n",
    "    csv_data = \"Name, Age, Country\\nJohn, 25, USA\\nAlice, 30, Canada\\nBob, 22, UK\"\n",
    "    list_of_lists = csv_string_to_list(csv_data)\n",
    "for row in list_of_lists:\n",
    "print(row)"
   ]
  },
  {
   "cell_type": "code",
   "execution_count": 11,
   "id": "d8f289dd-93f0-4571-a61f-155dfb70f31f",
   "metadata": {},
   "outputs": [],
   "source": [
    "#Question 36. Find the frequency of each character in a string."
   ]
  },
  {
   "cell_type": "code",
   "execution_count": 13,
   "id": "154540a0-c145-40f1-b829-469c1e5c2790",
   "metadata": {},
   "outputs": [
    {
     "name": "stdin",
     "output_type": "stream",
     "text": [
      "Enter the string:  shaaaammmaaaa\n"
     ]
    },
    {
     "name": "stdout",
     "output_type": "stream",
     "text": [
      "Count of all characters in string is  :\n",
      " {'s': 1}\n",
      "Count of all characters in string is  :\n",
      " {'s': 1, 'h': 1}\n",
      "Count of all characters in string is  :\n",
      " {'s': 1, 'h': 1, 'a': 1}\n",
      "Count of all characters in string is  :\n",
      " {'s': 1, 'h': 1, 'a': 4, 'm': 1}\n"
     ]
    }
   ],
   "source": [
    "string36 = input(\"Enter the string: \")\n",
    "all_freq = {}\n",
    "for i in string36:\n",
    "    if i in all_freq:\n",
    "        all_freq[i] += 1\n",
    "    else:\n",
    "        all_freq[i] = 1\n",
    "        print(\"Count of all characters in string is  :\\n \"\n",
    "      + str(all_freq))"
   ]
  },
  {
   "cell_type": "code",
   "execution_count": 14,
   "id": "db7e6ded-cfc6-4392-b566-d1451cd17884",
   "metadata": {},
   "outputs": [],
   "source": [
    "#Question 37. Remove all punctuation from a string."
   ]
  },
  {
   "cell_type": "code",
   "execution_count": 19,
   "id": "036b6985-5edc-4ad6-9290-5841ae06f835",
   "metadata": {},
   "outputs": [
    {
     "name": "stdout",
     "output_type": "stream",
     "text": [
      "Original string: Hello, world! How's it going?\n",
      "Cleaned string: Hello world Hows it going\n"
     ]
    }
   ],
   "source": [
    "import string\n",
    "def remove_punctuation(input_string):\n",
    "    translator = str.maketrans(\"\", \"\", string.punctuation)\n",
    "    clean_string = input_string.translate(translator)\n",
    "    return clean_string\n",
    "input_str = \"Hello, world! How's it going?\"\n",
    "cleaned_str = remove_punctuation(input_str)\n",
    "print(\"Original string:\", input_str)\n",
    "print(\"Cleaned string:\", cleaned_str)\n"
   ]
  },
  {
   "cell_type": "code",
   "execution_count": 20,
   "id": "2cc2069d-e228-4a49-bf9a-3ddd278344cf",
   "metadata": {},
   "outputs": [],
   "source": [
    "#Question 38. Check if a string contains only digits."
   ]
  },
  {
   "cell_type": "code",
   "execution_count": 21,
   "id": "6666b4eb-977c-41bd-bba7-3a80ab900a70",
   "metadata": {},
   "outputs": [
    {
     "name": "stdout",
     "output_type": "stream",
     "text": [
      "'12345' contains only digits: True\n",
      "'Hello123' contains only digits: False\n",
      "'456.789' contains only digits: False\n"
     ]
    }
   ],
   "source": [
    "def contains_only_digits(input_string):\n",
    "    return input_string.isdigit()\n",
    "string1 = \"12345\"\n",
    "string2 = \"Hello123\"\n",
    "string3 = \"456.789\"\n",
    "result1 = contains_only_digits(string1)\n",
    "result2 = contains_only_digits(string2)\n",
    "result3 = contains_only_digits(string3)\n",
    "\n",
    "print(f\"'{string1}' contains only digits:\", result1)\n",
    "print(f\"'{string2}' contains only digits:\", result2)\n",
    "print(f\"'{string3}' contains only digits:\", result3)"
   ]
  },
  {
   "cell_type": "code",
   "execution_count": 22,
   "id": "04136235-3495-44bd-b607-50dad6f20d91",
   "metadata": {},
   "outputs": [],
   "source": [
    "#Question 39. Check if a string contains only alphabets."
   ]
  },
  {
   "cell_type": "code",
   "execution_count": 26,
   "id": "13cd3436-f581-4deb-9ca4-9e94ddcdd73a",
   "metadata": {},
   "outputs": [
    {
     "name": "stdout",
     "output_type": "stream",
     "text": [
      "'12345' contains only alphabets: False\n",
      "'Hello123' contains only alphabets: False\n"
     ]
    }
   ],
   "source": [
    "def contains_only_alphabets(input_string):\n",
    "    return input_string.isalpha()\n",
    "string39 = \"12345\"\n",
    "string43 = \"Hello123\"\n",
    "resut39= contains_only_alphabets(string39)\n",
    "\n",
    "result43 = contains_only_alphabets(string43)\n",
    "\n",
    "print(f\"'{string39}' contains only alphabets:\", resut39)\n",
    "\n",
    "print(f\"'{string43}' contains only alphabets:\", result43)\n",
    "\n"
   ]
  },
  {
   "cell_type": "code",
   "execution_count": 27,
   "id": "6ddcf70b-3991-45ee-83ea-1086183ffc2a",
   "metadata": {},
   "outputs": [],
   "source": [
    "#Question 40. Convert a string to a list of characters."
   ]
  },
  {
   "cell_type": "code",
   "execution_count": 28,
   "id": "794ff4e7-e187-4ceb-914a-bdff0e6fa3dd",
   "metadata": {},
   "outputs": [
    {
     "name": "stdout",
     "output_type": "stream",
     "text": [
      "Original string: Hello, world!\n",
      "List of characters: ['H', 'e', 'l', 'l', 'o', ',', ' ', 'w', 'o', 'r', 'l', 'd', '!']\n"
     ]
    }
   ],
   "source": [
    "def string_to_list(input_string):\n",
    "    char_list = list(input_string)\n",
    "    return char_list\n",
    "input_str = \"Hello, world!\"\n",
    "char_list = string_to_list(input_str)\n",
    "print(\"Original string:\", input_str)\n",
    "print(\"List of characters:\", char_list)"
   ]
  },
  {
   "cell_type": "code",
   "execution_count": 1,
   "id": "4615d53b-e5dc-48d5-8999-335696367e7c",
   "metadata": {},
   "outputs": [],
   "source": [
    "#Question 41. Check if two strings are anagrams."
   ]
  },
  {
   "cell_type": "code",
   "execution_count": 4,
   "id": "8303a906-e693-4f51-aafe-29c1d6ef645c",
   "metadata": {},
   "outputs": [
    {
     "name": "stdout",
     "output_type": "stream",
     "text": [
      "the string is anagrams \n"
     ]
    }
   ],
   "source": [
    "def check(s1,s2):\n",
    "    if(sorted(s1)==sorted(s2)):\n",
    "        print(\"the string is anagrams \")\n",
    "    else:\n",
    "        print(\"the string is not anagrams \")\n",
    "s1 = \"listen\"\n",
    "s2 = \"silent\"\n",
    "check(s1,s2)"
   ]
  },
  {
   "cell_type": "code",
   "execution_count": 1,
   "id": "6196eab4-6674-422d-b577-144b8aac15d8",
   "metadata": {},
   "outputs": [],
   "source": [
    "#Question 42. Encode a string using a Caesar cipher. "
   ]
  },
  {
   "cell_type": "code",
   "execution_count": 1,
   "id": "14ab692e-2e10-4509-9654-cc4dd0549a8d",
   "metadata": {},
   "outputs": [],
   "source": []
  },
  {
   "cell_type": "code",
   "execution_count": 2,
   "id": "d4ee1144-707d-4be9-b8df-99a5d4286280",
   "metadata": {},
   "outputs": [],
   "source": [
    "#Topic List Based Practice Problem :"
   ]
  },
  {
   "cell_type": "code",
   "execution_count": 3,
   "id": "70c5f96f-63ef-4ad4-a027-d88514768b47",
   "metadata": {},
   "outputs": [],
   "source": [
    "#Question 1. Create a list with integers from 1 to 10."
   ]
  },
  {
   "cell_type": "code",
   "execution_count": 6,
   "id": "b8e113d7-780d-41c0-a323-7e02d8e85a82",
   "metadata": {},
   "outputs": [
    {
     "name": "stdout",
     "output_type": "stream",
     "text": [
      "List of integers : [1, 2, 3, 4, 5, 6, 7, 8, 9, 10]\n"
     ]
    }
   ],
   "source": [
    "integer_list = [i for i in range(1,11)]\n",
    "print(\"List of integers :\",integer_list)"
   ]
  },
  {
   "cell_type": "code",
   "execution_count": 7,
   "id": "902da529-0a1a-4ad9-8350-2b9d4d621eb1",
   "metadata": {},
   "outputs": [],
   "source": [
    "#Question 2. Find the length of a list without using the `len()` function."
   ]
  },
  {
   "cell_type": "code",
   "execution_count": 10,
   "id": "f543163d-c985-4bf0-9751-8a619da35fea",
   "metadata": {},
   "outputs": [
    {
     "name": "stdout",
     "output_type": "stream",
     "text": [
      "Enterthe length:  2\n"
     ]
    }
   ],
   "source": [
    "def custom_len(input_list):\n",
    "    count = 0\n",
    "    for _ in input_list:\n",
    "        count  += 1\n",
    "    return count\n",
    "    \n",
    "mylist = [12,20]\n",
    "length =  custom_len(mylist)\n",
    "print(\"Enterthe length: \",length)\n",
    "    "
   ]
  },
  {
   "cell_type": "code",
   "execution_count": 11,
   "id": "1c66ea4a-aadc-4bf5-adcc-d344d2939deb",
   "metadata": {},
   "outputs": [],
   "source": [
    "#Question 3. Append an element to the end of a list."
   ]
  },
  {
   "cell_type": "code",
   "execution_count": 27,
   "id": "ba4cb8a9-4bb8-478c-b270-1e9e6409422e",
   "metadata": {},
   "outputs": [
    {
     "name": "stdout",
     "output_type": "stream",
     "text": [
      "Appended new element is : [10, 20, 30, 40, 50, 100]\n"
     ]
    }
   ],
   "source": [
    "my_list = [10, 20, 30, 40, 50]\n",
    "\n",
    "new_element = 100\n",
    "my_list.append(new_element)\n",
    "# print(new_list)\n",
    "\n",
    "print(\"Appended new element is :\",my_list)"
   ]
  },
  {
   "cell_type": "code",
   "execution_count": 28,
   "id": "dda923bf-bd71-4554-8388-08e1a170904b",
   "metadata": {},
   "outputs": [],
   "source": [
    "#Question 4. Insert an element at a specific index in a list."
   ]
  },
  {
   "cell_type": "code",
   "execution_count": 32,
   "id": "092a69eb-bb54-4413-8f1a-06e7aece4030",
   "metadata": {},
   "outputs": [
    {
     "name": "stdout",
     "output_type": "stream",
     "text": [
      "Inserted element at a specifix index :  ['hello', 'world']\n"
     ]
    }
   ],
   "source": [
    "my_list = [\"hello\"]\n",
    "my_list.insert(1,\"world\")\n",
    "print(\"Inserted element at a specifix index : \",my_list)"
   ]
  },
  {
   "cell_type": "code",
   "execution_count": 33,
   "id": "ac424007-2136-445a-8ca2-1e9b7408c3ed",
   "metadata": {},
   "outputs": [],
   "source": [
    "#Question 5. Remove an element from a list by its value."
   ]
  },
  {
   "cell_type": "code",
   "execution_count": 42,
   "id": "30b7902d-9728-4c20-a8ee-fb7d22b9586f",
   "metadata": {},
   "outputs": [
    {
     "name": "stdout",
     "output_type": "stream",
     "text": [
      "This is original list value: ['hello', 'world', 'welcome', 'the', 'pw', 'skill']\n",
      "After deleting the value: ['hello', 'welcome', 'the', 'pw', 'skill']\n"
     ]
    }
   ],
   "source": [
    "my_list = [\"hello\",\"world\",\"welcome\",\"the\",\"pw\",\"skill\"]\n",
    "print(\"This is original list value:\",my_list)\n",
    "my_list.remove(\"world\")\n",
    "print(\"After deleting the value:\",my_list)"
   ]
  },
  {
   "cell_type": "code",
   "execution_count": 43,
   "id": "774d2f44-b2c9-4640-8a54-a4439428ca65",
   "metadata": {},
   "outputs": [],
   "source": [
    "#Question 6. Remove an element from a list by its index."
   ]
  },
  {
   "cell_type": "code",
   "execution_count": 49,
   "id": "924cf0a4-41d9-482d-a569-882b1f883f55",
   "metadata": {},
   "outputs": [
    {
     "name": "stdout",
     "output_type": "stream",
     "text": [
      "The original list value:  ['hello', 'world', 'welcome', 'the', 'pw', 'skills']\n",
      "After deleting the value: ['world', 'welcome', 'the', 'pw', 'skills']\n"
     ]
    }
   ],
   "source": [
    "my_list = [\"hello\",\"world\",\"welcome\",\"the\",\"pw\",\"skills\"]\n",
    "print(\"The original list value: \",my_list)\n",
    "my_list.pop(1)\n",
    "print(\"After deleting the value:\",my_list)"
   ]
  },
  {
   "cell_type": "code",
   "execution_count": 50,
   "id": "4ee9dc4f-4c6a-48d3-81d5-161c26b4b90b",
   "metadata": {},
   "outputs": [],
   "source": [
    "#Question 7. Check if an element exists in a list."
   ]
  },
  {
   "cell_type": "code",
   "execution_count": 58,
   "id": "b3332f1b-f76d-4027-bcf2-34b608a4cad4",
   "metadata": {},
   "outputs": [
    {
     "name": "stdout",
     "output_type": "stream",
     "text": [
      "Element is exixts\n"
     ]
    }
   ],
   "source": [
    "my_list = [\"hello\",\"world\",\"welcome\",\"the\",\"pw\",\"skills\"]\n",
    "for i in my_list:\n",
    "    if(i==\"world\"):\n",
    "        print(\"Element is exixts\")"
   ]
  },
  {
   "cell_type": "code",
   "execution_count": 59,
   "id": "2cad35e7-1384-4b67-9381-6f51b72a8874",
   "metadata": {},
   "outputs": [],
   "source": [
    "#Question 8. Find the index of the first occurrence of an element in a list."
   ]
  },
  {
   "cell_type": "code",
   "execution_count": 2,
   "id": "5638859e-42f9-4acb-810c-4d507d5fd818",
   "metadata": {},
   "outputs": [
    {
     "name": "stdout",
     "output_type": "stream",
     "text": [
      "index of 30 is 1 \n"
     ]
    }
   ],
   "source": [
    "my_list = [20,30,40,50,60]\n",
    "element = 30\n",
    "index = my_list.index(element)\n",
    "print(f\"index of {element} is {index} \")"
   ]
  },
  {
   "cell_type": "code",
   "execution_count": 3,
   "id": "d22f9685-32ea-41fc-9fa7-4ecd7eac5c55",
   "metadata": {},
   "outputs": [],
   "source": [
    "#Question 9. Count the occurrences of an element in a list."
   ]
  },
  {
   "cell_type": "code",
   "execution_count": 4,
   "id": "93a08504-ad47-48af-879f-e1d09a76234e",
   "metadata": {},
   "outputs": [
    {
     "name": "stdout",
     "output_type": "stream",
     "text": [
      " Count the occurrences of 20 is 3 \n"
     ]
    }
   ],
   "source": [
    "my_list = [20,30,20,50,60,20,10,30,50]\n",
    "elecmet = 20 \n",
    "count = my_list.count(elecmet)\n",
    "print(f\" Count the occurrences of {elecmet} is {count} \")"
   ]
  },
  {
   "cell_type": "code",
   "execution_count": 5,
   "id": "01b268a1-ba79-4001-8aad-9d209a8ecdcb",
   "metadata": {},
   "outputs": [],
   "source": [
    "#Question 10. Reverse the order of elements in a list."
   ]
  },
  {
   "cell_type": "code",
   "execution_count": 7,
   "id": "e3755e73-4435-4813-bd11-71f149c71b8a",
   "metadata": {},
   "outputs": [
    {
     "name": "stdout",
     "output_type": "stream",
     "text": [
      "Reverse list is:  [100, 50, 41, 12, 40, 40, 30, 20]\n"
     ]
    }
   ],
   "source": [
    "my_list = [20,30,40,40,12,41,50,100]\n",
    "my_list.reverse()\n",
    "print(\"Reverse list is: \",my_list)"
   ]
  },
  {
   "cell_type": "code",
   "execution_count": 8,
   "id": "9b6dfd8e-f4e9-4640-a250-d195408646f1",
   "metadata": {},
   "outputs": [],
   "source": [
    "#Question 11. Sort a list in ascending order."
   ]
  },
  {
   "cell_type": "code",
   "execution_count": 9,
   "id": "090eec96-a2de-4046-afe1-292d43207212",
   "metadata": {},
   "outputs": [
    {
     "name": "stdout",
     "output_type": "stream",
     "text": [
      "Sort list is:  [2, 5, 6, 11, 12, 13, 20, 21, 40]\n"
     ]
    }
   ],
   "source": [
    "my_list = [12,21,2,5,13,6,40,20,11]\n",
    "my_list.sort()\n",
    "print(\"Sort list is: \", my_list)"
   ]
  },
  {
   "cell_type": "code",
   "execution_count": 10,
   "id": "bf3de766-4d34-4bbb-93ca-58b8c6c94a4c",
   "metadata": {},
   "outputs": [],
   "source": [
    "#Question 12. Sort a list in descending order."
   ]
  },
  {
   "cell_type": "code",
   "execution_count": 11,
   "id": "640dbf53-9ab6-404e-8f22-beb6711f57f6",
   "metadata": {},
   "outputs": [
    {
     "name": "stdout",
     "output_type": "stream",
     "text": [
      "Sort a list in descending order is:  [100, 60, 40, 30, 28, 25, 20]\n"
     ]
    }
   ],
   "source": [
    "my_list = [30,20,25,28,40,100,60]\n",
    "my_list.sort(reverse=True)\n",
    "print(\"Sort a list in descending order is: \",my_list)"
   ]
  },
  {
   "cell_type": "code",
   "execution_count": 12,
   "id": "9ef195cd-dddd-404d-a9a4-49b840c3106d",
   "metadata": {},
   "outputs": [],
   "source": [
    "#Question 13. Create a list of even numbers from 1 to 20."
   ]
  },
  {
   "cell_type": "code",
   "execution_count": 13,
   "id": "83727038-9d22-46cf-8719-90f587cb2ff4",
   "metadata": {},
   "outputs": [
    {
     "name": "stdout",
     "output_type": "stream",
     "text": [
      "Create a list of even numbers from 1 to 20 is:  [2, 4, 6, 8, 10, 12, 14, 16, 18, 20]\n"
     ]
    }
   ],
   "source": [
    "even_number = [x for x in range(2,21,2)]\n",
    "print(\"Create a list of even numbers from 1 to 20 is: \",even_number)"
   ]
  },
  {
   "cell_type": "code",
   "execution_count": 14,
   "id": "aee284e4-3eea-4bb5-91f2-308f6f51674a",
   "metadata": {},
   "outputs": [],
   "source": [
    "#Question 14. Create a list of odd numbers from 1 to 20."
   ]
  },
  {
   "cell_type": "code",
   "execution_count": 16,
   "id": "1caf8b8d-2593-41b6-94ef-320d0b9e69e4",
   "metadata": {},
   "outputs": [
    {
     "name": "stdout",
     "output_type": "stream",
     "text": [
      "Create a list of odd numbers from 1 to 20:  [1, 3, 5, 7, 9, 11, 13, 15, 17, 19]\n"
     ]
    }
   ],
   "source": [
    "odd_number = [x for x in range(1,21,2)]\n",
    "print(\"Create a list of odd numbers from 1 to 20: \",odd_number)"
   ]
  },
  {
   "cell_type": "code",
   "execution_count": 17,
   "id": "cd714725-76d6-4532-af72-dae99723a7f0",
   "metadata": {},
   "outputs": [],
   "source": [
    "#Question 15. Find the sum of all elements in a list."
   ]
  },
  {
   "cell_type": "code",
   "execution_count": 18,
   "id": "1c0e03ef-e492-4117-83c8-2f99d5f6424d",
   "metadata": {},
   "outputs": [
    {
     "name": "stdout",
     "output_type": "stream",
     "text": [
      "sum of all elements in list is:  135\n"
     ]
    }
   ],
   "source": [
    "my_list = [20,12,24,25,26,28]\n",
    "total_sum = sum(my_list)\n",
    "print(\"sum of all elements in list is: \",total_sum)"
   ]
  },
  {
   "cell_type": "code",
   "execution_count": 19,
   "id": "17dd7033-483c-45d1-859c-faf0714f0ca2",
   "metadata": {},
   "outputs": [],
   "source": [
    "#Question 16. Find the maximum value in a list."
   ]
  },
  {
   "cell_type": "code",
   "execution_count": 20,
   "id": "08e701e5-9491-4657-93d0-59d063496a24",
   "metadata": {},
   "outputs": [
    {
     "name": "stdout",
     "output_type": "stream",
     "text": [
      "maximum value in a list is :  100\n"
     ]
    }
   ],
   "source": [
    "my_list = [20,30,40,50,100]\n",
    "max_val = max(my_list)\n",
    "print(\"maximum value in a list is : \",max_val)"
   ]
  },
  {
   "cell_type": "code",
   "execution_count": 21,
   "id": "9b2c3916-4278-43a8-9fd8-73247e2a8508",
   "metadata": {},
   "outputs": [],
   "source": [
    "#Question 17. Find the minimum value in a list."
   ]
  },
  {
   "cell_type": "code",
   "execution_count": 23,
   "id": "479b0de4-aeca-4e80-981c-80a34bf1261f",
   "metadata": {},
   "outputs": [
    {
     "name": "stdout",
     "output_type": "stream",
     "text": [
      "minimum value in a list is : 20\n"
     ]
    }
   ],
   "source": [
    "my_list = [30,20,50,60,20,30]\n",
    "min_val = min(my_list)\n",
    "print(\"minimum value in a list is :\",min_val)"
   ]
  },
  {
   "cell_type": "code",
   "execution_count": 24,
   "id": "c803b26f-7d4c-480b-83d0-9b8bb1da74cc",
   "metadata": {},
   "outputs": [],
   "source": [
    "#question 18. Create a list of squares of numbers from 1 to 10."
   ]
  },
  {
   "cell_type": "code",
   "execution_count": 25,
   "id": "436d4d4c-c5aa-4508-bac2-f2015bbb6060",
   "metadata": {},
   "outputs": [
    {
     "name": "stdout",
     "output_type": "stream",
     "text": [
      "squares of numbers from 1 to 10 : [1, 4, 9, 16, 25, 36, 49, 64, 81, 100]\n"
     ]
    }
   ],
   "source": [
    "squares_list = [x ** 2 for x in range(1,11)]\n",
    "print(\"squares of numbers from 1 to 10 :\",squares_list)"
   ]
  },
  {
   "cell_type": "code",
   "execution_count": 26,
   "id": "910dc3e1-5020-442e-bc2d-1b4cf0d6a767",
   "metadata": {},
   "outputs": [],
   "source": [
    "#Question 19. Create a list of random numbers."
   ]
  },
  {
   "cell_type": "code",
   "execution_count": 27,
   "id": "b6217f1e-aaca-4f4f-9d18-614a44773243",
   "metadata": {},
   "outputs": [
    {
     "name": "stdout",
     "output_type": "stream",
     "text": [
      "list of random numbers :  [54, 79, 32, 21, 13, 22, 39, 30, 1, 63]\n"
     ]
    }
   ],
   "source": [
    "import random\n",
    "random_val = [random.randint(1,100) for i in range(10)]\n",
    "print(\"list of random numbers : \",random_val)\n"
   ]
  },
  {
   "cell_type": "code",
   "execution_count": 28,
   "id": "48da2458-2628-457d-8744-0e275e05657d",
   "metadata": {},
   "outputs": [],
   "source": [
    "#Question 20. Remove duplicates from a list."
   ]
  },
  {
   "cell_type": "code",
   "execution_count": 29,
   "id": "80c9bc21-a416-464d-8784-aadaa143d3de",
   "metadata": {},
   "outputs": [
    {
     "name": "stdout",
     "output_type": "stream",
     "text": [
      "Removed duplicates from a list :  [40, 50, 23, 60, 30]\n"
     ]
    }
   ],
   "source": [
    "my_list = [23,40,60,30,30,40,30,50]\n",
    "unique_list = list(set(my_list))\n",
    "print(\"Removed duplicates from a list : \",unique_list)"
   ]
  },
  {
   "cell_type": "code",
   "execution_count": 30,
   "id": "a2e73235-1f18-4b6c-a4dc-ec36a52796f9",
   "metadata": {},
   "outputs": [],
   "source": [
    "#Question 22. Find the difference between two lists."
   ]
  },
  {
   "cell_type": "code",
   "execution_count": 31,
   "id": "39f61432-11d0-42e5-bbdf-6887abf8a02c",
   "metadata": {},
   "outputs": [
    {
     "name": "stdout",
     "output_type": "stream",
     "text": [
      "common elements between two lists:  [30]\n"
     ]
    }
   ],
   "source": [
    "my_list1 = [20,50,40,30,50,100,30,40]\n",
    "my_list2 = [40,20,12,13,50,100,15.16]\n",
    "comm_element = list(set(my_list1).difference(my_list2))\n",
    "print(\"common elements between two lists: \",comm_element)"
   ]
  },
  {
   "cell_type": "code",
   "execution_count": 32,
   "id": "c956f5bb-9bda-4a3f-9954-3047419fe72c",
   "metadata": {},
   "outputs": [],
   "source": [
    "#Question 21. Find the common elements between two lists."
   ]
  },
  {
   "cell_type": "code",
   "execution_count": 40,
   "id": "a7662e5d-174c-4668-8aae-1291ca87fdd7",
   "metadata": {},
   "outputs": [
    {
     "name": "stdout",
     "output_type": "stream",
     "text": [
      "the common elements between two lists : \n",
      "[20, 50, 40, 50, 100, 40]\n"
     ]
    }
   ],
   "source": [
    "def  common_ele(a,b):\n",
    "           result = [i for i in a if i in b]\n",
    "           return result\n",
    "a = [20,50,40,30,50,100,30,40]\n",
    "b = [40,20,12,13,50,100,15.16]\n",
    "print(\"the common elements between two lists : \")\n",
    "print(common_ele (a,b))"
   ]
  },
  {
   "cell_type": "code",
   "execution_count": 41,
   "id": "89797813-ff90-4e36-8543-2931900550a4",
   "metadata": {},
   "outputs": [],
   "source": [
    "#Question 23. Merge two lists."
   ]
  },
  {
   "cell_type": "code",
   "execution_count": 43,
   "id": "107efe25-7cbf-4ab1-9285-30fda15499de",
   "metadata": {},
   "outputs": [
    {
     "name": "stdout",
     "output_type": "stream",
     "text": [
      "Merge two lists is : [20, 30, 40, 50, 10, 30, 100, 30]\n"
     ]
    }
   ],
   "source": [
    "my_list1 = [20,30,40,50]\n",
    "my_list2 = [10,30,100,30]\n",
    "merge_list = my_list1+my_list2\n",
    "print(\"Merge two lists is :\",merge_list)\n"
   ]
  },
  {
   "cell_type": "code",
   "execution_count": 1,
   "id": "4ac2b602-f1e5-4b00-bc51-aa0e60f50b23",
   "metadata": {},
   "outputs": [],
   "source": [
    "#Question 24. Multiply all elements in a list by 2."
   ]
  },
  {
   "cell_type": "code",
   "execution_count": 2,
   "id": "4516b824-3f69-42d2-8b18-a47c75b46086",
   "metadata": {},
   "outputs": [
    {
     "name": "stdout",
     "output_type": "stream",
     "text": [
      "Multiply all elements in a list by 2 is : [20, 40, 60, 80, 100]\n"
     ]
    }
   ],
   "source": [
    "my_list = [10,20,30,40,50]\n",
    "result = [x*2 for x in my_list]\n",
    "print(\"Multiply all elements in a list by 2 is :\",result)"
   ]
  },
  {
   "cell_type": "code",
   "execution_count": 3,
   "id": "edc93182-1a2f-4e03-bea3-7a2fb76581b6",
   "metadata": {},
   "outputs": [],
   "source": [
    "#Question 25. Filter out all even numbers from a list."
   ]
  },
  {
   "cell_type": "code",
   "execution_count": 27,
   "id": "2dd7ae56-6c2c-4980-b1ea-5d30410d89a4",
   "metadata": {},
   "outputs": [
    {
     "name": "stdout",
     "output_type": "stream",
     "text": [
      "out all even numbers from a list :  [2, 4, 6, 8, 10]\n"
     ]
    }
   ],
   "source": [
    "my_list = [1,2,3,4,5,6,7,8,9,10]\n",
    "\n",
    "out = []\n",
    "for num in my_list:\n",
    "     if num%2 == 0:\n",
    "        out.append(num)\n",
    "print(\"out all even numbers from a list : \",out)"
   ]
  },
  {
   "cell_type": "code",
   "execution_count": 28,
   "id": "e99ce888-be75-4948-ada1-922d1c8e45cc",
   "metadata": {},
   "outputs": [],
   "source": [
    "#Question 26. Convert a list of strings to a list of integers."
   ]
  },
  {
   "cell_type": "code",
   "execution_count": 29,
   "id": "dfcb8991-50a0-4edf-8829-bd8ad40cd5fe",
   "metadata": {},
   "outputs": [
    {
     "name": "stdout",
     "output_type": "stream",
     "text": [
      "Converted string list in to interger :  [10, 12, 16, 20, 40]\n"
     ]
    }
   ],
   "source": [
    "string_list = [\"10\",\"12\",\"16\",\"20\",\"40\"]\n",
    "int_list = [int(x) for x in string_list]\n",
    "print(\"Converted string list in to interger : \",int_list)"
   ]
  },
  {
   "cell_type": "code",
   "execution_count": 31,
   "id": "dd960798-26d4-4b22-84a1-6850f78523be",
   "metadata": {},
   "outputs": [],
   "source": [
    "#Question 27. Convert a list of integers to a list of strings."
   ]
  },
  {
   "cell_type": "code",
   "execution_count": 32,
   "id": "61c6c546-bda0-47ed-a7bd-c50e846765d7",
   "metadata": {},
   "outputs": [
    {
     "name": "stdout",
     "output_type": "stream",
     "text": [
      "Converted integer list in to string :  ['10', '20', '30', '40', '50', '60']\n"
     ]
    }
   ],
   "source": [
    "integer_list = [10,20,30,40,50,60]\n",
    "string_list = [str(x) for x in integer_list]\n",
    "print(\"Converted integer list in to string : \",string_list)"
   ]
  },
  {
   "cell_type": "code",
   "execution_count": 33,
   "id": "2bf52683-b215-4b75-bc57-62a00bcd1e61",
   "metadata": {},
   "outputs": [],
   "source": [
    "#Question 28. Flatten a nested list."
   ]
  },
  {
   "cell_type": "code",
   "execution_count": 47,
   "id": "00cd973a-2d92-4eb4-95a1-91a5a289d753",
   "metadata": {},
   "outputs": [
    {
     "name": "stdout",
     "output_type": "stream",
     "text": [
      "List [[11, 22, 33, 44], [55, 66, 77], [88, 99, 100]]\n",
      "Flat List [11, 22, 33, 44, 55, 66, 77, 88, 99, 100]\n"
     ]
    }
   ],
   "source": [
    "def flat(lis):\n",
    "    flatList = []\n",
    "    # Iterate with outer list\n",
    "    for element in lis:\n",
    "        if type(element) is list:\n",
    "            # Check if type is list than iterate through the sublist\n",
    "            for item in element:\n",
    "                flatList.append(item)\n",
    "        else:\n",
    "            flatList.append(element)\n",
    "    return flatList\n",
    " \n",
    " \n",
    "lis = [[11, 22, 33, 44], [55, 66, 77], [88, 99, 100]]\n",
    "print('List', lis)\n",
    "print('Flat List', flat(lis))\n"
   ]
  },
  {
   "cell_type": "code",
   "execution_count": 59,
   "id": "22f75044-47a3-4662-aef9-71b826c25abb",
   "metadata": {},
   "outputs": [
    {
     "ename": "IndentationError",
     "evalue": "unindent does not match any outer indentation level (<tokenize>, line 3)",
     "output_type": "error",
     "traceback": [
      "\u001b[0;36m  File \u001b[0;32m<tokenize>:3\u001b[0;36m\u001b[0m\n\u001b[0;31m    for element in my_list:\u001b[0m\n\u001b[0m    ^\u001b[0m\n\u001b[0;31mIndentationError\u001b[0m\u001b[0;31m:\u001b[0m unindent does not match any outer indentation level\n"
     ]
    }
   ],
   "source": [
    "def flat(my_list):\n",
    "       flatlist = []\n",
    "    for element in my_list:\n",
    "        if type(element) is list:\n",
    "            \n",
    "            for item  in element:\n",
    "                flatlist.append(item)\n",
    "        else:\n",
    "            flatlist.append(element)\n",
    "    return flatList\n",
    "\n",
    "my_list = [10,20,30,[20,50],[90,60]]\n",
    "print('List', my_list)\n",
    "print('Flat List', flat(my_list))"
   ]
  },
  {
   "cell_type": "code",
   "execution_count": 91,
   "id": "3317e107-a1a3-4a6d-aae4-745b4e06cbdd",
   "metadata": {},
   "outputs": [],
   "source": [
    "#Question 29. Create a list of the first 10 Fibonacci numbers."
   ]
  },
  {
   "cell_type": "code",
   "execution_count": 91,
   "id": "3e8c8463-9182-4000-9b4d-4ae3cd82ed55",
   "metadata": {},
   "outputs": [],
   "source": [
    "#Question 29. Create a list of the first 10 Fibonacci numbers."
   ]
  },
  {
   "cell_type": "code",
   "execution_count": 92,
   "id": "7a760932-2056-4826-9bbc-2b80c20c4d91",
   "metadata": {},
   "outputs": [],
   "source": [
    "#Question 30. Check if a list is sorted."
   ]
  },
  {
   "cell_type": "code",
   "execution_count": 4,
   "id": "85b47f0a-137e-4422-ade8-072da8ad8449",
   "metadata": {},
   "outputs": [
    {
     "name": "stdout",
     "output_type": "stream",
     "text": [
      "Given list :  [11, 23, 42, 51, 67]\n",
      "[11, 23, 42, 51, 67]\n",
      "Yes, List is sorted.\n"
     ]
    }
   ],
   "source": [
    "listA = [11,23,42,51,67]\n",
    "print(\"Given list : \",listA)\n",
    "listA_copy = listA[:]\n",
    "print(listA_copy)\n",
    "listA_copy.sort()\n",
    "if (listA == listA_copy):\n",
    "        print(\"Yes, List is sorted.\")\n",
    "else:\n",
    "        print(\"No, List is not sorted.\")\n",
    "    "
   ]
  },
  {
   "cell_type": "code",
   "execution_count": null,
   "id": "4355e19e-80f6-464f-9de6-077b04239a69",
   "metadata": {},
   "outputs": [],
   "source": [
    "#Question 31. Rotate a list to the left by `n` positions."
   ]
  },
  {
   "cell_type": "code",
   "execution_count": 8,
   "id": "acbc0745-3bad-4269-92df-02e97bdb821d",
   "metadata": {},
   "outputs": [
    {
     "name": "stdout",
     "output_type": "stream",
     "text": [
      "Given list :  [10, 20, 30, 45, 56]\n",
      "List after left rotate by 3:  [45, 56, 10, 20, 30]\n"
     ]
    }
   ],
   "source": [
    "list31 = [10,20,30,45,56]\n",
    "print(\"Given list : \",list31)\n",
    "list31 = list31[3:] + list31[:3]\n",
    "print(\"List after left rotate by 3: \",list31)"
   ]
  },
  {
   "cell_type": "code",
   "execution_count": 9,
   "id": "4871b557-7d4c-427a-ba95-6fdfffdeeff3",
   "metadata": {},
   "outputs": [],
   "source": [
    "#Question 32. Rotate a list to the right by `n` positions."
   ]
  },
  {
   "cell_type": "code",
   "execution_count": 14,
   "id": "b4fe8070-b50d-4636-b4e6-7b6b01bbbecc",
   "metadata": {},
   "outputs": [
    {
     "name": "stdout",
     "output_type": "stream",
     "text": [
      "Given list :  [30, 20, 40, 50, 12, 36]\n",
      "List after right rotate by 2:  [12, 36, 30, 20, 40, 50]\n"
     ]
    }
   ],
   "source": [
    "list32 = [30,20,40,50,12,36]\n",
    "print(\"Given list : \",list32)\n",
    "list32 = list32[-2:] + list32[:-2]\n",
    "print(\"List after right rotate by 2: \",list32)"
   ]
  },
  {
   "cell_type": "code",
   "execution_count": 1,
   "id": "7fa45802-aefd-46b2-9441-a3647bd2a8a1",
   "metadata": {},
   "outputs": [],
   "source": [
    "#Question 33. Create a list of prime numbers up to 50."
   ]
  },
  {
   "cell_type": "code",
   "execution_count": 4,
   "id": "42f1ddf6-530e-41e2-a908-03ea59d2513d",
   "metadata": {},
   "outputs": [
    {
     "name": "stdout",
     "output_type": "stream",
     "text": [
      "1 is a prime number\n",
      "2 is a prime number\n",
      "3 is a prime number\n",
      "5 is a prime number\n",
      "7 is a prime number\n",
      "11 is a prime number\n",
      "13 is a prime number\n",
      "17 is a prime number\n",
      "19 is a prime number\n",
      "23 is a prime number\n",
      "29 is a prime number\n",
      "31 is a prime number\n",
      "37 is a prime number\n",
      "41 is a prime number\n",
      "43 is a prime number\n",
      "47 is a prime number\n"
     ]
    }
   ],
   "source": [
    "for num in range(1, 51):\n",
    "    for i in range(2, num):\n",
    "        if num % i == 0:\n",
    "            break\n",
    "    else:\n",
    "        print(num, 'is a prime number')"
   ]
  },
  {
   "cell_type": "code",
   "execution_count": 5,
   "id": "3b326d9a-11d0-4307-b181-0ddca8428d9f",
   "metadata": {},
   "outputs": [],
   "source": [
    "#Question 34. Split a list into chunks of size `n`."
   ]
  },
  {
   "cell_type": "code",
   "execution_count": 10,
   "id": "0778b048-f0d2-4b19-b6ef-88ef5a3e5d3b",
   "metadata": {},
   "outputs": [
    {
     "name": "stdout",
     "output_type": "stream",
     "text": [
      "Enter the length of list:  10\n",
      "[1, 2]\n",
      "[3, 4]\n",
      "[5, 6]\n",
      "[7, 8]\n",
      "[4, 9]\n"
     ]
    }
   ],
   "source": [
    "my_list = [1,2,3,4,5,6,7,8,4,9]\n",
    "start = 0 \n",
    "end = len(my_list)\n",
    "print(\"Enter the length of list: \",end)\n",
    "step = 2 \n",
    "for i in range(start,end ,step):\n",
    "    n = i\n",
    "    print(my_list[n:n+step])"
   ]
  },
  {
   "cell_type": "code",
   "execution_count": 11,
   "id": "4e720c6e-e9e7-4d7e-9b35-027830f6c3f3",
   "metadata": {},
   "outputs": [],
   "source": [
    "#Question 35. Find the second largest number in a list."
   ]
  },
  {
   "cell_type": "code",
   "execution_count": 15,
   "id": "a1b8a2c5-5ee1-4e18-a7f5-0a975405bbae",
   "metadata": {},
   "outputs": [
    {
     "name": "stdout",
     "output_type": "stream",
     "text": [
      "{34, 100, 10, 45, 20, 29, 30}\n",
      "Second largest element is: 45\n"
     ]
    }
   ],
   "source": [
    "my_list = [10,20,30,45,29,100,20,10,34]\n",
    "new_list = set(my_list)\n",
    "print(new_list)\n",
    "print(\"Second largest element is:\", sorted(new_list)[-2])"
   ]
  },
  {
   "cell_type": "code",
   "execution_count": 16,
   "id": "651e4af8-bdcb-4934-84c1-ceb8fcc1d272",
   "metadata": {},
   "outputs": [],
   "source": [
    "#Question 36. Replace every element in a list with its square."
   ]
  },
  {
   "cell_type": "code",
   "execution_count": 24,
   "id": "abc50912-b0d4-48c5-938b-9a762446f2d8",
   "metadata": {},
   "outputs": [
    {
     "name": "stdout",
     "output_type": "stream",
     "text": [
      "[1, 4, 9, 16, 25, 36]\n"
     ]
    }
   ],
   "source": [
    "my_list = [1,2,3,4,5,6]\n",
    "result = [i*i for i in my_list]\n",
    "print(result)\n"
   ]
  },
  {
   "cell_type": "code",
   "execution_count": null,
   "id": "0dba05f2-9b22-445b-a3f3-7c2481aa590b",
   "metadata": {},
   "outputs": [],
   "source": [
    "#Question Convert a list to a dictionary where list elements become keys and their\n",
    "#indices become values."
   ]
  },
  {
   "cell_type": "code",
   "execution_count": 28,
   "id": "c50fa936-47cc-483a-a09c-af212a157d73",
   "metadata": {},
   "outputs": [
    {
     "name": "stdout",
     "output_type": "stream",
     "text": [
      "{0: 'shama', 1: 'perween', 2: 'saba', 3: 'irshad'}\n"
     ]
    }
   ],
   "source": [
    "my_list = ['shama','perween','saba','irshad']\n",
    "names_dict = {}\n",
    "for i, name in enumerate(my_list):\n",
    "    names_dict[i] = name\n",
    "print(names_dict)\n"
   ]
  },
  {
   "cell_type": "code",
   "execution_count": null,
   "id": "9a9257dc-7d2c-4157-a134-5b6ed144e4bd",
   "metadata": {},
   "outputs": [],
   "source": [
    "#Question 38. Shuffle the elements of a list randomly."
   ]
  },
  {
   "cell_type": "code",
   "execution_count": 30,
   "id": "a834e20d-0dc6-42db-825c-c3f829b45c00",
   "metadata": {},
   "outputs": [
    {
     "name": "stdout",
     "output_type": "stream",
     "text": [
      "shuffle the element of list :  [4, 2, 3, 5, 6, 3]\n"
     ]
    }
   ],
   "source": [
    "import random\n",
    "\n",
    "mylist = [2,3,4,5,6,3]\n",
    "random.shuffle(mylist)\n",
    "\n",
    "print(\"shuffle the element of list : \",mylist)\n"
   ]
  },
  {
   "cell_type": "code",
   "execution_count": 31,
   "id": "a5c0a91b-731e-4a06-b2f4-355f8d64c896",
   "metadata": {},
   "outputs": [],
   "source": [
    "#Question 39. Create a list of the first 10 factorial numbers."
   ]
  },
  {
   "cell_type": "code",
   "execution_count": 38,
   "id": "93e41df8-f158-4608-b3b2-8db75cbd69d7",
   "metadata": {},
   "outputs": [
    {
     "name": "stdout",
     "output_type": "stream",
     "text": [
      "Factorial of 10 is 3628800\n"
     ]
    }
   ],
   "source": [
    "def factorial(n):\n",
    " \n",
    "    return 1 if (n==1 or n==0) else n * factorial(n - 1)\n",
    "num = 10\n",
    "print (\"Factorial of\",num,\"is\",\n",
    "      factorial(num))"
   ]
  },
  {
   "cell_type": "code",
   "execution_count": 39,
   "id": "b2172d1e-fc0a-4606-b2d4-f6c0d52d2c8b",
   "metadata": {},
   "outputs": [],
   "source": [
    "#Question 40. Check if two lists have at least one element in common."
   ]
  },
  {
   "cell_type": "code",
   "execution_count": 41,
   "id": "245b0354-e058-4d53-b386-773b935e8f20",
   "metadata": {},
   "outputs": [
    {
     "name": "stdout",
     "output_type": "stream",
     "text": [
      "True\n"
     ]
    }
   ],
   "source": [
    "my_list1 = [1,3,4,5,6,7,4,7,8]\n",
    "my_list2 = [1,2,3,4,5,7,8,9,7]\n",
    "result = any(check in my_list1 for check in my_list2)\n",
    "if result:\n",
    "    print(\"True\")\n",
    "else:\n",
    "    print(\"False\")"
   ]
  },
  {
   "cell_type": "code",
   "execution_count": null,
   "id": "af1b9db0-4139-43d4-81e4-31f047cc4070",
   "metadata": {},
   "outputs": [],
   "source": [
    "#Question 41. Remove all elements from a list."
   ]
  },
  {
   "cell_type": "code",
   "execution_count": 49,
   "id": "e1b44a1a-fd31-463a-a9ef-c1eafc833315",
   "metadata": {},
   "outputs": [
    {
     "name": "stdout",
     "output_type": "stream",
     "text": [
      "List1 before removing is :  [1, 2, 3, 4, 5, 6, 7, 8, 9, 10]\n",
      "List1 after removing is :  []\n"
     ]
    }
   ],
   "source": [
    "my_list = [1,2,3,4,5,6,7,8,9,10]\n",
    "print(\"List1 before removing is : \" , my_list)\n",
    "del my_list[:]\n",
    "print(\"List1 after removing is : \", my_list)"
   ]
  },
  {
   "cell_type": "code",
   "execution_count": 50,
   "id": "fad2228f-8ce6-41a7-96e3-ea2729003ac3",
   "metadata": {},
   "outputs": [],
   "source": [
    "#Question 42. Replace negative numbers in a list with 0."
   ]
  },
  {
   "cell_type": "code",
   "execution_count": 55,
   "id": "8f4a3488-a362-469d-8472-2e633bb4a39c",
   "metadata": {},
   "outputs": [
    {
     "name": "stdout",
     "output_type": "stream",
     "text": [
      "List before replace : [1, 2, 4, 5, 6, 7, -2, -3, -4]\n",
      "List after replace :  [1, 2, 4, 5, 6, 7, 0, 0, 0]\n"
     ]
    }
   ],
   "source": [
    "my_list = [1,2,4,5,6,7,-2,-3,-4]\n",
    "print(\"List before replace :\",my_list)\n",
    "for i in range(len(my_list)):\n",
    "    if my_list[i] < 0:\n",
    "        my_list[i] = 0\n",
    "print(\"List after replace : \",my_list)        "
   ]
  },
  {
   "cell_type": "code",
   "execution_count": 56,
   "id": "588477a8-b60a-4fc9-8f92-f86857afea42",
   "metadata": {},
   "outputs": [],
   "source": [
    "#Question 43. Convert a string into a list of words."
   ]
  },
  {
   "cell_type": "code",
   "execution_count": 58,
   "id": "0ebe9290-ae3d-407c-bcbc-a324a288b61d",
   "metadata": {},
   "outputs": [
    {
     "name": "stdout",
     "output_type": "stream",
     "text": [
      "Given string is : Hello welcome the pwskills class.\n",
      "Converting them into list of words\n",
      "['Hello', 'welcome', 'the', 'pwskills', 'class.']\n"
     ]
    }
   ],
   "source": [
    "my_string = \"Hello welcome the pwskills class.\"\n",
    "print(\"Given string is :\",my_string)\n",
    "print(\"Converting them into list of words\")\n",
    "res = my_string.split()\n",
    "print(res)"
   ]
  },
  {
   "cell_type": "code",
   "execution_count": 59,
   "id": "7ab59f48-2ad7-40ab-9f9d-de82f3a7e78c",
   "metadata": {},
   "outputs": [],
   "source": [
    "#Question 44. Convert a list of words into a string."
   ]
  },
  {
   "cell_type": "code",
   "execution_count": 62,
   "id": "c49fc729-2ef9-44bf-9353-14a6161c04e9",
   "metadata": {},
   "outputs": [
    {
     "name": "stdout",
     "output_type": "stream",
     "text": [
      "Given list is : ['hello', 'welcome', 'the', 'pwskills', 'class']\n",
      "Converting list to string\n",
      "hello welcome the pwskills class "
     ]
    }
   ],
   "source": [
    "my_list = ['hello','welcome','the','pwskills','class']\n",
    "print(\"Given list is :\",my_list)\n",
    "print(\"Converting list to string\")\n",
    "for i in my_list :\n",
    "     print(i,end=\" \")\n"
   ]
  },
  {
   "cell_type": "code",
   "execution_count": 63,
   "id": "39bea985-faa5-4192-9353-12be61674c07",
   "metadata": {},
   "outputs": [],
   "source": [
    "#Question 46. Find the longest string in a list of strings."
   ]
  },
  {
   "cell_type": "code",
   "execution_count": 64,
   "id": "cc67818a-1a55-456c-aa23-8aed0dd0d90f",
   "metadata": {},
   "outputs": [
    {
     "name": "stdout",
     "output_type": "stream",
     "text": [
      "Longest String is  :  pwskills\n"
     ]
    }
   ],
   "source": [
    "my_list = [\"hello\",\"welcome\",\"pwskills\",\"class\"]\n",
    "result = max(my_list, key=len) \n",
    "print(\"Longest String is  : \", result)"
   ]
  },
  {
   "cell_type": "code",
   "execution_count": 65,
   "id": "0e137746-0f7d-4e30-a772-995b52104c54",
   "metadata": {},
   "outputs": [],
   "source": [
    "#Question 47. Find the shortest string in a list of strings."
   ]
  },
  {
   "cell_type": "code",
   "execution_count": 66,
   "id": "2b65758c-2c0a-4d0c-a9ce-789e36e4d855",
   "metadata": {},
   "outputs": [
    {
     "name": "stdout",
     "output_type": "stream",
     "text": [
      "shortest String is  :  hello\n"
     ]
    }
   ],
   "source": [
    "my_list = [\"hello\",\"welcome\",\"pwskills\",\"class\"]\n",
    "result = min(my_list,key =len)\n",
    "print(\"shortest String is  : \", result)"
   ]
  },
  {
   "cell_type": "code",
   "execution_count": 1,
   "id": "2624bbdc-14d5-40f8-b21e-c8b1cd15b32e",
   "metadata": {},
   "outputs": [],
   "source": [
    "#Question 48. Create a list of the first `n` triangular numbers."
   ]
  },
  {
   "cell_type": "code",
   "execution_count": 17,
   "id": "d9dd24aa-298b-4be8-a401-0671c43dadd9",
   "metadata": {},
   "outputs": [
    {
     "name": "stdout",
     "output_type": "stream",
     "text": [
      "1\n",
      "3\n",
      "6\n",
      "10\n",
      "15\n"
     ]
    }
   ],
   "source": [
    "def triangular_number(n):\n",
    "    for i in range(1,n+1):\n",
    "         print((i ** 2 + i)//2)\n",
    "n = 5\n",
    "triangular_number(n)        "
   ]
  },
  {
   "cell_type": "code",
   "execution_count": 18,
   "id": "b3c43889-6d43-43b2-ae68-9738ac608c8d",
   "metadata": {},
   "outputs": [],
   "source": [
    "#Question 49. Check if a list contains another list as a subsequence."
   ]
  },
  {
   "cell_type": "code",
   "execution_count": 19,
   "id": "81d3ba4d-c036-48de-ba4c-e10607e78f3e",
   "metadata": {},
   "outputs": [],
   "source": [
    "#   Tuple Based Practice Problem :"
   ]
  },
  {
   "cell_type": "code",
   "execution_count": 20,
   "id": "3974e700-8d3f-47aa-bba0-695a3b5fe347",
   "metadata": {},
   "outputs": [],
   "source": [
    "#Question 1. Create a tuple with integers from 1 to 5."
   ]
  },
  {
   "cell_type": "code",
   "execution_count": 21,
   "id": "b6034110-db67-4f6a-b20f-647dfb8a0f83",
   "metadata": {},
   "outputs": [
    {
     "name": "stdout",
     "output_type": "stream",
     "text": [
      "Tuple with integers:  (1, 2, 3, 4, 5)\n"
     ]
    }
   ],
   "source": [
    "int_tuple = (1,2,3,4,5)    \n",
    "print(\"Tuple with integers: \", int_tuple)    "
   ]
  },
  {
   "cell_type": "code",
   "execution_count": 22,
   "id": "b718c6a9-765c-4979-921e-faa4365ddd7a",
   "metadata": {},
   "outputs": [],
   "source": [
    "#Question 2. Access the third element of a tuple."
   ]
  },
  {
   "cell_type": "code",
   "execution_count": 24,
   "id": "7f5c3ff7-65fd-4745-8b59-00e60086a8d0",
   "metadata": {},
   "outputs": [
    {
     "name": "stdout",
     "output_type": "stream",
     "text": [
      "50\n"
     ]
    }
   ],
   "source": [
    "my_tuple = (20,30,40,50,60)\n",
    "print(my_tuple[3])"
   ]
  },
  {
   "cell_type": "code",
   "execution_count": 25,
   "id": "e87a2999-86d4-425c-bf69-e377f333b53f",
   "metadata": {},
   "outputs": [],
   "source": [
    "#Question 3. Find the length of a tuple without using the `len()` function."
   ]
  },
  {
   "cell_type": "code",
   "execution_count": 26,
   "id": "d5ab9bc4-471c-4317-bf94-7cfc5a463248",
   "metadata": {},
   "outputs": [
    {
     "name": "stdout",
     "output_type": "stream",
     "text": [
      "Enterthe length:  3\n"
     ]
    }
   ],
   "source": [
    "def tuple_len(input_tuple):\n",
    "    count = 0\n",
    "    for _ in input_tuple:\n",
    "        count  += 1\n",
    "    return count\n",
    "    \n",
    "mytuple= (12,12,23)\n",
    "length =  tuple_len(mytuple)\n",
    "print(\"Enterthe length: \",length)"
   ]
  },
  {
   "cell_type": "code",
   "execution_count": 27,
   "id": "5abe9119-fc4b-4cf9-a8b8-3a5c77d47f44",
   "metadata": {},
   "outputs": [],
   "source": [
    "#Question 4 Count the occurrences of an element in a tuple."
   ]
  },
  {
   "cell_type": "code",
   "execution_count": 38,
   "id": "f2c4e3d6-3bdf-4d0f-aa17-b50587101624",
   "metadata": {},
   "outputs": [
    {
     "name": "stdout",
     "output_type": "stream",
     "text": [
      "the element 10 occurs 3 times\n"
     ]
    }
   ],
   "source": [
    "my_tuple = (10, 8, 5, 2, 10, 15, 10, 8, 5, 8, 8, 2)\n",
    "x = [i for i in my_tuple if i == 10]\n",
    "print(\"the element 10 occurs\", len(x), \"times\")\n"
   ]
  },
  {
   "cell_type": "code",
   "execution_count": null,
   "id": "d2d3f207-206e-458a-97e3-9de4ad88678d",
   "metadata": {},
   "outputs": [],
   "source": [
    "#Question 5. Find the index of the first occurrence of an element in a tuple."
   ]
  },
  {
   "cell_type": "code",
   "execution_count": 2,
   "id": "1e1fa203-ad96-42fb-bc9b-1703cf4b7065",
   "metadata": {},
   "outputs": [
    {
     "name": "stdout",
     "output_type": "stream",
     "text": [
      "index of the first occurrence of an element :  0\n"
     ]
    }
   ],
   "source": [
    "My_tuple = (10,12,13,14,15)\n",
    "result = My_tuple.index(10)\n",
    "print(\"index of the first occurrence of an element : \",result)"
   ]
  },
  {
   "cell_type": "code",
   "execution_count": 3,
   "id": "c693b54b-0543-4082-b1d5-be1d7a69e36f",
   "metadata": {},
   "outputs": [],
   "source": [
    "#Question 6. Check if an element exists in a tuple."
   ]
  },
  {
   "cell_type": "code",
   "execution_count": 13,
   "id": "328aba5e-95a2-420c-937a-1f020bc646ea",
   "metadata": {},
   "outputs": [
    {
     "name": "stdout",
     "output_type": "stream",
     "text": [
      "The original tuple : (10, 20, 30, 40, 50)\n",
      "Element exists in a tuple. :  True\n"
     ]
    }
   ],
   "source": [
    "my_tuple = (10,20,30,40,50)\n",
    "print(\"The original tuple :\",my_tuple)\n",
    "element = 20\n",
    "results = element in my_tuple\n",
    "print(\"Element exists in a tuple. : \",results)"
   ]
  },
  {
   "cell_type": "code",
   "execution_count": 1,
   "id": "08e82f43-c01c-4b3e-a227-f683ddc994ad",
   "metadata": {},
   "outputs": [],
   "source": [
    "#Question 7. Convert a tuple to a list."
   ]
  },
  {
   "cell_type": "code",
   "execution_count": 4,
   "id": "ec1bdec7-71f2-4fa1-9892-6f4ed60cbca5",
   "metadata": {},
   "outputs": [
    {
     "name": "stdout",
     "output_type": "stream",
     "text": [
      "This is tuple :  ('helli', 'welcome', 'pwskills', 'class')\n",
      "Converted tuple to a list : ['helli', 'welcome', 'pwskills', 'class']\n"
     ]
    }
   ],
   "source": [
    "my_tuple = ('helli','welcome','pwskills','class')\n",
    "print(\"This is tuple : \",my_tuple)\n",
    "my_list = list(my_tuple)\n",
    "print(\"Converted tuple to a list :\",my_list)"
   ]
  },
  {
   "cell_type": "code",
   "execution_count": 5,
   "id": "56e94575-6ef4-46ad-ae2d-72992842f400",
   "metadata": {},
   "outputs": [],
   "source": [
    "#Question 8. Convert a list to a tuple."
   ]
  },
  {
   "cell_type": "code",
   "execution_count": 6,
   "id": "b0d825e1-7b0f-442a-8b1e-75315b9ee703",
   "metadata": {},
   "outputs": [
    {
     "name": "stdout",
     "output_type": "stream",
     "text": [
      "This is list: [12, 14, 15, 16]\n",
      "Converted list to a tuple : (12, 14, 15, 16)\n"
     ]
    }
   ],
   "source": [
    "my_list = [12,14,15,16]\n",
    "print(\"This is list:\",my_list)\n",
    "my_tuple = tuple(my_list)\n",
    "print(\"Converted list to a tuple :\",my_tuple)"
   ]
  },
  {
   "cell_type": "code",
   "execution_count": 7,
   "id": "4d72df01-4c23-4487-b980-a463847c381b",
   "metadata": {},
   "outputs": [],
   "source": [
    "#Question 9. Unpack the elements of a tuple into variables."
   ]
  },
  {
   "cell_type": "code",
   "execution_count": 10,
   "id": "38b2df76-585b-4407-a31c-7271a2039b71",
   "metadata": {},
   "outputs": [
    {
     "name": "stdout",
     "output_type": "stream",
     "text": [
      "shama sviet\n",
      "5000\n",
      "Engineering\n"
     ]
    }
   ],
   "source": [
    "a = (\"shama sviet\", 5000, \"Engineering\")  \n",
    "(college, student, type_ofcollege) = a  \n",
    "print(college)\n",
    "print(student) \n",
    "print(type_ofcollege)"
   ]
  },
  {
   "cell_type": "code",
   "execution_count": 11,
   "id": "fa5b01d2-ebb5-4190-8cc4-dac2b1130938",
   "metadata": {},
   "outputs": [],
   "source": [
    "#Question 10. Create a tuple of even numbers from 1 to 10."
   ]
  },
  {
   "cell_type": "code",
   "execution_count": 17,
   "id": "c6a7fa78-2bc0-42de-bc35-c0695d5dcd08",
   "metadata": {},
   "outputs": [
    {
     "name": "stdout",
     "output_type": "stream",
     "text": [
      "2 4 6 8 10 "
     ]
    }
   ],
   "source": [
    "my_tuple = (1,2,3,4,5,6,7,8,9,10)\n",
    "for num in my_tuple:\n",
    "      if num % 2 == 0:\n",
    "        print(num, end=\" \")\n"
   ]
  },
  {
   "cell_type": "code",
   "execution_count": 18,
   "id": "94b76465-9145-42a1-976d-c4cbaa03c8b8",
   "metadata": {},
   "outputs": [],
   "source": [
    "#Question 11. Create a tuple of odd numbers from 1 to 10."
   ]
  },
  {
   "cell_type": "code",
   "execution_count": 19,
   "id": "c07d7096-7692-4f93-8c83-1166f6c23ce5",
   "metadata": {},
   "outputs": [
    {
     "name": "stdout",
     "output_type": "stream",
     "text": [
      "1 3 5 7 9 "
     ]
    }
   ],
   "source": [
    "my_tuple = (1,2,3,4,5,6,7,8,9,10)\n",
    "for num in my_tuple:\n",
    "     if num % 2 != 0:\n",
    "            print(num, end=\" \")"
   ]
  },
  {
   "cell_type": "code",
   "execution_count": 20,
   "id": "e6bfe0f7-c351-4072-8ef4-53439b2efeb8",
   "metadata": {},
   "outputs": [],
   "source": [
    "#Question 12. Concatenate two tuples."
   ]
  },
  {
   "cell_type": "code",
   "execution_count": 21,
   "id": "c476de71-ab5f-4b1d-ae00-d82faf064582",
   "metadata": {},
   "outputs": [
    {
     "name": "stdout",
     "output_type": "stream",
     "text": [
      "Concatenated tuple: (1, 3, 5, 4, 6)\n"
     ]
    }
   ],
   "source": [
    "import itertools\n",
    "tuple1 = (1, 3, 5)\n",
    "tuple2 = (4, 6)\n",
    "tuple3 = tuple(itertools.chain(tuple1, tuple2))\n",
    "print(\"Concatenated tuple:\", tuple3)"
   ]
  },
  {
   "cell_type": "code",
   "execution_count": 1,
   "id": "3723409d-c6b8-4f9b-97c9-27d6d482a98b",
   "metadata": {},
   "outputs": [],
   "source": [
    "#Question 13. Repeat a tuple three times."
   ]
  },
  {
   "cell_type": "code",
   "execution_count": 6,
   "id": "b310d36e-9151-40c8-93c8-2ec43071a12a",
   "metadata": {},
   "outputs": [
    {
     "name": "stdout",
     "output_type": "stream",
     "text": [
      "print original tuple :  (3, 4)\n",
      "The duplicated tuple elements are :  ((3, 4), (3, 4), (3, 4))\n"
     ]
    }
   ],
   "source": [
    "my_tuple = (3,4)\n",
    "print(\"print original tuple : \",my_tuple)\n",
    "N = 3\n",
    "result =((my_tuple,) * N)\n",
    "print(\"The duplicated tuple elements are : \" ,result)"
   ]
  },
  {
   "cell_type": "code",
   "execution_count": 7,
   "id": "191fcb31-d3fc-4a0b-a630-333337f740f5",
   "metadata": {},
   "outputs": [],
   "source": [
    "#Question 14. Check if a tuple is empty."
   ]
  },
  {
   "cell_type": "code",
   "execution_count": 10,
   "id": "aee10d96-3a54-4e0e-81d9-d8964834ec9c",
   "metadata": {},
   "outputs": [
    {
     "name": "stdout",
     "output_type": "stream",
     "text": [
      "Mytuple is empty\n"
     ]
    }
   ],
   "source": [
    "Mytuple=()\n",
    "if not Mytuple:\n",
    "    print (\"Mytuple is empty\")\n",
    "else:\n",
    "    print (\"Mytuple is not empty\")\n",
    "    "
   ]
  },
  {
   "cell_type": "code",
   "execution_count": 11,
   "id": "6b75b229-3a7c-481d-88e0-52e6f58261e7",
   "metadata": {},
   "outputs": [],
   "source": [
    "#Question 15. Create a nested tuple."
   ]
  },
  {
   "cell_type": "code",
   "execution_count": 12,
   "id": "2343f25c-0b4e-425f-bd6f-ce9a5901e53a",
   "metadata": {},
   "outputs": [
    {
     "name": "stdout",
     "output_type": "stream",
     "text": [
      "print my_tuple1 (1, 2)\n",
      "print my_tuple2 (3, 4)\n",
      "print res: (1, 2, 3, 4)\n"
     ]
    }
   ],
   "source": [
    "my_tuple1 = (1,2)\n",
    "my_tuple2 = (3,4)\n",
    "print(\"print my_tuple1\",my_tuple1)\n",
    "print(\"print my_tuple2\", my_tuple2)\n",
    "res = my_tuple1 + my_tuple2\n",
    "print(\"print res:\",res)\n",
    "\n"
   ]
  },
  {
   "cell_type": "code",
   "execution_count": 13,
   "id": "76ee22bb-8871-46ec-9bd3-46a0774b0e09",
   "metadata": {},
   "outputs": [],
   "source": [
    "#Question 16 Access the first element of a nested tuple."
   ]
  },
  {
   "cell_type": "code",
   "execution_count": 14,
   "id": "a89b5216-f85d-4cc0-8de8-f56d7cd89404",
   "metadata": {},
   "outputs": [
    {
     "name": "stdout",
     "output_type": "stream",
     "text": [
      "Pw Skills\n"
     ]
    }
   ],
   "source": [
    "myTuple = (\"Pw Skills\", 4, 29, 13)\n",
    "print(myTuple[0])"
   ]
  },
  {
   "cell_type": "code",
   "execution_count": 1,
   "id": "a14bf6fd-a069-4f98-b5a0-d68f30f608ed",
   "metadata": {},
   "outputs": [],
   "source": [
    "#Question 17. Create a tuple with a single element."
   ]
  },
  {
   "cell_type": "code",
   "execution_count": 3,
   "id": "9c6128de-8df4-4baf-8a82-ba0f160afc46",
   "metadata": {},
   "outputs": [
    {
     "name": "stdout",
     "output_type": "stream",
     "text": [
      "print single element tuple: shama\n"
     ]
    }
   ],
   "source": [
    "single_ele_tuple = (\"shama\")\n",
    "print(\"print single element tuple:\",single_ele_tuple)"
   ]
  },
  {
   "cell_type": "code",
   "execution_count": 4,
   "id": "45cbc74c-a920-4e79-a759-fa34b3396b33",
   "metadata": {},
   "outputs": [],
   "source": [
    "#Question 18.Compare two tuples."
   ]
  },
  {
   "cell_type": "code",
   "execution_count": 5,
   "id": "65c4834d-d327-44dd-98b0-1f64fef3f023",
   "metadata": {},
   "outputs": [
    {
     "name": "stdout",
     "output_type": "stream",
     "text": [
      "tuple1 == tuple2: False\n",
      "tuple1 != tuple2: True\n",
      "tuple1 < tuple2: True\n",
      "tuple1 <= tuple2: True\n",
      "tuple1 > tuple2: False\n",
      "tuple1 >= tuple2: False\n"
     ]
    }
   ],
   "source": [
    "tuple1 = (1, 2, 3)\n",
    "tuple2 = (1, 2, 4)\n",
    "print(\"tuple1 == tuple2:\", tuple1 == tuple2)  # Equality check\n",
    "print(\"tuple1 != tuple2:\", tuple1 != tuple2)  # Inequality check\n",
    "print(\"tuple1 < tuple2:\", tuple1 < tuple2)    # Less than check\n",
    "print(\"tuple1 <= tuple2:\", tuple1 <= tuple2)  # Less than or equal to check\n",
    "print(\"tuple1 > tuple2:\", tuple1 > tuple2)    # Greater than check\n",
    "print(\"tuple1 >= tuple2:\", tuple1 >= tuple2)  # Greater than or equal to check"
   ]
  },
  {
   "cell_type": "code",
   "execution_count": 6,
   "id": "b0c3dc13-2ae6-4c6f-8d99-a378f20148fe",
   "metadata": {},
   "outputs": [],
   "source": [
    "#Question 19. Delete a tuple."
   ]
  },
  {
   "cell_type": "code",
   "execution_count": 7,
   "id": "f5a37834-ffdb-451b-be67-b794f0dbf685",
   "metadata": {},
   "outputs": [
    {
     "name": "stdout",
     "output_type": "stream",
     "text": [
      "print oroginal my_tuple: (1, 2, 3, 4, 5, 6, 7)\n"
     ]
    },
    {
     "ename": "NameError",
     "evalue": "name 'my_tuple' is not defined",
     "output_type": "error",
     "traceback": [
      "\u001b[0;31m---------------------------------------------------------------------------\u001b[0m",
      "\u001b[0;31mNameError\u001b[0m                                 Traceback (most recent call last)",
      "Cell \u001b[0;32mIn[7], line 4\u001b[0m\n\u001b[1;32m      2\u001b[0m \u001b[38;5;28mprint\u001b[39m(\u001b[38;5;124m\"\u001b[39m\u001b[38;5;124mprint oroginal my_tuple:\u001b[39m\u001b[38;5;124m\"\u001b[39m,my_tuple)\n\u001b[1;32m      3\u001b[0m \u001b[38;5;28;01mdel\u001b[39;00m my_tuple\n\u001b[0;32m----> 4\u001b[0m \u001b[38;5;28mprint\u001b[39m(\u001b[38;5;124m\"\u001b[39m\u001b[38;5;124mprint delete tuple:\u001b[39m\u001b[38;5;124m\"\u001b[39m, \u001b[43mmy_tuple\u001b[49m)\n",
      "\u001b[0;31mNameError\u001b[0m: name 'my_tuple' is not defined"
     ]
    }
   ],
   "source": [
    "my_tuple = (1,2,3,4,5,6,7)\n",
    "print(\"print oroginal my_tuple:\",my_tuple)\n",
    "del my_tuple\n",
    "print(\"print delete tuple:\", my_tuple)"
   ]
  },
  {
   "cell_type": "code",
   "execution_count": 8,
   "id": "4561c38e-9236-40c6-9a66-fc4833851a7b",
   "metadata": {},
   "outputs": [],
   "source": [
    "#Question 20 Slice a tuple."
   ]
  },
  {
   "cell_type": "code",
   "execution_count": 10,
   "id": "cc7ccbc3-5d97-4264-a1ea-ea513e56b3f6",
   "metadata": {},
   "outputs": [
    {
     "name": "stdout",
     "output_type": "stream",
     "text": [
      "print original tuple : (1, 2, 3, 4, 5, 6, 7, 8)\n",
      "Sliced tuple: (3, 4, 5, 6, 7)\n"
     ]
    }
   ],
   "source": [
    "my_tuple =(1,2,3,4,5,6,7,8)\n",
    "print(\"print original tuple :\",my_tuple)\n",
    "sliced_tuple = my_tuple[2:7]\n",
    "print(\"Sliced tuple:\", sliced_tuple)\n"
   ]
  },
  {
   "cell_type": "code",
   "execution_count": 11,
   "id": "0fc035d0-0de3-4c48-9f33-cb658741df08",
   "metadata": {},
   "outputs": [],
   "source": [
    "#Question 21. Find the maximum value in a tuple."
   ]
  },
  {
   "cell_type": "code",
   "execution_count": 12,
   "id": "396d8bdb-5ff1-408e-b1a1-462331a59198",
   "metadata": {},
   "outputs": [
    {
     "name": "stdout",
     "output_type": "stream",
     "text": [
      "print maximum value:  7\n"
     ]
    }
   ],
   "source": [
    "my_tuple = (1,3,2,4,5,6,7,6)\n",
    "max_value = max(my_tuple)\n",
    "print(\"print maximum value: \",max_value)\n"
   ]
  },
  {
   "cell_type": "code",
   "execution_count": 13,
   "id": "ed19d666-8d28-432c-ad30-9a9a1a6a26a8",
   "metadata": {},
   "outputs": [],
   "source": [
    "#Question 22. Find the minimum value in a tuple."
   ]
  },
  {
   "cell_type": "code",
   "execution_count": 14,
   "id": "1bf839f7-2f20-4daa-bac7-31b88dc8312a",
   "metadata": {},
   "outputs": [
    {
     "name": "stdout",
     "output_type": "stream",
     "text": [
      "minimum value in a tuple: 1\n"
     ]
    }
   ],
   "source": [
    "my_tuple = (1,2,3,4,5,6,7,8,9)\n",
    "min_value = min(my_tuple)\n",
    "print(\"minimum value in a tuple:\",min_value)"
   ]
  },
  {
   "cell_type": "code",
   "execution_count": 15,
   "id": "693790c9-ba84-414e-8650-1a14d4e3ccad",
   "metadata": {},
   "outputs": [],
   "source": [
    "#Question 23. Convert a string to a tuple of characters."
   ]
  },
  {
   "cell_type": "code",
   "execution_count": 16,
   "id": "8b936e60-c5df-42f0-838b-00366cae9ea9",
   "metadata": {},
   "outputs": [
    {
     "name": "stdout",
     "output_type": "stream",
     "text": [
      "Tuple of characters: ('H', 'e', 'l', 'l', 'o', ',', ' ', 'W', 'o', 'r', 'l', 'd', '!')\n"
     ]
    }
   ],
   "source": [
    "my_string = \"Hello, World!\"\n",
    "tuple_of_characters = tuple(my_string)\n",
    "print(\"Tuple of characters:\", tuple_of_characters)"
   ]
  },
  {
   "cell_type": "code",
   "execution_count": 17,
   "id": "5f62f82b-2ff8-47f8-8731-abeb2e8363d7",
   "metadata": {},
   "outputs": [],
   "source": [
    "#Question 24. Convert a tuple of characters to a string."
   ]
  },
  {
   "cell_type": "code",
   "execution_count": 18,
   "id": "c4ec6890-4b58-4e36-9edf-57ec7453b3b7",
   "metadata": {},
   "outputs": [
    {
     "name": "stdout",
     "output_type": "stream",
     "text": [
      "String from tuple: Hello World!\n"
     ]
    }
   ],
   "source": [
    "tuple_of_characters = ('H', 'e', 'l', 'l', 'o', ' ', 'W', 'o', 'r', 'l', 'd', '!')\n",
    "string_from_tuple = ''.join(tuple_of_characters)\n",
    "print(\"String from tuple:\", string_from_tuple)\n"
   ]
  },
  {
   "cell_type": "code",
   "execution_count": 19,
   "id": "59fd2438-f6ae-498f-b474-c523fa765975",
   "metadata": {},
   "outputs": [],
   "source": [
    "#Question 25. Create a tuple from multiple data types."
   ]
  },
  {
   "cell_type": "code",
   "execution_count": 20,
   "id": "7c61f6f8-120b-433e-8403-680d8417d5c4",
   "metadata": {},
   "outputs": [
    {
     "name": "stdout",
     "output_type": "stream",
     "text": [
      "(1, 'hello', 3.14, True)\n"
     ]
    }
   ],
   "source": [
    "mixed_tuple = (1, \"hello\", 3.14, True)\n",
    "print(mixed_tuple)"
   ]
  },
  {
   "cell_type": "code",
   "execution_count": 21,
   "id": "e7195db9-8e60-4913-b7b2-fc4e8466554a",
   "metadata": {},
   "outputs": [],
   "source": [
    "#Question 26. Check if two tuples are identical."
   ]
  },
  {
   "cell_type": "code",
   "execution_count": 22,
   "id": "eb83f342-1e54-4124-b7ca-c495d8b21a3b",
   "metadata": {},
   "outputs": [
    {
     "name": "stdout",
     "output_type": "stream",
     "text": [
      "tuple1 and tuple2 are identical: True\n",
      "tuple1 and tuple3 are identical: False\n"
     ]
    }
   ],
   "source": [
    "tuple1 = (1, 2, 3)\n",
    "tuple2 = (1, 2, 3)\n",
    "tuple3 = (4, 5, 6)\n",
    "are_identical1 = tuple1 == tuple2\n",
    "are_identical2 = tuple1 == tuple3\n",
    "print(\"tuple1 and tuple2 are identical:\", are_identical1)\n",
    "print(\"tuple1 and tuple3 are identical:\", are_identical2)"
   ]
  },
  {
   "cell_type": "code",
   "execution_count": 23,
   "id": "da9bb778-280f-492d-b6db-de3d7b93d5b7",
   "metadata": {},
   "outputs": [],
   "source": [
    "#Question 27. Sort the elements of a tuple."
   ]
  },
  {
   "cell_type": "code",
   "execution_count": 24,
   "id": "4b66f9a6-669a-4abc-bb06-74f427b555c2",
   "metadata": {},
   "outputs": [
    {
     "name": "stdout",
     "output_type": "stream",
     "text": [
      "print origanl tuple : (1, 2, 3, 4, 5, 6, 3)\n",
      "this is sorted tuple: (1, 2, 3, 3, 4, 5, 6)\n"
     ]
    }
   ],
   "source": [
    "my_tuple = (1,2,3,4,5,6,3)\n",
    "print(\"print origanl tuple :\",my_tuple)\n",
    "sorted_tuple = tuple(sorted(my_tuple))\n",
    "print(\"this is sorted tuple:\",sorted_tuple)"
   ]
  },
  {
   "cell_type": "code",
   "execution_count": 25,
   "id": "be5a2f8c-bdad-4ea6-9945-885c5bddf94a",
   "metadata": {},
   "outputs": [],
   "source": [
    "#Question 28. Convert a tuple of integers to a tuple of strings."
   ]
  },
  {
   "cell_type": "code",
   "execution_count": 26,
   "id": "0d68d686-d424-4f10-aa6b-a3a09dbf268c",
   "metadata": {},
   "outputs": [
    {
     "name": "stdout",
     "output_type": "stream",
     "text": [
      "Tuple of strings: ('1', '2', '3', '4', '5')\n"
     ]
    }
   ],
   "source": [
    "tuple_of_integers = (1, 2, 3, 4, 5)\n",
    "tuple_of_strings = tuple(str(item) for item in tuple_of_integers)\n",
    "print(\"Tuple of strings:\", tuple_of_strings)"
   ]
  },
  {
   "cell_type": "code",
   "execution_count": 27,
   "id": "b73a0f6f-5d21-44b1-8d85-cfbc68c4ed98",
   "metadata": {},
   "outputs": [],
   "source": [
    "#Question 29. Convert a tuple of strings to a tuple of integers."
   ]
  },
  {
   "cell_type": "code",
   "execution_count": 28,
   "id": "4336a677-7302-49ad-a3bb-95a07d7ac68d",
   "metadata": {},
   "outputs": [
    {
     "name": "stdout",
     "output_type": "stream",
     "text": [
      "Tuple of integers: (10, 20, 30, 40, 50)\n"
     ]
    }
   ],
   "source": [
    "tuple_of_strings = ('10', '20', '30', '40', '50')\n",
    "tuple_of_integers = tuple(int(item) for item in tuple_of_strings)\n",
    "print(\"Tuple of integers:\", tuple_of_integers)"
   ]
  },
  {
   "cell_type": "code",
   "execution_count": 29,
   "id": "5120d712-4ce7-4aa6-a7a5-9a6ca6af5285",
   "metadata": {},
   "outputs": [],
   "source": [
    "#Question 30 . Merge two tuples."
   ]
  },
  {
   "cell_type": "code",
   "execution_count": 30,
   "id": "117e6784-8056-43a3-a044-7636b789241b",
   "metadata": {},
   "outputs": [
    {
     "name": "stdout",
     "output_type": "stream",
     "text": [
      "Merged tuple: (1, 2, 3, 4, 5, 6)\n"
     ]
    }
   ],
   "source": [
    "tuple1 = (1, 2, 3)\n",
    "tuple2 = (4, 5, 6)\n",
    "merged_tuple = tuple1 + tuple2\n",
    "print(\"Merged tuple:\", merged_tuple)"
   ]
  },
  {
   "cell_type": "code",
   "execution_count": 31,
   "id": "7e2f14e0-8edb-4f05-8713-595c2c5c0d2a",
   "metadata": {},
   "outputs": [],
   "source": [
    "#Question 31. Flatten a nested tuple."
   ]
  },
  {
   "cell_type": "code",
   "execution_count": 32,
   "id": "b086ebfc-4d08-477b-9530-c2ca42349924",
   "metadata": {},
   "outputs": [
    {
     "name": "stdout",
     "output_type": "stream",
     "text": [
      "Flattened tuple: (1, 2, 3, 4, 5, 6, 7, 8)\n"
     ]
    }
   ],
   "source": [
    "def flatten_tuple(nested_tuple):\n",
    "    flattened = []\n",
    "    for item in nested_tuple:\n",
    "        if isinstance(item, tuple):\n",
    "            flattened.extend(flatten_tuple(item))\n",
    "        else:\n",
    "            flattened.append(item)\n",
    "    return flattened\n",
    "nested_tuple = ((1, 2), (3, 4, 5), (6, (7, 8)))\n",
    "flattened_tuple = tuple(flatten_tuple(nested_tuple))\n",
    "print(\"Flattened tuple:\", flattened_tuple)"
   ]
  },
  {
   "cell_type": "code",
   "execution_count": 33,
   "id": "645b6988-34a4-4ff9-b8b5-be59287c1215",
   "metadata": {},
   "outputs": [],
   "source": [
    "#Question 32. Create a tuple of the first 5 prime numbers. "
   ]
  },
  {
   "cell_type": "code",
   "execution_count": 34,
   "id": "20e10e3b-b929-44b3-a8f3-5d8a829e2e24",
   "metadata": {},
   "outputs": [
    {
     "name": "stdout",
     "output_type": "stream",
     "text": [
      "Tuple of the first 5 prime numbers: (2, 3, 5, 7, 11)\n"
     ]
    }
   ],
   "source": [
    "def is_prime(num):\n",
    "    if num <= 1:\n",
    "        return False\n",
    "    for i in range(2, int(num ** 0.5) + 1):\n",
    "        if num % i == 0:\n",
    "            return False\n",
    "    return True\n",
    "prime_numbers_list = [num for num in range(2, 100) if is_prime(num)][:5]\n",
    "prime_numbers_tuple = tuple(prime_numbers_list)\n",
    "print(\"Tuple of the first 5 prime numbers:\", prime_numbers_tuple)"
   ]
  },
  {
   "cell_type": "code",
   "execution_count": 35,
   "id": "375e3c50-4cd8-4131-aa21-a5b68fb2d03d",
   "metadata": {},
   "outputs": [],
   "source": [
    "#Question 33. Check if a tuple is a palindrome."
   ]
  },
  {
   "cell_type": "code",
   "execution_count": 36,
   "id": "11684f13-d22f-4939-a65d-8c246b8a2405",
   "metadata": {},
   "outputs": [
    {
     "name": "stdout",
     "output_type": "stream",
     "text": [
      "palindrome_tuple is a palindrome: True\n",
      "non_palindrome_tuple is a palindrome: False\n"
     ]
    }
   ],
   "source": [
    "def is_palindrome(tup):\n",
    "    return tup == tup[::-1]\n",
    "palindrome_tuple = (1, 2, 3, 2, 1)\n",
    "non_palindrome_tuple = (1, 2, 3, 4, 5)\n",
    "is_palindrome1 = is_palindrome(palindrome_tuple)\n",
    "is_palindrome2 = is_palindrome(non_palindrome_tuple)\n",
    "print(\"palindrome_tuple is a palindrome:\", is_palindrome1)\n",
    "print(\"non_palindrome_tuple is a palindrome:\", is_palindrome2)"
   ]
  },
  {
   "cell_type": "code",
   "execution_count": 37,
   "id": "4087c22b-41e5-4ede-8727-2aa5f40cc5ad",
   "metadata": {},
   "outputs": [],
   "source": [
    "#Question 34. Create a tuple of squares of numbers from 1 to 5."
   ]
  },
  {
   "cell_type": "code",
   "execution_count": 38,
   "id": "aac3f27d-9236-49af-afdf-6b3d9eba9aed",
   "metadata": {},
   "outputs": [
    {
     "name": "stdout",
     "output_type": "stream",
     "text": [
      "Tuple of squares: (1, 4, 9, 16, 25)\n"
     ]
    }
   ],
   "source": [
    "squares_tuple = tuple(x ** 2 for x in range(1, 6))\n",
    "print(\"Tuple of squares:\", squares_tuple)"
   ]
  },
  {
   "cell_type": "code",
   "execution_count": 39,
   "id": "d74d664c-7b4b-41c3-a87c-5fe85bf7a5f2",
   "metadata": {},
   "outputs": [],
   "source": [
    "#Question 35. Filter out all even numbers from a tuple."
   ]
  },
  {
   "cell_type": "code",
   "execution_count": 40,
   "id": "6bb1e0af-256a-4ced-8be1-13fbc908078d",
   "metadata": {},
   "outputs": [
    {
     "name": "stdout",
     "output_type": "stream",
     "text": [
      "Filtered tuple: (1, 3, 5, 7, 9)\n"
     ]
    }
   ],
   "source": [
    "original_tuple = (1, 2, 3, 4, 5, 6, 7, 8, 9, 10)\n",
    "filtered_tuple = tuple(num for num in original_tuple if num % 2 != 0)\n",
    "print(\"Filtered tuple:\", filtered_tuple)"
   ]
  },
  {
   "cell_type": "code",
   "execution_count": 41,
   "id": "0513449d-052b-41d4-a713-cd3f173f481b",
   "metadata": {},
   "outputs": [],
   "source": [
    "#Question 36. Multiply all elements in a tuple by 2."
   ]
  },
  {
   "cell_type": "code",
   "execution_count": 44,
   "id": "0aef4cba-79ce-4b3b-9199-1bb6b47134cf",
   "metadata": {},
   "outputs": [
    {
     "name": "stdout",
     "output_type": "stream",
     "text": [
      "this is originl element in tuple:  (1, 2, 3, 4, 5, 6, 7, 8)\n",
      "Doubled tuple: (2, 4, 6, 8, 10, 12, 14, 16)\n"
     ]
    }
   ],
   "source": [
    "my_tuple = (1,2,3,4,5,6,7,8)\n",
    "print(\"this is originl element in tuple: \", my_tuple)\n",
    "doubled_tuple = tuple(num * 2 for num in my_tuple)\n",
    "print(\"Doubled tuple:\", doubled_tuple)"
   ]
  },
  {
   "cell_type": "code",
   "execution_count": 45,
   "id": "1322e9cc-0b1f-425c-a96a-8b176c882a6c",
   "metadata": {},
   "outputs": [],
   "source": [
    "#Question 37. Create a tuple of random numbers."
   ]
  },
  {
   "cell_type": "code",
   "execution_count": 46,
   "id": "6113c43d-3840-48fb-9b76-6defd0ad5c5e",
   "metadata": {},
   "outputs": [
    {
     "name": "stdout",
     "output_type": "stream",
     "text": [
      "Random tuple: (39, 30, 75, 46, 93, 87, 48, 73, 79, 84)\n"
     ]
    }
   ],
   "source": [
    "import random\n",
    "random_tuple = tuple(random.randint(1, 100) for _ in range(10)) \n",
    "print(\"Random tuple:\", random_tuple)"
   ]
  },
  {
   "cell_type": "code",
   "execution_count": 47,
   "id": "0e38d096-6370-4d11-8d50-60b3b6f91996",
   "metadata": {},
   "outputs": [],
   "source": [
    "#Question 38. Check if a tuple is sorted."
   ]
  },
  {
   "cell_type": "code",
   "execution_count": 48,
   "id": "ea9b8e27-0dc7-4392-9191-59eb9aba76e6",
   "metadata": {},
   "outputs": [
    {
     "name": "stdout",
     "output_type": "stream",
     "text": [
      "sorted_tuple is sorted: True\n",
      "unsorted_tuple is sorted: False\n"
     ]
    }
   ],
   "source": [
    "def is_sorted(tup):\n",
    "    for i in range(len(tup) - 1):\n",
    "        if tup[i] > tup[i + 1]:\n",
    "            return False\n",
    "    return True\n",
    "sorted_tuple = (1, 2, 3, 4, 5)\n",
    "unsorted_tuple = (5, 3, 1, 4, 2)\n",
    "is_sorted1 = is_sorted(sorted_tuple)\n",
    "is_sorted2 = is_sorted(unsorted_tuple)\n",
    "\n",
    "print(\"sorted_tuple is sorted:\", is_sorted1)\n",
    "print(\"unsorted_tuple is sorted:\", is_sorted2)"
   ]
  },
  {
   "cell_type": "code",
   "execution_count": 49,
   "id": "e8208734-ca77-4413-a42d-81a14dd7b8e9",
   "metadata": {},
   "outputs": [],
   "source": [
    "#Question 39. Rotate a tuple to the left by `n` positions."
   ]
  },
  {
   "cell_type": "code",
   "execution_count": 50,
   "id": "63ce23f1-ab92-4afa-b931-1dc809467d55",
   "metadata": {},
   "outputs": [
    {
     "name": "stdout",
     "output_type": "stream",
     "text": [
      "(3, 4, 5, 1, 2)\n"
     ]
    }
   ],
   "source": [
    "def rotate_tuple_left(tup, n):\n",
    "    n = n % len(tup)  \n",
    "    rotated_tuple = tup[n:] + tup[:n] \n",
    "    return rotated_tuple\n",
    "my_tuple = (1, 2, 3, 4, 5)\n",
    "n_positions = 2\n",
    "result = rotate_tuple_left(my_tuple, n_positions)\n",
    "print(result)"
   ]
  },
  {
   "cell_type": "code",
   "execution_count": 51,
   "id": "b80fd15f-1f96-4e27-afea-2709bd18b617",
   "metadata": {},
   "outputs": [],
   "source": [
    "#Question 40. Rotate a tuple to the right by `n` positions."
   ]
  },
  {
   "cell_type": "code",
   "execution_count": 52,
   "id": "bb27a6e1-de2a-41c3-843c-f3c583c958e7",
   "metadata": {},
   "outputs": [
    {
     "name": "stdout",
     "output_type": "stream",
     "text": [
      "(4, 5, 1, 2, 3)\n"
     ]
    }
   ],
   "source": [
    "def rotate_tuple_right(tup, n):\n",
    "    n = n % len(tup)  \n",
    "    rotated_tuple = tup[-n:] + tup[:-n] \n",
    "    return rotated_tuple\n",
    "\n",
    "\n",
    "my_tuple = (1, 2, 3, 4, 5)\n",
    "n_positions = 2\n",
    "result = rotate_tuple_right(my_tuple, n_positions)\n",
    "print(result)"
   ]
  },
  {
   "cell_type": "code",
   "execution_count": 53,
   "id": "7a2e9560-69b7-496c-841d-95d503d84b94",
   "metadata": {},
   "outputs": [],
   "source": [
    "#Question 41. Create a tuple of the first 5 Fibonacci numbers."
   ]
  },
  {
   "cell_type": "code",
   "execution_count": 54,
   "id": "d0b759d4-faea-480e-ac69-12f3770ebcd5",
   "metadata": {},
   "outputs": [
    {
     "name": "stdout",
     "output_type": "stream",
     "text": [
      "(0, 1, 1, 2, 3)\n"
     ]
    }
   ],
   "source": [
    "def generate_fibonacci(n):\n",
    "    fibonacci = [0, 1] \n",
    "    while len(fibonacci) < n:  \n",
    "        next_number = fibonacci[-1] + fibonacci[-2]  \n",
    "        fibonacci.append(next_number)  \n",
    "    return tuple(fibonacci)  \n",
    "fibonacci_tuple = generate_fibonacci(5)\n",
    "print(fibonacci_tuple)"
   ]
  },
  {
   "cell_type": "code",
   "execution_count": 55,
   "id": "51ad21c4-c049-472f-8653-e53d1b647016",
   "metadata": {},
   "outputs": [],
   "source": [
    "#Question 42. Create a tuple from user input."
   ]
  },
  {
   "cell_type": "code",
   "execution_count": 56,
   "id": "b2d6c34f-0ee7-4db3-a7e4-4c1b896e7984",
   "metadata": {},
   "outputs": [
    {
     "name": "stdin",
     "output_type": "stream",
     "text": [
      "Enter elements separated by commas:  hello world\n"
     ]
    },
    {
     "name": "stdout",
     "output_type": "stream",
     "text": [
      "User input tuple: ('hello world',)\n"
     ]
    }
   ],
   "source": [
    "input_str = input(\"Enter elements separated by commas: \")\n",
    "input_list = input_str.split(',')\n",
    "user_tuple = tuple(input_list)\n",
    "print(\"User input tuple:\", user_tuple)"
   ]
  },
  {
   "cell_type": "code",
   "execution_count": 57,
   "id": "62d20d3f-a331-4f99-9893-a798b1d4b0ae",
   "metadata": {},
   "outputs": [],
   "source": [
    "#Question 43. Swap two elements in a tuple."
   ]
  },
  {
   "cell_type": "code",
   "execution_count": 58,
   "id": "9c169608-7a59-4f84-8e20-3a953d86b1f9",
   "metadata": {},
   "outputs": [
    {
     "name": "stdout",
     "output_type": "stream",
     "text": [
      "Swapped tuple: (1, 4, 3, 2, 5)\n"
     ]
    }
   ],
   "source": [
    "my_tuple = (1, 2, 3, 4, 5)\n",
    "index1 = 1\n",
    "index2 = 3\n",
    "swapped_tuple = tuple(\n",
    "    my_tuple[i] if i not in (index1, index2) else\n",
    "    my_tuple[index2] if i == index1 else\n",
    "    my_tuple[index1]\n",
    "    for i in range(len(my_tuple))\n",
    ")\n",
    "print(\"Swapped tuple:\", swapped_tuple)"
   ]
  },
  {
   "cell_type": "code",
   "execution_count": 59,
   "id": "f3a7b07e-6aab-4065-8e63-3e3e3fadff8b",
   "metadata": {},
   "outputs": [],
   "source": [
    "#Question 44. Reverse the elements of a tuple."
   ]
  },
  {
   "cell_type": "code",
   "execution_count": 60,
   "id": "bf61d377-ce6b-4f13-a859-53bcbc4e3dfa",
   "metadata": {},
   "outputs": [
    {
     "name": "stdout",
     "output_type": "stream",
     "text": [
      "Reversed tuple: (5, 4, 3, 2, 1)\n"
     ]
    }
   ],
   "source": [
    "my_tuple = (1, 2, 3, 4, 5)\n",
    "reversed_tuple = my_tuple[::-1]\n",
    "print(\"Reversed tuple:\", reversed_tuple)"
   ]
  },
  {
   "cell_type": "code",
   "execution_count": 61,
   "id": "4d9b62ad-3a1e-44e4-b478-fccfec738784",
   "metadata": {},
   "outputs": [],
   "source": [
    "#Question 45. Create a tuple of the first `n` powers of 2."
   ]
  },
  {
   "cell_type": "code",
   "execution_count": 64,
   "id": "3e30883d-9883-4948-b32e-62809eddd3a9",
   "metadata": {},
   "outputs": [
    {
     "name": "stdout",
     "output_type": "stream",
     "text": [
      "Reversed tuple: (5, 4, 3, 2, 1)\n"
     ]
    }
   ],
   "source": [
    "my_tuple = (1, 2, 3, 4, 5)\n",
    "reversed_tuple = my_tuple[::-1]\n",
    "print(\"Reversed tuple:\", reversed_tuple)"
   ]
  },
  {
   "cell_type": "code",
   "execution_count": 63,
   "id": "413d2a46-82c5-4d1a-a98e-fdd25fe9f35d",
   "metadata": {},
   "outputs": [],
   "source": [
    "#Question 46. Find the longest string in a tuple of strings."
   ]
  },
  {
   "cell_type": "code",
   "execution_count": 65,
   "id": "f07ab9ad-e8b8-4a7b-8552-179b33da1f6b",
   "metadata": {},
   "outputs": [
    {
     "name": "stdout",
     "output_type": "stream",
     "text": [
      "Longest string: watermelon\n"
     ]
    }
   ],
   "source": [
    "string_tuple = (\"apple\", \"banana\", \"grape\", \"kiwi\", \"watermelon\")\n",
    "longest_string = max(string_tuple, key=len)\n",
    "print(\"Longest string:\", longest_string)"
   ]
  },
  {
   "cell_type": "code",
   "execution_count": 66,
   "id": "0552bb73-9f6f-4366-8b69-f260ecaa1942",
   "metadata": {},
   "outputs": [],
   "source": [
    "#Question 47. Find the shortest string in a tuple of strings."
   ]
  },
  {
   "cell_type": "code",
   "execution_count": 67,
   "id": "5e9c79ed-05f5-4ce3-9b2d-87e438924bb2",
   "metadata": {},
   "outputs": [
    {
     "name": "stdout",
     "output_type": "stream",
     "text": [
      "Shortest string: kiwi\n"
     ]
    }
   ],
   "source": [
    "string_tuple = (\"apple\", \"banana\", \"grape\", \"kiwi\", \"watermelon\")\n",
    "shortest_string = min(string_tuple, key=len)\n",
    "print(\"Shortest string:\", shortest_string)"
   ]
  },
  {
   "cell_type": "code",
   "execution_count": 68,
   "id": "3f430eeb-9803-46fe-a4f8-484fd5436755",
   "metadata": {},
   "outputs": [],
   "source": [
    "#Question 48. Create a tuple of the first `n` triangular numbers."
   ]
  },
  {
   "cell_type": "code",
   "execution_count": 69,
   "id": "847e44bf-a0f3-4f86-84da-76cb235e1b5c",
   "metadata": {},
   "outputs": [
    {
     "name": "stdout",
     "output_type": "stream",
     "text": [
      "Tuple of the first 5 triangular numbers: (1, 3, 6, 10, 15)\n"
     ]
    }
   ],
   "source": [
    "n = 5\n",
    "triangular_numbers_tuple = tuple((i * (i + 1)) // 2 for i in range(1, n + 1))\n",
    "print(\"Tuple of the first\", n, \"triangular numbers:\", triangular_numbers_tuple)"
   ]
  },
  {
   "cell_type": "code",
   "execution_count": 70,
   "id": "6d18fd6f-85d3-400b-9c3e-1f3a7c9f0111",
   "metadata": {},
   "outputs": [],
   "source": [
    "#Question 49. Check if a tuple contains another tuple as a subsequence."
   ]
  },
  {
   "cell_type": "code",
   "execution_count": 71,
   "id": "fe5ec627-e691-4ab2-be13-1b11e08a2258",
   "metadata": {},
   "outputs": [
    {
     "name": "stdout",
     "output_type": "stream",
     "text": [
      "Main tuple contains subsequence tuple: True\n"
     ]
    }
   ],
   "source": [
    "def contains_subsequence(main_tuple, sub_tuple):\n",
    "    sub_length = len(sub_tuple)\n",
    "    for i in range(len(main_tuple) - sub_length + 1):\n",
    "        if main_tuple[i:i+sub_length] == sub_tuple:\n",
    "            return True\n",
    "    return False\n",
    "main_tuple = (1, 2, 3, 4, 5, 6, 7, 8, 9)\n",
    "sub_tuple = (3, 4, 5)\n",
    "contains_subseq = contains_subsequence(main_tuple, sub_tuple)\n",
    "\n",
    "print(\"Main tuple contains subsequence tuple:\", contains_subseq)"
   ]
  },
  {
   "cell_type": "code",
   "execution_count": 72,
   "id": "80d79c9c-81c8-432c-bc70-e6c0f195e728",
   "metadata": {},
   "outputs": [],
   "source": [
    "#Question 50. Create a tuple of alternating 1s and 0s of length `n`."
   ]
  },
  {
   "cell_type": "code",
   "execution_count": 73,
   "id": "e4cf1c27-4127-44f7-8754-f4b71e979a1c",
   "metadata": {},
   "outputs": [
    {
     "name": "stdout",
     "output_type": "stream",
     "text": [
      "Tuple of alternating 1s and 0s: (0, 1, 0, 1, 0, 1, 0, 1, 0, 1)\n"
     ]
    }
   ],
   "source": [
    "n = 10\n",
    "alternating_tuple = tuple(i % 2 for i in range(n))\n",
    "print(\"Tuple of alternating 1s and 0s:\", alternating_tuple)"
   ]
  },
  {
   "cell_type": "code",
   "execution_count": 74,
   "id": "1f0daa68-dc8f-46a3-b1d7-cc64c53bed49",
   "metadata": {},
   "outputs": [],
   "source": [
    "################ Set Based Practice Problem ##############"
   ]
  },
  {
   "cell_type": "code",
   "execution_count": 2,
   "id": "9371590a-58ad-49a5-a3d0-c1a785b4c9df",
   "metadata": {},
   "outputs": [
    {
     "name": "stdout",
     "output_type": "stream",
     "text": [
      "set with integers :  {1, 2, 3, 4, 5}\n"
     ]
    }
   ],
   "source": [
    "##1. Create a set with integers from 1 to 5.\n",
    "my_set = {1,2,3,4,5}\n",
    "print(\"set with integers : \",my_set)"
   ]
  },
  {
   "cell_type": "code",
   "execution_count": 3,
   "id": "cf7fbbfd-a019-4fe7-a282-995b60ebac37",
   "metadata": {},
   "outputs": [
    {
     "name": "stdout",
     "output_type": "stream",
     "text": [
      "Add element to a set {'hello', 'pwskills', 'welcome', 'to', 'class'}\n"
     ]
    }
   ],
   "source": [
    "#2. Add an element to a set.\n",
    "my_set = {\"hello\",\"welcome\",\"to\",\"pwskills\"}\n",
    "my_set.add(\"class\")\n",
    "print(\"Add element to a set\",my_set)"
   ]
  },
  {
   "cell_type": "code",
   "execution_count": 4,
   "id": "de3a5d22-f5d8-4601-91e1-c492e7fc7139",
   "metadata": {},
   "outputs": [
    {
     "name": "stdout",
     "output_type": "stream",
     "text": [
      "Removed element from set is : {'welocome', 'pwskills', 'to'}\n"
     ]
    }
   ],
   "source": [
    "#3. Remove an element from a set.\n",
    "my_set = {\"welocome\",\"to\",\"pwskills\",\"class\"}\n",
    "my_set.remove(\"class\")\n",
    "print(\"Removed element from set is :\",my_set)"
   ]
  },
  {
   "cell_type": "code",
   "execution_count": 6,
   "id": "8ddc50ac-5803-42cb-9332-9c350f2d6118",
   "metadata": {},
   "outputs": [
    {
     "name": "stdin",
     "output_type": "stream",
     "text": [
      "Enter the element to check:  8\n"
     ]
    },
    {
     "name": "stdout",
     "output_type": "stream",
     "text": [
      "8 does not exist in the set.\n"
     ]
    }
   ],
   "source": [
    "#4. Check if an element exists in a set.\n",
    "\n",
    "my_set = {1, 3, 5, 7, 9}\n",
    "\n",
    "element_to_check = int(input(\"Enter the element to check: \"))\n",
    "if element_to_check in my_set:\n",
    "    print(f\"{element_to_check} exists in the set.\")\n",
    "else:\n",
    "    print(f\"{element_to_check} does not exist in the set.\")"
   ]
  },
  {
   "cell_type": "code",
   "execution_count": 13,
   "id": "853c30b4-aa6b-4548-94c8-f3bf1a1342f6",
   "metadata": {},
   "outputs": [
    {
     "name": "stdout",
     "output_type": "stream",
     "text": [
      "Length of the set: 5\n"
     ]
    }
   ],
   "source": [
    "#5. Find the length of a set without using the `len()` function.\n",
    "my_set = {1, 2, 3, 4, 5}\n",
    "count = 0\n",
    "for _ in my_set:\n",
    "  \n",
    "    count += 1\n",
    "print(\"Length of the set:\", count)"
   ]
  },
  {
   "cell_type": "code",
   "execution_count": 17,
   "id": "00b7fd7b-fc34-4f60-ba99-02947bdfb30b",
   "metadata": {},
   "outputs": [
    {
     "name": "stdout",
     "output_type": "stream",
     "text": [
      "Original my_set is : {1, 2, 3, 4, 5, 6, 7}\n",
      "Set after clearing  set()\n"
     ]
    }
   ],
   "source": [
    "# 6. Clear all elements from a set.\n",
    "my_set = {1,2,3,4,5,6,7}\n",
    "print(\"Original my_set is :\",my_set)\n",
    "my_set.clear()\n",
    "print(\"Set after clearing \",my_set)"
   ]
  },
  {
   "cell_type": "code",
   "execution_count": 29,
   "id": "e1a7501c-5b12-41ec-9d26-31132624d6bd",
   "metadata": {},
   "outputs": [
    {
     "name": "stdout",
     "output_type": "stream",
     "text": [
      "{2, 4, 6, 8, 10}\n"
     ]
    }
   ],
   "source": [
    "# 7. Create a set of even numbers from 1 to 10.\n",
    "even_numbers_set = set()\n",
    "for num in range(1, 11):\n",
    "    if num % 2 == 0:\n",
    "        even_numbers_set.add(num)\n",
    "print(even_numbers_set)\n",
    "    "
   ]
  },
  {
   "cell_type": "code",
   "execution_count": 30,
   "id": "34937282-0876-4ce6-8fc4-83bd30c45d8b",
   "metadata": {},
   "outputs": [
    {
     "name": "stdout",
     "output_type": "stream",
     "text": [
      "{1, 3, 5, 7, 9}\n"
     ]
    }
   ],
   "source": [
    "# 8. Create a set of odd numbers from 1 to 10.\n",
    "odd_number_set = set()\n",
    "for num in range(1,11):\n",
    "    if num % 2 != 0:\n",
    "        odd_number_set.add(num)\n",
    "print(odd_number_set)        "
   ]
  },
  {
   "cell_type": "code",
   "execution_count": 31,
   "id": "5000a40f-27d8-4532-84f3-3a1b32915a85",
   "metadata": {},
   "outputs": [
    {
     "name": "stdout",
     "output_type": "stream",
     "text": [
      "Set 1: {1, 2, 3, 4, 5, 6, 7}\n",
      "Set 2: {3, 4, 5, 6, 8}\n",
      "Union of Set 1 and Set 2: {1, 2, 3, 4, 5, 6, 7, 8}\n"
     ]
    }
   ],
   "source": [
    "# 9. Find the union of two sets.\n",
    "set1 = {1,2,3,4,5,6,7}\n",
    "set2 = {3,4,5,6,8}\n",
    "union_result = set1.union(set2)\n",
    "print(\"Set 1:\", set1)\n",
    "print(\"Set 2:\", set2)\n",
    "print(\"Union of Set 1 and Set 2:\", union_result)\n"
   ]
  },
  {
   "cell_type": "code",
   "execution_count": 32,
   "id": "473ebae9-b2d0-4325-b5bc-8abf88087217",
   "metadata": {},
   "outputs": [
    {
     "name": "stdout",
     "output_type": "stream",
     "text": [
      "Set 1: {1, 2, 3, 4, 5, 6, 7}\n",
      "Set 2: {2, 3, 4, 5, 6, 7}\n",
      "Intersection: {2, 3, 4, 5, 6, 7}\n"
     ]
    }
   ],
   "source": [
    "# 10. Find the intersection of two sets.\n",
    "set1 = {1,2,3,4,5,6,7}\n",
    "set2 = {2,3,4,5,6,7}\n",
    "intersection_result = set1.intersection(set2)\n",
    "print(\"Set 1:\", set1)\n",
    "print(\"Set 2:\", set2)\n",
    "print(\"Intersection:\", intersection_result)\n"
   ]
  },
  {
   "cell_type": "code",
   "execution_count": 34,
   "id": "858ce349-bb28-43d7-941e-fd5794ca7098",
   "metadata": {},
   "outputs": [
    {
     "name": "stdout",
     "output_type": "stream",
     "text": [
      "Set 1: {2, 3, 4, 5, 6, 7, 8, 9}\n",
      "Set 2: {1, 2, 3, 4, 5, 6}\n",
      "Difference: {8, 9, 7}\n"
     ]
    }
   ],
   "source": [
    "#11. Find the difference between two sets.\n",
    "set1 = {2,3,4,5,6,7,8,9}\n",
    "set2 = {1,3,4,2,5,6}\n",
    "difference_result = set1.difference(set2)\n",
    "print(\"Set 1:\", set1)\n",
    "print(\"Set 2:\", set2)\n",
    "print(\"Difference:\", difference_result)\n"
   ]
  },
  {
   "cell_type": "code",
   "execution_count": 35,
   "id": "6fffa321-e4a2-4e2d-ac1f-e88178e9738c",
   "metadata": {},
   "outputs": [
    {
     "name": "stdout",
     "output_type": "stream",
     "text": [
      "Is set1 a subset of set2: True\n"
     ]
    }
   ],
   "source": [
    "# 12. Check if a set is a subset of another set.\n",
    "set1 = {1, 2, 3}\n",
    "set2 = {1, 2, 3, 4, 5}\n",
    "is_subset = set1.issubset(set2)\n",
    "print(\"Is set1 a subset of set2:\", is_subset)"
   ]
  },
  {
   "cell_type": "code",
   "execution_count": 36,
   "id": "7f2798f2-df48-4fc9-94ab-d00e7e1bf276",
   "metadata": {},
   "outputs": [
    {
     "name": "stdout",
     "output_type": "stream",
     "text": [
      "set1 is a superset of set2\n"
     ]
    }
   ],
   "source": [
    "# 13. Check if a set is a superset of another set.\n",
    "set1 = {1, 2, 3, 4, 5, 6}\n",
    "set2 = {3, 4}\n",
    "is_superset = set1.issuperset(set2)\n",
    "if is_superset:\n",
    "    print(\"set1 is a superset of set2\")\n",
    "else:\n",
    "    print(\"set1 is not a superset of set2\")"
   ]
  },
  {
   "cell_type": "code",
   "execution_count": 37,
   "id": "8dec48ee-14f5-429e-ba93-5f5ca6f30746",
   "metadata": {},
   "outputs": [
    {
     "name": "stdout",
     "output_type": "stream",
     "text": [
      "Original List: [1, 2, 3, 4, 5, 6]\n",
      "Set from List: {1, 2, 3, 4, 5, 6}\n"
     ]
    }
   ],
   "source": [
    "# 14. Create a set from a list.\n",
    "my_list = [1,2,3,4,5,6]\n",
    "my_set = set(my_list)\n",
    "print(\"Original List:\", my_list)\n",
    "print(\"Set from List:\", my_set)\n",
    "\n",
    "\n"
   ]
  },
  {
   "cell_type": "code",
   "execution_count": 38,
   "id": "79b452d0-fbd2-431c-8f40-f321fdf9763e",
   "metadata": {},
   "outputs": [
    {
     "name": "stdout",
     "output_type": "stream",
     "text": [
      "Original List: {1, 2, 4, 5, 6, 7}\n",
      "Set from List: [1, 2, 4, 5, 6, 7]\n"
     ]
    }
   ],
   "source": [
    "# 15. Convert a set to a list.\n",
    "my_set = {1,2,4,5,6,7}\n",
    "my_list = list(my_set)\n",
    "print(\"Original List:\", my_set)\n",
    "print(\"Set from List:\", my_list)"
   ]
  },
  {
   "cell_type": "code",
   "execution_count": 40,
   "id": "80ed5479-10d8-4d4b-821a-aeae2ffbcd32",
   "metadata": {},
   "outputs": [
    {
     "name": "stdout",
     "output_type": "stream",
     "text": [
      "original set:  {1, 2, 3, 4, 5, 6, 7}\n",
      "Updated set after removing 2 : {1, 3, 4, 5, 6, 7}\n"
     ]
    }
   ],
   "source": [
    "#16. Remove a random element from a set.\n",
    "import random \n",
    "my_set = {1,2,3,4,5,6,7}\n",
    "print(\"original set: \",my_set)\n",
    "random_element = random.choice(list(my_set))\n",
    "my_set.remove(random_element)\n",
    "print(\"Updated set after removing\", random_element, \":\", my_set)\n"
   ]
  },
  {
   "cell_type": "code",
   "execution_count": 41,
   "id": "339c1824-2a90-4d0d-be34-a22445fdb350",
   "metadata": {},
   "outputs": [
    {
     "name": "stdout",
     "output_type": "stream",
     "text": [
      "Original set: {1, 2, 3, 4, 5}\n",
      "Popped element: 1\n",
      "Set after popping: {2, 3, 4, 5}\n"
     ]
    }
   ],
   "source": [
    "# 17. Pop an element from a set.\n",
    "my_set = {1, 2, 3, 4, 5}\n",
    "print(\"Original set:\", my_set)\n",
    "popped_element = my_set.pop()\n",
    "print(\"Popped element:\", popped_element)\n",
    "print(\"Set after popping:\", my_set)\n"
   ]
  },
  {
   "cell_type": "code",
   "execution_count": 42,
   "id": "9bb03c11-7131-4282-9901-f5759d88ab06",
   "metadata": {},
   "outputs": [
    {
     "name": "stdout",
     "output_type": "stream",
     "text": [
      "The two sets have common elements: {2, 3, 4, 5, 6}\n"
     ]
    }
   ],
   "source": [
    "# 18. Check if two sets have no elements in common.\n",
    "set1 = {1,2,3,4,5,6}\n",
    "set2 = {2,3,4,5,6,7}\n",
    "common_elements = set1.intersection(set2)\n",
    "if not common_elements:\n",
    "    print(\"The two sets have no elements in common.\")\n",
    "else:\n",
    "    print(\"The two sets have common elements:\", common_elements)\n",
    "\n"
   ]
  },
  {
   "cell_type": "code",
   "execution_count": 43,
   "id": "43972de6-9768-465d-9f97-6c3188d66a1f",
   "metadata": {},
   "outputs": [
    {
     "name": "stdout",
     "output_type": "stream",
     "text": [
      "Symmetric Difference: {1, 8}\n"
     ]
    }
   ],
   "source": [
    "# 19. Find the symmetric difference between two sets.\n",
    "set1 = {1,2,3,4,5,6,7}\n",
    "set2 = {2,3,4,5,6,7,8}\n",
    "symmetric_set = set1 ^ set2\n",
    "print(\"Symmetric Difference:\", symmetric_set)"
   ]
  },
  {
   "cell_type": "code",
   "execution_count": 44,
   "id": "3cd94b0a-5391-4e6d-966e-390cfe27dcad",
   "metadata": {},
   "outputs": [
    {
     "name": "stdout",
     "output_type": "stream",
     "text": [
      "Set 1: {1, 2, 3}\n",
      "Set 2: {3, 4, 5}\n",
      "Updated Set 1: {1, 2, 3, 4, 5}\n"
     ]
    }
   ],
   "source": [
    "# 20. Update a set with elements from another set.\n",
    "set1 = {1, 2, 3}\n",
    "print(\"Set 1:\", set1)\n",
    "set2 = {3, 4, 5}\n",
    "print(\"Set 2:\", set2)\n",
    "set1.update(set2)\n",
    "print(\"Updated Set 1:\", set1)"
   ]
  },
  {
   "cell_type": "code",
   "execution_count": 45,
   "id": "a748a19e-3dac-4b10-8493-997a029433a2",
   "metadata": {},
   "outputs": [
    {
     "name": "stdout",
     "output_type": "stream",
     "text": [
      "Set of the first 5 prime numbers: {2, 3, 5, 7, 11}\n"
     ]
    }
   ],
   "source": [
    "# 21. Create a set of the first 5 prime numbers.\n",
    "def is_prime(num):\n",
    "    if num <= 1:\n",
    "        return False\n",
    "    for i in range(2, int(num ** 0.5) + 1):\n",
    "        if num % i == 0:\n",
    "            return False\n",
    "    return True\n",
    "prime_set = set()\n",
    "num = 2\n",
    "while len(prime_set) < 5:\n",
    "   \n",
    "    if is_prime(num):\n",
    "        \n",
    "        prime_set.add(num)\n",
    "\n",
    "    \n",
    "    num += 1\n",
    "\n",
    "\n",
    "print(\"Set of the first 5 prime numbers:\", prime_set)"
   ]
  },
  {
   "cell_type": "code",
   "execution_count": 46,
   "id": "7333bc4a-7ce9-4312-b0c3-b9e51c4c53ff",
   "metadata": {},
   "outputs": [
    {
     "name": "stdout",
     "output_type": "stream",
     "text": [
      "The sets are identical.\n"
     ]
    }
   ],
   "source": [
    "#22. Check if two sets are identical.\n",
    "set1 = {1, 2, 3, 4, 5}\n",
    "set2 = {3, 1, 5, 2, 4}  \n",
    "if set1 == set2:\n",
    "    print(\"The sets are identical.\")\n",
    "else:\n",
    "    print(\"The sets are not identical.\")\n"
   ]
  },
  {
   "cell_type": "code",
   "execution_count": 47,
   "id": "57c2ff4c-02d5-4ebe-b621-7193e60cc631",
   "metadata": {},
   "outputs": [
    {
     "name": "stdout",
     "output_type": "stream",
     "text": [
      "Frozen Set: frozenset({1, 2, 3, 4, 5})\n"
     ]
    }
   ],
   "source": [
    "#23. Create a frozen set.\n",
    "elements = [1, 2, 3, 4, 5]\n",
    "my_frozen_set = frozenset(elements)\n",
    "print(\"Frozen Set:\", my_frozen_set)\n"
   ]
  },
  {
   "cell_type": "code",
   "execution_count": 49,
   "id": "3039fb6b-9be5-41b4-abff-cbf316f47ad7",
   "metadata": {},
   "outputs": [
    {
     "name": "stdout",
     "output_type": "stream",
     "text": [
      "Are the sets disjoint : ? True\n"
     ]
    }
   ],
   "source": [
    "#24. Check if a set is disjoint with another set.\n",
    "set1 = {1, 2, 3, 4}\n",
    "set2 = {5, 6, 7, 8}\n",
    "disjoint_status = set1.isdisjoint(set2)\n",
    "print(\"Are the sets disjoint : ?\", disjoint_status)"
   ]
  },
  {
   "cell_type": "code",
   "execution_count": 1,
   "id": "999eb136-7eb1-46f2-92b0-1c279238c0e2",
   "metadata": {},
   "outputs": [
    {
     "name": "stdout",
     "output_type": "stream",
     "text": [
      "{1, 4, 9, 16, 25}\n"
     ]
    }
   ],
   "source": [
    "#25. Create a set of squares of numbers from 1 to 5.\n",
    "squares_set = set()\n",
    "\n",
    "for num in range(1, 6):\n",
    "   \n",
    "    square = num ** 2\n",
    "\n",
    "   \n",
    "    squares_set.add(square)\n",
    "\n",
    "\n",
    "print(squares_set)"
   ]
  },
  {
   "cell_type": "code",
   "execution_count": 2,
   "id": "3d1ea6b1-ede3-43de-92b0-bc736f592ebc",
   "metadata": {},
   "outputs": [],
   "source": [
    "# 26. Filter out all even numbers from a set."
   ]
  },
  {
   "cell_type": "code",
   "execution_count": 6,
   "id": "82c83180-48df-4527-a411-343a71659b64",
   "metadata": {},
   "outputs": [
    {
     "name": "stdout",
     "output_type": "stream",
     "text": [
      "Original Set: {1, 2, 3, 4, 5}\n",
      "Even Numbers Set: {2, 4}\n"
     ]
    }
   ],
   "source": [
    "my_set = {1, 2, 3, 4, 5}\n",
    "even_set = set()\n",
    "for num in my_set:\n",
    "    if num % 2 == 0:\n",
    "        even_set.add(num)\n",
    "print(\"Original Set:\", my_set)\n",
    "print(\"Even Numbers Set:\", even_set)    \n",
    "        \n",
    "    "
   ]
  },
  {
   "cell_type": "code",
   "execution_count": 7,
   "id": "9e5a39e3-17b1-4702-b816-37e55e666cc7",
   "metadata": {},
   "outputs": [
    {
     "name": "stdout",
     "output_type": "stream",
     "text": [
      "Original Set: {1, 2, 3, 4, 5}\n",
      "Multiplied Set: {2, 4, 6, 8, 10}\n"
     ]
    }
   ],
   "source": [
    "#\n",
    "original_set = {1, 2, 3, 4, 5}\n",
    "multiplied_set = set()\n",
    "for num in original_set:\n",
    "  \n",
    "    multiplied_num = num * 2\n",
    "\n",
    "   \n",
    "    multiplied_set.add(multiplied_num)\n",
    "\n",
    "\n",
    "print(\"Original Set:\", original_set)\n",
    "print(\"Multiplied Set:\", multiplied_set)"
   ]
  },
  {
   "cell_type": "code",
   "execution_count": 14,
   "id": "d9821d31-e43b-4b95-8325-92b8165dd8da",
   "metadata": {},
   "outputs": [
    {
     "name": "stdout",
     "output_type": "stream",
     "text": [
      "Generated set of random numbers: {98, 67, 9, 43, 48}\n"
     ]
    }
   ],
   "source": [
    "#28. Create a set of random numbers.\n",
    "import random\n",
    "num_random_numbers = 5\n",
    "\n",
    "random_number_set = set()\n",
    "\n",
    "\n",
    "for _ in range(num_random_numbers):\n",
    "    \n",
    "    random_num = random.randint(1, 100) \n",
    "    random_number_set.add(random_num)\n",
    "\n",
    "\n",
    "print(\"Generated set of random numbers:\", random_number_set)\n",
    "    \n",
    "\n"
   ]
  },
  {
   "cell_type": "code",
   "execution_count": 15,
   "id": "93286def-5829-4470-b7ff-533a012d1436",
   "metadata": {},
   "outputs": [
    {
     "name": "stdout",
     "output_type": "stream",
     "text": [
      "The set is empty.\n"
     ]
    }
   ],
   "source": [
    "# 29. Check if a set is empty.\n",
    "my_set = set()\n",
    "\n",
    "if not my_set:\n",
    "    print(\"The set is empty.\")\n",
    "else:\n",
    "    print(\"The set is not empty.\")"
   ]
  },
  {
   "cell_type": "code",
   "execution_count": 16,
   "id": "09a9153d-c416-4623-9be7-20412ad61c0c",
   "metadata": {},
   "outputs": [
    {
     "name": "stdout",
     "output_type": "stream",
     "text": [
      "Nested Set: {frozenset({1, 2, 3, 4, 5}), frozenset({6, 7, 8, 9, 10})}\n"
     ]
    }
   ],
   "source": [
    "#30. Create a nested set (hint: use frozenset).\n",
    "set1 = {1, 2, 3, 4, 5}\n",
    "set2 = {6, 7, 8, 9, 10}\n",
    "\n",
    "frozen_set1 = frozenset(set1)\n",
    "frozen_set2 = frozenset(set2)\n",
    "\n",
    "nested_set = {frozen_set1, frozen_set2}\n",
    "\n",
    "print(\"Nested Set:\", nested_set)\n"
   ]
  },
  {
   "cell_type": "code",
   "execution_count": 4,
   "id": "3892375f-8466-44c5-b2c7-dab934fa0655",
   "metadata": {},
   "outputs": [
    {
     "name": "stdout",
     "output_type": "stream",
     "text": [
      "original set : {1, 2, 3, 4, 5, 6, 7, 8}\n",
      "Set after removing 4 : {1, 2, 3, 5, 6, 7, 8}\n"
     ]
    }
   ],
   "source": [
    "# 31. Remove an element from a set using the discard method.\n",
    "my_set = {1,2,3,4,5,6,7,8}\n",
    "print(\"original set :\",my_set)\n",
    "\n",
    "remove_element = 4\n",
    "my_set.discard(remove_element)\n",
    "\n",
    "print(\"Set after removing\", remove_element, \":\", my_set)\n"
   ]
  },
  {
   "cell_type": "code",
   "execution_count": 7,
   "id": "bf3ad8ba-d8ee-472e-96f2-1e4a659f364c",
   "metadata": {},
   "outputs": [
    {
     "name": "stdout",
     "output_type": "stream",
     "text": [
      "Set 1: {1, 2, 3, 4, 5}\n",
      "Set 2: {1, 2, 3, 4, 5}\n",
      "Is set1 a subset of set2? True\n",
      "Is set2 a subset of set1? False\n",
      "Intersection: {1, 2, 3, 4, 5}\n",
      "Union: {1, 2, 3, 4, 5, 6}\n",
      "Elements in set1 but not in set2: set()\n",
      "Elements in set2 but not in set1: set()\n"
     ]
    }
   ],
   "source": [
    "#32  Compare two sets.\n",
    "my_set1 = {1,2,3,4,5,5}\n",
    "my_set2 = {1,2,3,4,5,6}\n",
    "\n",
    "is_subset = my_set1.issubset(my_set2)\n",
    "is_superset = my_set1.issuperset(my_set2)\n",
    "intersection = my_set1.intersection(my_set2)\n",
    "difference1 = my_set1.difference(my_set2)\n",
    "difference2 = my_set1.difference(my_set2)\n",
    "union = my_set1.union(my_set2)\n",
    "\n",
    "print(\"Set 1:\", my_set1)\n",
    "print(\"Set 2:\", my_set1)\n",
    "print(\"Is set1 a subset of set2?\", is_subset)\n",
    "print(\"Is set2 a subset of set1?\", is_superset)\n",
    "print(\"Intersection:\", intersection)\n",
    "print(\"Union:\", union)\n",
    "print(\"Elements in set1 but not in set2:\", difference1)\n",
    "print(\"Elements in set2 but not in set1:\", difference2)\n",
    "\n"
   ]
  },
  {
   "cell_type": "code",
   "execution_count": 2,
   "id": "a919b2e3-7804-403a-b25c-b773e3680e1c",
   "metadata": {},
   "outputs": [
    {
     "name": "stdout",
     "output_type": "stream",
     "text": [
      "{'e', 'h', 'o', 'l'}\n"
     ]
    }
   ],
   "source": [
    "# 33. Create a set from a string.\n",
    "input_string = \"hello\"\n",
    "char_set = set(input_string)\n",
    "\n",
    "print(char_set)\n"
   ]
  },
  {
   "cell_type": "code",
   "execution_count": 1,
   "id": "edfd4f6c-dcb4-4c35-9c69-d136ed1ae555",
   "metadata": {},
   "outputs": [
    {
     "name": "stdout",
     "output_type": "stream",
     "text": [
      "Original String Set: {'123', '456', '789'}\n",
      "Converted Integer Set: {456, 123, 789}\n"
     ]
    }
   ],
   "source": [
    "# 34. Convert a set of strings to a set of integers.\n",
    "string_set = {\"123\", \"456\", \"789\"}\n",
    "\n",
    "\n",
    "integer_set = set()\n",
    "\n",
    "for string in string_set:\n",
    "    \n",
    "    integer_value = int(string)\n",
    "\n",
    "    \n",
    "    integer_set.add(integer_value)\n",
    "\n",
    "\n",
    "print(\"Original String Set:\", string_set)\n",
    "print(\"Converted Integer Set:\", integer_set)"
   ]
  },
  {
   "cell_type": "code",
   "execution_count": 2,
   "id": "a3161fcd-d078-400a-9ba5-bdd237ec7672",
   "metadata": {},
   "outputs": [
    {
     "name": "stdout",
     "output_type": "stream",
     "text": [
      "Original integers_set: {1, 2, 3, 4, 5}\n",
      "Converted strings_set: {'5', '1', '3', '2', '4'}\n"
     ]
    }
   ],
   "source": [
    "#35. Convert a set of integers to a set of strings.\n",
    "integers_set = {1, 2, 3, 4, 5}\n",
    "\n",
    "strings_set = set()\n",
    "\n",
    "for num in integers_set:\n",
    "    \n",
    "    num_str = str(num)\n",
    "\n",
    "    strings_set.add(num_str)\n",
    "\n",
    "\n",
    "print(\"Original integers_set:\", integers_set)\n",
    "print(\"Converted strings_set:\", strings_set)"
   ]
  },
  {
   "cell_type": "code",
   "execution_count": 3,
   "id": "5710c58f-6389-4fbc-88c6-3ecb39ce469c",
   "metadata": {},
   "outputs": [
    {
     "name": "stdout",
     "output_type": "stream",
     "text": [
      "{1, 2, 3, 4, 5}\n"
     ]
    }
   ],
   "source": [
    "#36. Create a set from a tuple.\n",
    "input_tuple = (1, 2, 3, 2, 4, 5, 1)\n",
    "\n",
    "output_set = set(input_tuple)\n",
    "\n",
    "print(output_set)\n"
   ]
  },
  {
   "cell_type": "code",
   "execution_count": 4,
   "id": "dfa350ff-30cb-44a9-b5f6-0b83f4fa460c",
   "metadata": {},
   "outputs": [
    {
     "name": "stdout",
     "output_type": "stream",
     "text": [
      "Original set: {1, 2, 3, 4, 5}\n",
      "Converted tuple: (1, 2, 3, 4, 5)\n"
     ]
    }
   ],
   "source": [
    "# 37. Convert a set to a tuple.\n",
    "input_set = {1, 2, 3, 4, 5}\n",
    "\n",
    "output_tuple = tuple(input_set)\n",
    "\n",
    "print(\"Original set:\", input_set)\n",
    "print(\"Converted tuple:\", output_tuple)\n"
   ]
  },
  {
   "cell_type": "code",
   "execution_count": 5,
   "id": "ef8662f0-59a8-4f8c-be0a-7dc4c9960879",
   "metadata": {},
   "outputs": [
    {
     "name": "stdout",
     "output_type": "stream",
     "text": [
      "Maximum value: 22\n"
     ]
    }
   ],
   "source": [
    "#38. Find the maximum value in a set.\n",
    "my_set = {15, 7, 22, 13, 8}\n",
    "\n",
    "max_value = None\n",
    "\n",
    "for num in my_set:\n",
    "\n",
    "    if max_value is None or num > max_value:\n",
    "        max_value = num \n",
    "\n",
    "print(\"Maximum value:\", max_value)"
   ]
  },
  {
   "cell_type": "code",
   "execution_count": 10,
   "id": "4f5b2d0b-b56c-43bb-8687-326bc8880627",
   "metadata": {},
   "outputs": [
    {
     "name": "stdout",
     "output_type": "stream",
     "text": [
      "The minimum value in the set is: 4\n"
     ]
    }
   ],
   "source": [
    "#39. Find the minimum value in a set.\n",
    "number_set = {15, 8, 23, 4, 42, 11}\n",
    "\n",
    "\n",
    "min_value = None\n",
    "\n",
    "\n",
    "for num in number_set:\n",
    "   \n",
    "    if min_value is None or num < min_value:\n",
    "      \n",
    "        min_value = num\n",
    "\n",
    "\n",
    "print(\"The minimum value in the set is:\", min_value)\n"
   ]
  },
  {
   "cell_type": "code",
   "execution_count": null,
   "id": "68a9192f-6f3e-4581-9e68-b74b1e33388e",
   "metadata": {},
   "outputs": [],
   "source": [
    "# 40. Create a set from user input.\n"
   ]
  },
  {
   "cell_type": "code",
   "execution_count": 11,
   "id": "bc4743cb-08ee-4653-9c6a-9ebe40ccbdf5",
   "metadata": {},
   "outputs": [
    {
     "name": "stdout",
     "output_type": "stream",
     "text": [
      "The intersection of the two sets is not empty.\n"
     ]
    }
   ],
   "source": [
    "# 41. Check if the intersection of two sets is empty.\n",
    "\n",
    "set1 = {1, 2, 3, 4, 5}\n",
    "set2 = {4, 5, 6, 7, 8}\n",
    "\n",
    "intersection_result = set1.intersection(set2)\n",
    "\n",
    "\n",
    "if not intersection_result:\n",
    "    print(\"The intersection of the two sets is empty.\")\n",
    "else:\n",
    "    print(\"The intersection of the two sets is not empty.\")"
   ]
  },
  {
   "cell_type": "code",
   "execution_count": 12,
   "id": "7cabf1b2-0126-44fe-afb8-db218748e023",
   "metadata": {},
   "outputs": [
    {
     "name": "stdout",
     "output_type": "stream",
     "text": [
      "Set of the first 5 Fibonacci numbers: {0, 1, 2, 3, 5}\n"
     ]
    }
   ],
   "source": [
    "# 42. Create a set of the first 5 Fibonacci numbers.\n",
    "\n",
    "fibonacci_set = set()\n",
    "\n",
    "\n",
    "a, b = 0, 1\n",
    "\n",
    "for _ in range(6):\n",
    "    \n",
    "    fibonacci_set.add(a)\n",
    "\n",
    "    \n",
    "    a, b = b, a + b\n",
    "\n",
    "print(\"Set of the first 5 Fibonacci numbers:\", fibonacci_set)"
   ]
  },
  {
   "cell_type": "code",
   "execution_count": 13,
   "id": "1bce10c8-3401-4f25-8bb4-eed4092d3ba2",
   "metadata": {},
   "outputs": [
    {
     "name": "stdout",
     "output_type": "stream",
     "text": [
      "Original List: [2, 4, 6, 8, 4, 10, 6, 12, 14, 8]\n",
      "List with Duplicates Removed: [2, 4, 6, 8, 10, 12, 14]\n"
     ]
    }
   ],
   "source": [
    "# 43. Remove duplicates from a list using sets.\n",
    "\n",
    "original_list = [2, 4, 6, 8, 4, 10, 6, 12, 14, 8]\n",
    "\n",
    "unique_set = set(original_list)\n",
    "\n",
    "unique_list = list(unique_set)\n",
    "\n",
    "\n",
    "print(\"Original List:\", original_list)\n",
    "print(\"List with Duplicates Removed:\", unique_list)"
   ]
  },
  {
   "cell_type": "code",
   "execution_count": 14,
   "id": "d0998b4c-dcef-4724-86a7-58f8b20dcf3f",
   "metadata": {},
   "outputs": [
    {
     "name": "stdout",
     "output_type": "stream",
     "text": [
      "The sets have the same elements.\n"
     ]
    }
   ],
   "source": [
    "# 44. Check if two sets have the same elements, regardless of their count.\n",
    "\n",
    "def have_same_elements(set1, set2):\n",
    "   \n",
    "    sorted_list1 = sorted(list(set1))\n",
    "    sorted_list2 = sorted(list(set2))\n",
    "\n",
    "   \n",
    "    return sorted_list1 == sorted_list2\n",
    "\n",
    "set1 = {1, 2, 3, 2, 1}\n",
    "set2 = {3, 1, 2}\n",
    "\n",
    "\n",
    "result = have_same_elements(set1, set2)\n",
    "\n",
    "if result:\n",
    "    print(\"The sets have the same elements.\")\n",
    "else:\n",
    "    print(\"The sets do not have the same elements.\")\n"
   ]
  },
  {
   "cell_type": "code",
   "execution_count": 15,
   "id": "560d65d5-6cf2-4aff-8cc2-929f5b42d3b8",
   "metadata": {},
   "outputs": [
    {
     "name": "stdout",
     "output_type": "stream",
     "text": [
      "{1, 2, 4, 8, 16}\n"
     ]
    }
   ],
   "source": [
    "#45. Create a set of the first `n` powers of 2.\n",
    "\n",
    "def generate_powers_of_2(n):\n",
    "   \n",
    "    powers_of_2 = set()\n",
    "\n",
    "    for i in range(n):\n",
    "        \n",
    "        power = 2 ** i\n",
    "\n",
    "        powers_of_2.add(power)\n",
    "\n",
    "    return powers_of_2\n",
    "\n",
    "n = 5\n",
    "\n",
    "powers_set = generate_powers_of_2(n)\n",
    "\n",
    "print(powers_set)\n"
   ]
  },
  {
   "cell_type": "code",
   "execution_count": 16,
   "id": "ce4c1c4e-04e3-4531-bcf3-c5ee4bc8003a",
   "metadata": {},
   "outputs": [
    {
     "name": "stdout",
     "output_type": "stream",
     "text": [
      "Common elements: [7, 9, 12]\n"
     ]
    }
   ],
   "source": [
    "#46. Find the common elements between a set and a list.\n",
    "\n",
    "my_set = {3, 7, 9, 12, 15}\n",
    "my_list = [7, 12, 5, 9]\n",
    "\n",
    "list_to_set = set(my_list)\n",
    "\n",
    "common_elements = []\n",
    "\n",
    "for element in my_set:\n",
    "  \n",
    "    if element in list_to_set:\n",
    "     \n",
    "        common_elements.append(element)\n",
    "\n",
    "\n",
    "print(\"Common elements:\", common_elements)"
   ]
  },
  {
   "cell_type": "code",
   "execution_count": 18,
   "id": "4b9f0ec1-9e3e-4d4c-928e-525ce29ed818",
   "metadata": {},
   "outputs": [
    {
     "name": "stdin",
     "output_type": "stream",
     "text": [
      "Enter the value of n:  2\n"
     ]
    },
    {
     "name": "stdout",
     "output_type": "stream",
     "text": [
      "The set of the first 2 triangular numbers is: {1, 3}\n"
     ]
    }
   ],
   "source": [
    "# 47. Create a set of the first `n` triangular numbers.\n",
    "def generate_triangular_numbers(n):\n",
    "    triangular_numbers = set()  \n",
    "    for i in range(1, n + 1):\n",
    "        triangular_number = i * (i + 1) // 2 \n",
    "        triangular_numbers.add(triangular_number)  \n",
    "    return triangular_numbers\n",
    "\n",
    "\n",
    "n = int(input(\"Enter the value of n: \"))\n",
    "\n",
    "\n",
    "triangular_set = generate_triangular_numbers(n)\n",
    "\n",
    "\n",
    "print(f\"The set of the first {n} triangular numbers is:\", triangular_set)\n"
   ]
  },
  {
   "cell_type": "code",
   "execution_count": 19,
   "id": "2b61f609-0d69-4dfb-ab2d-b0c99f9ea085",
   "metadata": {},
   "outputs": [
    {
     "name": "stdout",
     "output_type": "stream",
     "text": [
      "set2 is a subset of set1\n"
     ]
    }
   ],
   "source": [
    "# 48. Check if a set contains another set as a subset.\n",
    "set1 = {1, 2, 3, 4, 5}\n",
    "set2 = {3, 4}\n",
    "\n",
    "is_subset = set2.issubset(set1)\n",
    "\n",
    "if is_subset:\n",
    "    print(\"set2 is a subset of set1\")\n",
    "else:\n",
    "    print(\"set2 is not a subset of set1\")\n"
   ]
  },
  {
   "cell_type": "code",
   "execution_count": 20,
   "id": "40f843e4-5799-48ff-a32f-2cadd6a2c27c",
   "metadata": {},
   "outputs": [
    {
     "name": "stdout",
     "output_type": "stream",
     "text": [
      "{0, 1}\n"
     ]
    }
   ],
   "source": [
    "# 49. Create a set of alternating 1s and 0s of length `n`.\n",
    "\n",
    "def create_alternating_set(n):\n",
    "   \n",
    "    alternating_set = set()\n",
    "\n",
    "    for i in range(n):\n",
    "        \n",
    "        if i % 2 == 0:\n",
    "            alternating_set.add(1)\n",
    "        else:\n",
    "            alternating_set.add(0)  \n",
    "\n",
    "    return alternating_set\n",
    "\n",
    "length_n = 10\n",
    "\n",
    "result = create_alternating_set(length_n)\n",
    "\n",
    "print(result)"
   ]
  },
  {
   "cell_type": "code",
   "execution_count": 21,
   "id": "828bab47-2d7b-480a-b55f-e78fc2565aec",
   "metadata": {},
   "outputs": [
    {
     "name": "stdout",
     "output_type": "stream",
     "text": [
      "Merged Set: {1, 2, 3, 4, 5, 6, 7}\n"
     ]
    }
   ],
   "source": [
    "# 50. Merge multiple sets into one.\n",
    "\n",
    "set1 = {1, 2, 3}\n",
    "set2 = {3, 4, 5}\n",
    "set3 = {5, 6, 7}\n",
    "\n",
    "merged_set = set1.union(set2, set3)\n",
    "\n",
    "print(\"Merged Set:\", merged_set)"
   ]
  },
  {
   "cell_type": "code",
   "execution_count": null,
   "id": "6b937f16-119e-45c7-b3f6-da6867354614",
   "metadata": {},
   "outputs": [],
   "source": []
  }
 ],
 "metadata": {
  "kernelspec": {
   "display_name": "Python 3 (ipykernel)",
   "language": "python",
   "name": "python3"
  },
  "language_info": {
   "codemirror_mode": {
    "name": "ipython",
    "version": 3
   },
   "file_extension": ".py",
   "mimetype": "text/x-python",
   "name": "python",
   "nbconvert_exporter": "python",
   "pygments_lexer": "ipython3",
   "version": "3.10.8"
  }
 },
 "nbformat": 4,
 "nbformat_minor": 5
}
