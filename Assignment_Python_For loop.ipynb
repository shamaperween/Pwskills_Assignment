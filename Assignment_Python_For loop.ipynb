{
 "cells": [
  {
   "cell_type": "code",
   "execution_count": 33,
   "id": "fc6bd73f-bf27-457b-a16f-8bb0cfa59015",
   "metadata": {},
   "outputs": [],
   "source": [
    "                                              # Basic Level "
   ]
  },
  {
   "cell_type": "code",
   "execution_count": 2,
   "id": "8b1e9916-4ac2-4e2d-a233-89409d2234af",
   "metadata": {},
   "outputs": [
    {
     "name": "stdout",
     "output_type": "stream",
     "text": [
      "1\n",
      "2\n",
      "3\n",
      "4\n",
      "5\n",
      "6\n",
      "7\n",
      "8\n",
      "9\n",
      "10\n"
     ]
    }
   ],
   "source": [
    "# Question 1. Write a Python program to print the numbers from 1 to 10 using a `for` loop.\n",
    "for i in range(1, 11):\n",
    "    print(i)"
   ]
  },
  {
   "cell_type": "code",
   "execution_count": 7,
   "id": "e0428c78-078c-4923-85da-4a9f2ae3e60c",
   "metadata": {},
   "outputs": [
    {
     "name": "stdout",
     "output_type": "stream",
     "text": [
      "Sum of all number in a list:  150\n"
     ]
    }
   ],
   "source": [
    "# Question 2. Create a program that calculates the sum of all numbers in a list using a `for` loop.\n",
    "my_list = [10,20,30,40,50]\n",
    "total_sum = 0\n",
    "for my_list in my_list:\n",
    "    total_sum+=my_list\n",
    "print(\"Sum of all number in a list: \",total_sum)\n",
    "    "
   ]
  },
  {
   "cell_type": "code",
   "execution_count": 9,
   "id": "24eff798-7dc2-4619-978d-3f1e017df954",
   "metadata": {},
   "outputs": [
    {
     "name": "stdout",
     "output_type": "stream",
     "text": [
      "The original string is :  hello\n",
      "The reversed string(using loops) is :  ohello\n"
     ]
    }
   ],
   "source": [
    "# Question 3. Write a program to print the characters of a string in reverse order using a `for` loop.\n",
    "\n",
    "def reverse(s):\n",
    "    str = \" \"\n",
    "    for i in s:\n",
    "        str = i + s\n",
    "    return str\n",
    "s = \"hello\"\n",
    "print(\"The original string is : \",s) \n",
    "print(\"The reversed string(using loops) is : \", reverse(s))"
   ]
  },
  {
   "cell_type": "code",
   "execution_count": 16,
   "id": "9cd4f23d-2dea-4d06-8e83-73eacbb536ef",
   "metadata": {},
   "outputs": [
    {
     "name": "stdin",
     "output_type": "stream",
     "text": [
      "Enter the number 0\n"
     ]
    },
    {
     "name": "stdout",
     "output_type": "stream",
     "text": [
      "Factorial of  0 is 1\n"
     ]
    }
   ],
   "source": [
    "# Question 4. Develop a program that finds the factorial of a given number using a `for` loop.\n",
    "number = int(input(\"Enter the number\"))\n",
    "factorial = 1\n",
    "if numner>= 1:\n",
    "    for i in range(1, number+1):\n",
    "        factorial = factorial*i\n",
    "print(\"Factorial of \",number,\"is\",factorial)        "
   ]
  },
  {
   "cell_type": "code",
   "execution_count": 1,
   "id": "0a80ca83-e17d-455f-a93d-acc2d0178999",
   "metadata": {},
   "outputs": [
    {
     "name": "stdin",
     "output_type": "stream",
     "text": [
      "Enter the number here: 4\n"
     ]
    },
    {
     "name": "stdout",
     "output_type": "stream",
     "text": [
      "4 x 1 = 4\n",
      "4 x 2 = 8\n",
      "4 x 3 = 12\n",
      "4 x 4 = 16\n",
      "4 x 5 = 20\n",
      "4 x 6 = 24\n",
      "4 x 7 = 28\n",
      "4 x 8 = 32\n",
      "4 x 9 = 36\n",
      "4 x 10 = 40\n"
     ]
    }
   ],
   "source": [
    "# Question 5. Create a program to print the multiplication table of a given number using a `for` loop.\n",
    "number = int(input(\"Enter the number here:\"))\n",
    "for i in range(1,11):\n",
    "    print(number,\"x\",i, \"=\",number*i)\n"
   ]
  },
  {
   "cell_type": "code",
   "execution_count": 13,
   "id": "227f8638-e050-4e5c-be9e-25c30720113d",
   "metadata": {},
   "outputs": [
    {
     "name": "stdin",
     "output_type": "stream",
     "text": [
      "Enter the number: 18\n"
     ]
    },
    {
     "name": "stdout",
     "output_type": "stream",
     "text": [
      "Even numbers are: \n",
      "2\n",
      "4\n",
      "6\n",
      "8\n",
      "10\n",
      "12\n",
      "14\n",
      "16\n",
      "18\n",
      "\n",
      "Odd number are: \n",
      "1\n",
      "3\n",
      "5\n",
      "7\n",
      "9\n",
      "11\n",
      "13\n",
      "15\n",
      "17\n"
     ]
    }
   ],
   "source": [
    "# Question 6. Write a program that counts the number of even and odd numbers in a list using a `for` loop.\n",
    "number = int(input(\"Enter the number:\"))\n",
    "print(\"Even numbers are: \")\n",
    "for i in range(1, number+1):\n",
    "      if(i%2==0):\n",
    "        print(i)\n",
    "        \n",
    "print(\"\\nOdd number are: \")\n",
    "for i in range(1,number+1):\n",
    "      if(i%2!=0):\n",
    "        print(i)  "
   ]
  },
  {
   "cell_type": "code",
   "execution_count": 17,
   "id": "5b9cfba2-1b7f-415f-a5ef-ecf0e892ece5",
   "metadata": {},
   "outputs": [
    {
     "name": "stdin",
     "output_type": "stream",
     "text": [
      "Enter the number: 4\n"
     ]
    },
    {
     "name": "stdout",
     "output_type": "stream",
     "text": [
      "1 \t 1\n",
      "2 \t 4\n",
      "3 \t 9\n",
      "4 \t 16\n",
      "5 \t 25\n"
     ]
    }
   ],
   "source": [
    "# Question 7. Develop a program that prints the squares of numbers from 1 to 5 using a `for` loop.\n",
    "num = int(input(\"Enter the number:\"))\n",
    "for i in range(1,6):\n",
    "    print(i,'\\t',i**2)"
   ]
  },
  {
   "cell_type": "code",
   "execution_count": 20,
   "id": "d435dcb4-e34f-4bf5-b612-ffce108449b0",
   "metadata": {},
   "outputs": [
    {
     "name": "stdin",
     "output_type": "stream",
     "text": [
      "Enter the string: shama\n"
     ]
    },
    {
     "name": "stdout",
     "output_type": "stream",
     "text": [
      "total number or string: 5\n"
     ]
    }
   ],
   "source": [
    "# Question 8. Create a program to find the length of a string without using the `len()` function.\n",
    "string = input(\"Enter the string:\")\n",
    "count = 0 \n",
    "for i in string:\n",
    "    count = count+1\n",
    "print(\"total number or string:\",count)\n"
   ]
  },
  {
   "cell_type": "code",
   "execution_count": 25,
   "id": "07bc7b78-f605-4916-b88f-063aa345ce95",
   "metadata": {},
   "outputs": [
    {
     "name": "stdout",
     "output_type": "stream",
     "text": [
      "sum: 28\n",
      "count: 7\n",
      "average: 4.0\n"
     ]
    }
   ],
   "source": [
    "# Question 9. Write a program that calculates the average of a list of numbers using a `for` loop.\n",
    "my_list = [1,2,3,4,5,6,7]\n",
    "sum = 0\n",
    "for i in my_list:\n",
    "    sum += i \n",
    "print(f\"sum: {sum}\")\n",
    "print(f\"count: {len(my_list) }\")\n",
    "print(f\"average: {sum/len(my_list) }\")\n"
   ]
  },
  {
   "cell_type": "code",
   "execution_count": 7,
   "id": "60fc9ddf-945e-4be3-95ef-5ac471b689e1",
   "metadata": {},
   "outputs": [
    {
     "name": "stdout",
     "output_type": "stream",
     "text": [
      "[0, 1, 1, 2, 3, 5, 8]\n"
     ]
    }
   ],
   "source": [
    "#Question 10. Develop a program that prints the first `n` Fibonacci numbers using a `for` loop.\n",
    "\n",
    "n1 = 0\n",
    "n2 = 1\n",
    "fibonacci = [n1,n2]\n",
    "for i in range(0,5):\n",
    "    n3 = n1+n2\n",
    "    fibonacci.append(n3)\n",
    "    n1=n2\n",
    "    n2=n3\n",
    "print(fibonacci) "
   ]
  },
  {
   "cell_type": "code",
   "execution_count": 8,
   "id": "d353d997-482f-4423-b2aa-c36ee4361897",
   "metadata": {},
   "outputs": [],
   "source": [
    "                                    #  Intermediate Level"
   ]
  },
  {
   "cell_type": "code",
   "execution_count": 9,
   "id": "f03798e9-e983-43c4-b1d6-fb22fcb978ba",
   "metadata": {},
   "outputs": [
    {
     "name": "stdout",
     "output_type": "stream",
     "text": [
      "[1, 2, 3, 4, 5]\n"
     ]
    }
   ],
   "source": [
    "#Question 11. Write a program to check if a given list contains any duplicates using a `for` loop.\n",
    "my_list = [1,2,1,3,5,4,2,3,4,5,6,7,3]\n",
    "unique = []\n",
    "duplicate = []\n",
    "for i in my_list:\n",
    "    if i not in unique:\n",
    "        unique.append(i)\n",
    "    elif i not in duplicate:\n",
    "        duplicate.append(i)\n",
    "print(duplicate)        \n",
    "\n"
   ]
  },
  {
   "cell_type": "code",
   "execution_count": 39,
   "id": "95fede45-f910-44e1-be31-224a39e7e903",
   "metadata": {},
   "outputs": [
    {
     "name": "stdin",
     "output_type": "stream",
     "text": [
      "Enter the starting range:  20\n",
      "Enter the ending range:  50\n"
     ]
    },
    {
     "name": "stdout",
     "output_type": "stream",
     "text": [
      "23\n",
      "29\n",
      "31\n",
      "37\n",
      "41\n",
      "43\n",
      "47\n"
     ]
    }
   ],
   "source": [
    "# Question 12. Create a program that prints the prime numbers in a given range using a `for` loop.\n",
    "\n",
    "start_range = int(input(\"Enter the starting range: \"))\n",
    "end_range = int(input(\"Enter the ending range: \"))\n",
    "\n",
    "for i in range(start_range,end_range+1):\n",
    "    \n",
    "    if i >1: \n",
    "        for j in range(2,i):\n",
    "            if i%j==0:\n",
    "                break\n",
    "        else: \n",
    "            print(i)\n",
    "            \n",
    "    \n"
   ]
  },
  {
   "cell_type": "code",
   "execution_count": 42,
   "id": "57110748-62b7-4520-9b2d-5957af5676fa",
   "metadata": {},
   "outputs": [
    {
     "name": "stdin",
     "output_type": "stream",
     "text": [
      "Enter the string here:  shama\n"
     ]
    },
    {
     "name": "stdout",
     "output_type": "stream",
     "text": [
      "shama\n",
      "number of vowels in given string is:  2\n"
     ]
    }
   ],
   "source": [
    "# Question 13. Develop a program that counts the number of vowels in a string using a `for` loop.\n",
    "\n",
    "my_string = input(\"Enter the string here: \")\n",
    "my_string = my_string.lower()\n",
    "print(my_string)\n",
    "count = 0 \n",
    "list1 = [\"a\",\"e\",\"i\",\"o\",\"u\"]\n",
    "for i in my_string:\n",
    "    if i in list1:\n",
    "        count = count+1\n",
    "print(\"number of vowels in given string is: \",count)        "
   ]
  },
  {
   "cell_type": "code",
   "execution_count": null,
   "id": "382af5d8-4e87-4cdb-b140-fad40c4fa9f5",
   "metadata": {},
   "outputs": [],
   "source": [
    "# Question 14. Write a program to find the maximum element in a 2D list using a nested `for` loop.\n",
    "\n"
   ]
  },
  {
   "cell_type": "code",
   "execution_count": 9,
   "id": "58693e98-63e8-4203-9799-3b6ff06cfda8",
   "metadata": {},
   "outputs": [
    {
     "name": "stdout",
     "output_type": "stream",
     "text": [
      "[12, 23, 10, 20, 30]\n",
      "[12, 23, 20, 30]\n"
     ]
    }
   ],
   "source": [
    "# Question 15.Create a program that removes all occurrences of a specific element from a list using a `for` loop.\n",
    "\n",
    "my_list = [10,12,23,10,20,30]\n",
    "n = 10\n",
    "for i in my_list:\n",
    "    if i == n:\n",
    "        my_list.remove(i)\n",
    "        print(my_list)"
   ]
  },
  {
   "cell_type": "code",
   "execution_count": 27,
   "id": "6442c7b7-4892-4d06-b1e4-e7391fb4c5e4",
   "metadata": {},
   "outputs": [
    {
     "name": "stdout",
     "output_type": "stream",
     "text": [
      "\t\t\t#Multipication Tablels\n",
      "\n",
      "1\t2\t3\t4\t5\t\n",
      "_____________________________________\n",
      "\n",
      "1\t2\t3\t4\t5\t\n",
      "\n",
      "2\t4\t6\t8\t10\t\n",
      "\n",
      "3\t6\t9\t12\t15\t\n",
      "\n",
      "4\t8\t12\t16\t20\t\n",
      "\n",
      "5\t10\t15\t20\t25\t\n",
      "\n",
      "6\t12\t18\t24\t30\t\n",
      "\n",
      "7\t14\t21\t28\t35\t\n",
      "\n",
      "8\t16\t24\t32\t40\t\n",
      "\n",
      "9\t18\t27\t36\t45\t\n",
      "\n",
      "10\t20\t30\t40\t50\t\n",
      "\n"
     ]
    }
   ],
   "source": [
    "# Question 16. Develop a program that generates a multiplication table for numbers from 1 to 5 using a nested `for` loop.\n",
    "\n",
    "print(\"\\t\\t\\t#Multipication Tablels\\n\")\n",
    "\n",
    "for i in range(1,6):\n",
    "    print(i, end= \"\\t\")\n",
    "print()\n",
    "print(\"_____________________________________\\n\")\n",
    "\n",
    "for j in range(1,11):\n",
    "    for k in range(1,6):\n",
    "        print(j*k,end =\"\\t\")\n",
    "    print(\"\\n\")    "
   ]
  },
  {
   "cell_type": "code",
   "execution_count": 32,
   "id": "f5b7dfca-8bb5-4fc0-8957-a4fa3438610a",
   "metadata": {},
   "outputs": [
    {
     "name": "stdin",
     "output_type": "stream",
     "text": [
      "Temperature value in degree Fahrenheit:  32\n"
     ]
    },
    {
     "name": "stdout",
     "output_type": "stream",
     "text": [
      "0.0\n"
     ]
    }
   ],
   "source": [
    "#Question 17. Write a program that converts a list of Fahrenheit temperatures to Celsius using a `for` loop.\n",
    "Fahrenheit_1 = float( input(\"Temperature value in degree Fahrenheit: \" ))\n",
    "celsius_1 = (Fahrenheit_1 - 32) / 1.8\n",
    "print(celsius_1)\n",
    "    \n"
   ]
  },
  {
   "cell_type": "code",
   "execution_count": 34,
   "id": "209e53f2-db3b-4421-9165-9bf0f41102b5",
   "metadata": {},
   "outputs": [
    {
     "name": "stdout",
     "output_type": "stream",
     "text": [
      "The common elements are:  [1, 3, 4, 5, 6]\n"
     ]
    }
   ],
   "source": [
    "# Question 18. Create a program to print the common elements from two lists using a `for` loop.\n",
    "\n",
    "my_list1 = [1,2,3,4,5,6]\n",
    "my_list2= [1,5,6,7,4,3,6]\n",
    "comm_list = []\n",
    "for i in my_list1:\n",
    "    if i in my_list2:\n",
    "        comm_list.append(i)\n",
    "print(\"The common elements are: \",comm_list)        "
   ]
  },
  {
   "cell_type": "code",
   "execution_count": 37,
   "id": "b342cd5a-d363-4275-8b72-17651b4a5a2a",
   "metadata": {},
   "outputs": [
    {
     "name": "stdin",
     "output_type": "stream",
     "text": [
      "Enter the number of rows:  7\n"
     ]
    },
    {
     "name": "stdout",
     "output_type": "stream",
     "text": [
      "*\n",
      "**\n",
      "***\n",
      "****\n",
      "*****\n",
      "******\n",
      "*******\n"
     ]
    }
   ],
   "source": [
    "# Question 19. Develop a program that prints the pattern of right-angled triangles using a `for` loop. Use ‘*’ to draw the\n",
    "number = int(input(\"Enter the number of rows: \"))\n",
    "for i in range(1,number+1):\n",
    "    for j in range(1,i+1):\n",
    "        print('*',end='')\n",
    "    print()    "
   ]
  },
  {
   "cell_type": "code",
   "execution_count": 39,
   "id": "743fb1ea-d8f1-4fee-a2a4-0c2ce283f703",
   "metadata": {},
   "outputs": [
    {
     "name": "stdout",
     "output_type": "stream",
     "text": [
      "the gcd of the given two number is:  6\n"
     ]
    }
   ],
   "source": [
    "# Question 20. Write a program to find the greatest common divisor (GCD) of two numbers using a `for` loop.\n",
    "def findGCD(x,y):\n",
    "    if x>y:\n",
    "        smaller = y \n",
    "    else:\n",
    "        smaller = x\n",
    "    for i in range(1,smaller+1):\n",
    "        if((x%i == 0) and (y%i == 0)):\n",
    "            gcd = i \n",
    "    return gcd\n",
    "print(\"the gcd of the given two number is: \",findGCD(12,30))"
   ]
  },
  {
   "cell_type": "code",
   "execution_count": 1,
   "id": "f3491208-b38d-4081-848c-ca33d349c4e0",
   "metadata": {},
   "outputs": [],
   "source": [
    "                                                 # Advanced Level"
   ]
  },
  {
   "cell_type": "code",
   "execution_count": 4,
   "id": "e88a21ff-7631-44d0-9685-5b27c0c16b2f",
   "metadata": {},
   "outputs": [
    {
     "name": "stdout",
     "output_type": "stream",
     "text": [
      "sum of digits of number: 20\n"
     ]
    }
   ],
   "source": [
    "# Question 21. Create a program that calculates the sum of the digits of numbers in a list using a list comprehension.\n",
    "\n",
    "my_list = [2,3,4,5,6]\n",
    "total_sum = [i for i in my_list]\n",
    "print(\"sum of digits of number:\",sum(total_sum))\n"
   ]
  },
  {
   "cell_type": "code",
   "execution_count": 12,
   "id": "9722fd3f-ab2d-4bce-b879-ceb5788d7714",
   "metadata": {},
   "outputs": [
    {
     "name": "stdin",
     "output_type": "stream",
     "text": [
      "Enter the number:  30\n"
     ]
    },
    {
     "name": "stdout",
     "output_type": "stream",
     "text": [
      "[2, 3, 5, 7, 11, 13, 17, 19, 23, 29]\n"
     ]
    }
   ],
   "source": [
    "# Question 22. Write a program to find the prime factors of a given number using a `for` loop and list comprehension.\n",
    "value = int(input(\"Enter the number: \"))\n",
    "prime_factor = [x for x in range(2,value+1) if  all(x%y !=0 for y in range(2,x))]\n",
    "print(prime_factor)"
   ]
  },
  {
   "cell_type": "code",
   "execution_count": 18,
   "id": "f4cdf886-dd7e-436f-b44e-00c3041e76d2",
   "metadata": {},
   "outputs": [
    {
     "name": "stdout",
     "output_type": "stream",
     "text": [
      "This is origanal list:  [1, 1, 2, 2, 3, 3, 4, 5]\n",
      "Unique list is here :  [1, 2, 3, 4, 5]\n"
     ]
    }
   ],
   "source": [
    "# Question 23. Develop a program that extracts unique elements from a list and stores them in a new list using a list\n",
    "\n",
    "my_list = [1,1,2,2,3,3,4,5]\n",
    "print(\"This is origanal list: \",my_list)\n",
    "unique_list = []\n",
    "[unique_list.append(i) for i in my_list if i not in unique_list ]\n",
    "print(\"Unique list is here : \",unique_list)\n"
   ]
  },
  {
   "cell_type": "code",
   "execution_count": 3,
   "id": "f812c80c-a355-47ce-82ea-ffba3c7ca3a4",
   "metadata": {},
   "outputs": [
    {
     "name": "stdout",
     "output_type": "stream",
     "text": [
      "List of all palindromic numbers:  [101, 111, 121, 131, 141, 151, 161, 171, 181, 191, 202, 212, 222, 232, 242, 252, 262, 272, 282, 292, 303, 313, 323, 333, 343, 353, 363, 373, 383, 393, 404, 414, 424, 434, 444, 454, 464, 474, 484, 494, 505, 515, 525, 535, 545, 555, 565, 575, 585, 595, 606, 616, 626, 636, 646, 656, 666, 676, 686, 696, 707, 717, 727, 737, 747, 757, 767, 777, 787, 797, 808, 818, 828, 838, 848, 858, 868, 878, 888, 898, 909, 919, 929, 939, 949, 959, 969, 979, 989, 999]\n"
     ]
    }
   ],
   "source": [
    "# Question 24 . Create a program that generates a list of all palindromic numbers up to a specified limit using a list\n",
    "\n",
    "palindromic = [int(\"%d%d%d\" % (x,y,x)) for x in range(1,10) for y in range(10)]\n",
    "print(\"List of all palindromic numbers: \",palindromic)"
   ]
  },
  {
   "cell_type": "code",
   "execution_count": 5,
   "id": "6e6c0a72-7f43-4671-8e19-a3e3d44aac17",
   "metadata": {},
   "outputs": [
    {
     "name": "stdout",
     "output_type": "stream",
     "text": [
      "[1, 2, 2, 3, 5, 4]\n"
     ]
    }
   ],
   "source": [
    "# Question 25. Write a program to flatten a nested list using list comprehension.\n",
    "\n",
    "nasted_list = [[1,2],[2,3],[5,4]]\n",
    "flatten_list = [i for sub_list in nasted_list for i in sub_list]\n",
    "print(flatten_list)\n"
   ]
  },
  {
   "cell_type": "code",
   "execution_count": 21,
   "id": "419b83ef-e238-47a1-8b1f-4b09120a71e4",
   "metadata": {},
   "outputs": [
    {
     "ename": "SyntaxError",
     "evalue": "invalid syntax (131791698.py, line 9)",
     "output_type": "error",
     "traceback": [
      "\u001b[0;36m  Cell \u001b[0;32mIn[21], line 9\u001b[0;36m\u001b[0m\n\u001b[0;31m    for odd in [i for i in lst if i%2! == 0]:\u001b[0m\n\u001b[0m                                     ^\u001b[0m\n\u001b[0;31mSyntaxError\u001b[0m\u001b[0;31m:\u001b[0m invalid syntax\n"
     ]
    }
   ],
   "source": [
    "# Question 26. Develop a program that computes the sum of even and odd numbers in a list separately using list\n",
    "lst = [1,2,3,4,5,6,7]\n",
    "sum_even   = 0\n",
    "sum_odd = 0\n",
    "for even in [i for i in lst if i%2 == 0]:\n",
    "     sum_even += even\n",
    "print(sum_even)\n",
    "\n",
    "for odd in [i for i in lst if i%2! == 0]:\n",
    "    sum_odd += odd\n",
    "print(sum_odd)    \n"
   ]
  },
  {
   "cell_type": "code",
   "execution_count": 22,
   "id": "eafcf6e0-a0a6-4116-aa40-b0cb9039c773",
   "metadata": {},
   "outputs": [
    {
     "name": "stdout",
     "output_type": "stream",
     "text": [
      "[1, 9, 25, 49, 81]\n"
     ]
    }
   ],
   "source": [
    "# Question 27. Create a program that generates a list of squares of odd numbers between 1 and 10 using list\n",
    "result = [i*i for i in range(1,11) if i%2 != 0]\n",
    "print(result)"
   ]
  },
  {
   "cell_type": "code",
   "execution_count": 23,
   "id": "5ad3da39-a92c-4b39-af4b-2002d08aa011",
   "metadata": {},
   "outputs": [
    {
     "name": "stdout",
     "output_type": "stream",
     "text": [
      "{'shama': 1, 'sakshi': 2, 'akanksha': 3}\n"
     ]
    }
   ],
   "source": [
    "# Question 28. Write a program that combines two lists into a dictionary using list comprehension.\n",
    "my_list1 = [\"shama\",\"sakshi\",\"akanksha\"]\n",
    "my_list2 = [1,2,3]\n",
    "dictionary = {my_list1[i] : my_list[i] for i in range(len(my_list1))}\n",
    "print(dictionary)"
   ]
  },
  {
   "cell_type": "code",
   "execution_count": 37,
   "id": "9e9636e1-a324-40f3-a524-4496b79ce361",
   "metadata": {},
   "outputs": [
    {
     "name": "stdout",
     "output_type": "stream",
     "text": [
      "aeiiaiaoaiaaoaeeeoe\n",
      "['a', 'e', 'i', 'i', 'a', 'i', 'a', 'o', 'a', 'i', 'a', 'a', 'o', 'a', 'e', 'e', 'e', 'o', 'e']\n"
     ]
    }
   ],
   "source": [
    "# Question 29. Develop a program that extracts the vowels from a string and stores them in a list using list comprehension.\n",
    "my_string = \"My name is Vishvajit Rao and i am a software developer\"\n",
    "vowel = ['a','e','i','o','u']\n",
    "extract_vowel = [i for i in my_string if i in vowel]\n",
    "print(''.join(extract_vowel))\n",
    "print(extract_vowel)"
   ]
  },
  {
   "cell_type": "code",
   "execution_count": 1,
   "id": "dd9c631d-4390-411f-8db7-803c6b1101d9",
   "metadata": {},
   "outputs": [
    {
     "name": "stdout",
     "output_type": "stream",
     "text": [
      "123\n"
     ]
    }
   ],
   "source": [
    "# Question 30. Create a program that removes all non-numeric characters from a list of strings using list comprehension.\n",
    "my_string = \"bo_1bby_2_ha_3_dz.com\"\n",
    "result = ''.join(char for char in my_string if char.isdigit())\n",
    "print(result)"
   ]
  },
  {
   "cell_type": "code",
   "execution_count": 2,
   "id": "4a608797-c436-4ce7-b16c-2e5ed342517f",
   "metadata": {},
   "outputs": [],
   "source": [
    "                                            # Challenge Level:"
   ]
  },
  {
   "cell_type": "code",
   "execution_count": 3,
   "id": "8368895b-74e2-41dc-82f8-b449cb982aad",
   "metadata": {},
   "outputs": [
    {
     "name": "stdin",
     "output_type": "stream",
     "text": [
      "Enter the number till witch we want to print the primes 50\n"
     ]
    },
    {
     "name": "stdout",
     "output_type": "stream",
     "text": [
      "2 3 4 5 6 7 8 9 10 11 12 13 14 15 16 17 18 19 20 21 22 23 24 25 26 27 28 29 30 31 32 33 34 35 36 37 38 39 40 41 42 43 44 45 46 47 48 49 50 "
     ]
    }
   ],
   "source": [
    "#Question 31. Write a program to generate a list of prime numbers using the Sieve of Eratosthenes algorithm and list\n",
    "#comprehension.\n",
    "\n",
    "def prime_sieve(n):\n",
    "    prime =[0 for i in range(101)]\n",
    "    for i in range(2,n+1):\n",
    "        if prime[i]==0:\n",
    "            for j in range(i*i,n+1,i):\n",
    "                prime[j]=1\n",
    "    for i in range(2,n+1):\n",
    "        if prime[i]==0:\n",
    "            print(i, end=' ')\n",
    "rag = int(input(\"Enter the number till witch we want to print the primes: \"))\n",
    "prime_sieve(rag)"
   ]
  },
  {
   "cell_type": "code",
   "execution_count": 1,
   "id": "d1b9f438-2a1d-4b6c-adcb-586d97ec6f5b",
   "metadata": {},
   "outputs": [
    {
     "name": "stdin",
     "output_type": "stream",
     "text": [
      "Enter the value of n:  12\n"
     ]
    },
    {
     "name": "stdout",
     "output_type": "stream",
     "text": [
      "[(3, 4, 5), (6, 8, 10)]\n"
     ]
    }
   ],
   "source": [
    "# Question 32. Create a program that generates a list of all Pythagorean triplets up to a specified limit using list\n",
    "#comprehension.\n",
    "\n",
    "n = int(input('Enter the value of n: '))\n",
    "print([(a, b, c) for a in range(1, n + 1) for b in range(a, n + 1)\n",
    "       for c in range(b, n + 1) if a**2 + b**2 == c**2])"
   ]
  },
  {
   "cell_type": "code",
   "execution_count": 2,
   "id": "681ad3d8-ce9c-4124-b986-50709dd3a3db",
   "metadata": {},
   "outputs": [
    {
     "name": "stdout",
     "output_type": "stream",
     "text": [
      "[('b', 1), ('b', 4), ('b', 9), ('c', 1), ('c', 4), ('c', 9), ('d', 1), ('d', 4), ('d', 9)]\n"
     ]
    }
   ],
   "source": [
    "#Question 33. Develop a program that generates a list of all possible combinations of two lists using list comprehension.\n",
    "\n",
    "list_1 = [\"b\", \"c\", \"d\"]\n",
    "list_2 = [1, 4, 9]\n",
    "\n",
    "unique_combinations = []\n",
    "\n",
    "for i in range(len(list_1)):\n",
    "\tfor j in range(len(list_2)):\n",
    "\t\tunique_combinations.append((list_1[i], list_2[j]))\n",
    "\n",
    "print(unique_combinations)\n",
    "\n"
   ]
  },
  {
   "cell_type": "code",
   "execution_count": 7,
   "id": "07ac9c40-ca1f-40b2-9c2f-2b8561ab9eb9",
   "metadata": {},
   "outputs": [
    {
     "name": "stdout",
     "output_type": "stream",
     "text": [
      "[10, 12, 14, 15, 16, 18]\n",
      "Mean of the above list of numbers is:  14.166666666666666\n"
     ]
    }
   ],
   "source": [
    "#Question 34. Write a program that calculates the mean, median, and mode of a list of numbers using list\n",
    "#Finding Mean\n",
    "my_list = [10,12,14,15,16,18]\n",
    "num_sum = sum(my_list)\n",
    "mean = num_sum / len(my_list)\n",
    "print(my_list)\n",
    "print(\"Mean of the above list of numbers is: \" ,mean)\n"
   ]
  },
  {
   "cell_type": "code",
   "execution_count": 8,
   "id": "68aed0b1-4f43-4d7c-a33d-7cd8179ab8f6",
   "metadata": {},
   "outputs": [],
   "source": [
    "# Findind median\n",
    "my_list = [10,20,30,40,50]\n"
   ]
  },
  {
   "cell_type": "code",
   "execution_count": null,
   "id": "b8ca4246-2367-4b39-b44f-1e45b35b954d",
   "metadata": {},
   "outputs": [],
   "source": [
    "#Question35 Create a program that generates Pascal's triangle up to a specified number of rows using list comprehension.\n",
    " "
   ]
  }
 ],
 "metadata": {
  "kernelspec": {
   "display_name": "Python 3 (ipykernel)",
   "language": "python",
   "name": "python3"
  },
  "language_info": {
   "codemirror_mode": {
    "name": "ipython",
    "version": 3
   },
   "file_extension": ".py",
   "mimetype": "text/x-python",
   "name": "python",
   "nbconvert_exporter": "python",
   "pygments_lexer": "ipython3",
   "version": "3.10.8"
  }
 },
 "nbformat": 4,
 "nbformat_minor": 5
}
